{
 "cells": [
  {
   "cell_type": "markdown",
   "metadata": {
    "id": "7hz8-E1O1ME3"
   },
   "source": [
    "# Problem 2."
   ]
  },
  {
   "cell_type": "markdown",
   "metadata": {
    "id": "GRq03BP3tON5"
   },
   "source": [
    "In this homework you need to implement some of the models that we have seen, and measure experimentally some of the graph properties. Of course, each model has its own parameters."
   ]
  },
  {
   "cell_type": "markdown",
   "metadata": {
    "id": "2SN5ijMAW_eP"
   },
   "source": [
    "## Installing additional libraries"
   ]
  },
  {
   "cell_type": "code",
   "execution_count": 1,
   "metadata": {
    "colab": {
     "base_uri": "https://localhost:8080/",
     "height": 0
    },
    "executionInfo": {
     "elapsed": 4987,
     "status": "ok",
     "timestamp": 1653046621084,
     "user": {
      "displayName": "mario edoardo pandolfo",
      "userId": "12743341317218556392"
     },
     "user_tz": -120
    },
    "id": "V-f5oCKiW5Cl",
    "outputId": "73742d3e-83ea-482f-89da-58fb28c79950",
    "scrolled": true
   },
   "outputs": [
    {
     "name": "stdout",
     "output_type": "stream",
     "text": [
      "Requirement already satisfied: networkx in /usr/local/lib/python3.7/dist-packages (2.6.3)\n",
      "Requirement already satisfied: scipy in /usr/local/lib/python3.7/dist-packages (1.4.1)\n",
      "Requirement already satisfied: matplotlib in /usr/local/lib/python3.7/dist-packages (3.2.2)\n",
      "Requirement already satisfied: tqdm in /usr/local/lib/python3.7/dist-packages (4.64.0)\n",
      "Requirement already satisfied: pandas in /usr/local/lib/python3.7/dist-packages (1.3.5)\n",
      "Requirement already satisfied: numpy>=1.13.3 in /usr/local/lib/python3.7/dist-packages (from scipy) (1.21.6)\n",
      "Requirement already satisfied: python-dateutil>=2.1 in /usr/local/lib/python3.7/dist-packages (from matplotlib) (2.8.2)\n",
      "Requirement already satisfied: pyparsing!=2.0.4,!=2.1.2,!=2.1.6,>=2.0.1 in /usr/local/lib/python3.7/dist-packages (from matplotlib) (3.0.9)\n",
      "Requirement already satisfied: cycler>=0.10 in /usr/local/lib/python3.7/dist-packages (from matplotlib) (0.11.0)\n",
      "Requirement already satisfied: kiwisolver>=1.0.1 in /usr/local/lib/python3.7/dist-packages (from matplotlib) (1.4.2)\n",
      "Requirement already satisfied: typing-extensions in /usr/local/lib/python3.7/dist-packages (from kiwisolver>=1.0.1->matplotlib) (4.2.0)\n",
      "Requirement already satisfied: six>=1.5 in /usr/local/lib/python3.7/dist-packages (from python-dateutil>=2.1->matplotlib) (1.15.0)\n",
      "Requirement already satisfied: pytz>=2017.3 in /usr/local/lib/python3.7/dist-packages (from pandas) (2022.1)\n"
     ]
    }
   ],
   "source": [
    "!pip install networkx scipy matplotlib tqdm pandas"
   ]
  },
  {
   "cell_type": "markdown",
   "metadata": {
    "id": "tFeGIEVGXE_A"
   },
   "source": [
    "## Importing the needed libraries"
   ]
  },
  {
   "cell_type": "code",
   "execution_count": 2,
   "metadata": {
    "executionInfo": {
     "elapsed": 1051,
     "status": "ok",
     "timestamp": 1653046622130,
     "user": {
      "displayName": "mario edoardo pandolfo",
      "userId": "12743341317218556392"
     },
     "user_tz": -120
    },
    "id": "8zMmvAnQXMiK"
   },
   "outputs": [],
   "source": [
    "import networkx as nx\n",
    "import pandas as pd\n",
    "import random\n",
    "import matplotlib.pyplot as plt\n",
    "import numpy as np\n",
    "import time\n",
    "from tqdm.notebook import tqdm\n",
    "from scipy import stats\n",
    "from networkx.algorithms.approximation import diameter, average_clustering"
   ]
  },
  {
   "cell_type": "markdown",
   "metadata": {
    "id": "9sGu_3WKXN6H"
   },
   "source": [
    "## Implementing the two types of graph model."
   ]
  },
  {
   "cell_type": "code",
   "execution_count": 3,
   "metadata": {
    "executionInfo": {
     "elapsed": 7,
     "status": "ok",
     "timestamp": 1653046622130,
     "user": {
      "displayName": "mario edoardo pandolfo",
      "userId": "12743341317218556392"
     },
     "user_tz": -120
    },
    "id": "lVZWpoRWeBwo"
   },
   "outputs": [],
   "source": [
    "def ER_graph(n, p):\n",
    "    '''Create and initialize a graph following the Erdos Renyi Graph Model\n",
    "    \n",
    "    Parameters:\n",
    "    - n: number of nodes\n",
    "    - p: a value between 0 and 1, it rappresents the probability for which an edge exists\n",
    "    '''\n",
    "    # Create a graph\n",
    "    g = nx.Graph()\n",
    "    \n",
    "    # Adding all the nodes to the graph g\n",
    "    g.add_nodes_from(list(range(1, n+1)))\n",
    "    \n",
    "    # Adding random edges using as probability p\n",
    "    for i in tqdm(range(1, n+1)):\n",
    "        for j in range(i+1, n+1):\n",
    "            if random.uniform(0, 1) <= p: g.add_edge(i, j)\n",
    "    \n",
    "    return g        \n",
    "                \n",
    "def PA_graph(n, l):\n",
    "    '''Create and initialize a graph following the Barabasi Albert Graph Model\n",
    "    \n",
    "    Parameters:\n",
    "    - n: number of nodes\n",
    "    - l: number of neighbors that a newly arrived node comes with.\n",
    "    '''\n",
    "    if l < 1 or l >= n:\n",
    "        raise nx.NetworkXError(\"A PA model must have l>=1 and l < n\")\n",
    "    \n",
    "    # Create a graph\n",
    "    g = nx.Graph()\n",
    "    \n",
    "    # Adding the first l nodes to the graph g\n",
    "    g.add_nodes_from(list(range(1, l+1)))\n",
    "    \n",
    "    for i in tqdm(range(1, n+1)):\n",
    "        \n",
    "        if i <= l:\n",
    "            for j in range(i+1, l+1):\n",
    "                # Connect the first l nodes between them self\n",
    "                g.add_edge(i, j)\n",
    "        else:\n",
    "            degrees = np.array(list(dict(g.degree()).values()))\n",
    "        \n",
    "            probabilities = degrees / sum(degrees)\n",
    "        \n",
    "            nodes = np.array(list(g.nodes()))\n",
    "        \n",
    "            # we add the new node to the graph\n",
    "            g.add_node(i)\n",
    "        \n",
    "            distr = stats.rv_discrete(name='custm', values=(nodes, probabilities))\n",
    "            new_edges = list(set(distr.rvs(size = l)))\n",
    "        \n",
    "            # we add an edge of the type (i, elem)\n",
    "            for elem in new_edges:\n",
    "                g.add_edge(i, elem)\n",
    "\n",
    "    return g"
   ]
  },
  {
   "cell_type": "markdown",
   "metadata": {
    "id": "wg9n-qpDFyUV"
   },
   "source": [
    "## Running different parameters' combinations"
   ]
  },
  {
   "cell_type": "code",
   "execution_count": 4,
   "metadata": {
    "colab": {
     "base_uri": "https://localhost:8080/",
     "height": 551,
     "referenced_widgets": [
      "acd6e8fc6cef46c29f8d7faf5d8d6542",
      "19ebbf2415a945c1bcdfc405c7526793",
      "45fc3083549743d6839580c295815ea3",
      "4a604e0397ef47228ce4efc22be84385",
      "c987e66f53984ef69c3c071ff3b58af1",
      "a7165e0aa0a24317944d37c4fb8e44b4",
      "14c49a631ff74a20afa592f28b02635f",
      "9724035c3424454f9bd6bdaa9f267a04",
      "52bc2a3779b144bf851b9f34155c8bc1",
      "adcdb3008cbb416eaf4165286c2462e2",
      "0b63225fe1d646da8f9a5959452d8548",
      "a6680f2483654d96981ba415f721cfff",
      "a5cb22b96f4145aaa47c671f1718e977",
      "32a0e00977ce4a579c5671b082d556af",
      "73e4db95e0fb4a5b9ea523c6ae439650",
      "0a48b190d50f43989f090ec4177783db",
      "6668024cc28d4a7b82a3c9cb2cada107",
      "d08f7ba00bb64296a3d3b4ea8de0cf36",
      "b504855d1b804ec19ffadc133065a95b",
      "258669b29c9e4d7cabdc7e3ee53c0a37",
      "97b8a4cfc0294314bc2914c503acd5f5",
      "b98a45f1f3cf4057bca9b51fb6e38db7",
      "8cc65ce6a6dc4784bd4a90018c462caf",
      "b9604bf2ec114662a7e6e059be464e2e",
      "5d54c6c7c8224d0cb321f591ec36a378",
      "091bcc2cf5144cbcb4d569e05fab64ea",
      "5030695365914c689cda6d25189dbc4b",
      "2545f129c78b4dce80828c0d356468c4",
      "70e49497eeb3405fb2dabb44890c990d",
      "400fe7a92e0e405e8884312b298cbfba",
      "ccf71fb474294b26874b8ad605c6b0a1",
      "64ad557926cd441cbe7485cd2e513a8a",
      "12fbd7dda04e4d9ba18de0fd209784b7",
      "60d708afe2a64021941e859a0d77ad37",
      "363d2b8bc61844749adfb575fb82ae9f",
      "ddf26df706de476aac418720dbfd2126",
      "38991719f5a04273aa58b533e78d2f70",
      "0dc7c7bf8f43499ca6df60d921501873",
      "6b3aa02b89b34f6b9f4cffa815cddea1",
      "b4d908a3696b46eca083512a157c1e42",
      "20945d41dfce49019d2e37e4248a8a53",
      "272b19e841594e309bdb041863c9f9ae",
      "ae0700837e0242f1b60cc247d5991ac4",
      "3eac3d9b53b7489da78070d23a5e4f04",
      "fc9638b2d5744de3b15a1a46447bd32c",
      "cbc56f7d5504472a9c7c437265108369",
      "3d54fee9d2ef4390b9f63af5b92b58eb",
      "5e78f5479b4c4e64ad9e4613c5ab09ca",
      "509361b7a4264048845345e674f24549",
      "e13df857e8f6458996e6a6bf32f2020d",
      "9ced9ea79cda4561af67d317685cf942",
      "7d08e394513647e2b9cc3ee1833ccf97",
      "0ea5fa64e26f419287502690c22e0d4c",
      "913acd1b9e21493f9caf98714693a5d7",
      "f02b8f40c7554770ab6e41cabcd9e75e",
      "3049ae3bb781427dae7f6afdf8793293",
      "e2702ae9d11b41a8bfae0cc75651f166",
      "7a16e8732295423fa1edc4a8904adb83",
      "9d33190e0809449c963e7e842852f27a",
      "99681d09b2024325b7d53819d3bcca38",
      "d7cb699f87894e8585c36a2ec320f646",
      "910821af6d264dc8b5df2dc07d1a8f46",
      "25f1a8e31608486c8371b35eba7db530",
      "f96ba6ffef1541e1963807bf043c8898",
      "1eafba457d1045c49ec53e37d36f0c02",
      "941d4fccbfb54421b4faf4015bac2d1d",
      "e91aa3d8804f49919526e64991e06332",
      "cb43113b30954feebf6055315162f70b",
      "e818c1488a514e849a7d8d5d65d59763",
      "b3970beb9fe540d3bbf52de0ad96f3f0",
      "a2e013c75a1b4fdb842adb5140c0a74d",
      "b9e89b7628f54bc2a2d29f63fbe5b2ea",
      "703ec9430df1439c9e695f7285aacff1",
      "59cfc4b16ccc43a19319460c00ebafa9",
      "b929d52e13e54889838e5ba61995880a",
      "994145c0fcd945c2b2240ad8288d91d8",
      "56d1a26ef96b4229a574c6cf4d78c79b",
      "f12a3f81e7164d0a94cd197c670648a2",
      "82ff48ded2e849c280642636a73a01b8",
      "312522d77c624aafb929bbbb2c627535",
      "2e02839b35114826a8d6bb71688ed303",
      "28b6deb0b98a4c9a8179dcafadc0d458",
      "cf8455602994408f8988c498a77c8d98",
      "a008fad2d1d1437398224650a2ca72bf",
      "2bb9371bf95c4f539a82855ddb5b1b93",
      "6100f64a83fc4abda7abf9c4aeb082cb",
      "63832bd68d564d898adee222787c07ae",
      "485345d3a6cf49cc91cfb415d2a10135"
     ]
    },
    "executionInfo": {
     "elapsed": 5820462,
     "status": "ok",
     "timestamp": 1653052442587,
     "user": {
      "displayName": "mario edoardo pandolfo",
      "userId": "12743341317218556392"
     },
     "user_tz": -120
    },
    "id": "d-KbqtCuFyUX",
    "outputId": "fd7395d0-2c66-4d1f-e7e7-6c5a42b89e29",
    "scrolled": true
   },
   "outputs": [
    {
     "name": "stdout",
     "output_type": "stream",
     "text": [
      "--- Starting Simulations ---\n",
      "\n",
      "\n",
      "- Erdos Renyi models -\n",
      "Simulation 1:\n"
     ]
    },
    {
     "data": {
      "application/vnd.jupyter.widget-view+json": {
       "model_id": "acd6e8fc6cef46c29f8d7faf5d8d6542",
       "version_major": 2,
       "version_minor": 0
      },
      "text/plain": [
       "  0%|          | 0/20000 [00:00<?, ?it/s]"
      ]
     },
     "metadata": {},
     "output_type": "display_data"
    },
    {
     "name": "stdout",
     "output_type": "stream",
     "text": [
      "Simulation 2:\n"
     ]
    },
    {
     "data": {
      "application/vnd.jupyter.widget-view+json": {
       "model_id": "a6680f2483654d96981ba415f721cfff",
       "version_major": 2,
       "version_minor": 0
      },
      "text/plain": [
       "  0%|          | 0/50000 [00:00<?, ?it/s]"
      ]
     },
     "metadata": {},
     "output_type": "display_data"
    },
    {
     "name": "stdout",
     "output_type": "stream",
     "text": [
      "Simulation 3:\n"
     ]
    },
    {
     "data": {
      "application/vnd.jupyter.widget-view+json": {
       "model_id": "8cc65ce6a6dc4784bd4a90018c462caf",
       "version_major": 2,
       "version_minor": 0
      },
      "text/plain": [
       "  0%|          | 0/20000 [00:00<?, ?it/s]"
      ]
     },
     "metadata": {},
     "output_type": "display_data"
    },
    {
     "name": "stdout",
     "output_type": "stream",
     "text": [
      "Simulation 4:\n"
     ]
    },
    {
     "data": {
      "application/vnd.jupyter.widget-view+json": {
       "model_id": "60d708afe2a64021941e859a0d77ad37",
       "version_major": 2,
       "version_minor": 0
      },
      "text/plain": [
       "  0%|          | 0/50000 [00:00<?, ?it/s]"
      ]
     },
     "metadata": {},
     "output_type": "display_data"
    },
    {
     "name": "stdout",
     "output_type": "stream",
     "text": [
      "\n",
      "- Barabasi Albert models -\n",
      "Simulation 1:\n"
     ]
    },
    {
     "data": {
      "application/vnd.jupyter.widget-view+json": {
       "model_id": "fc9638b2d5744de3b15a1a46447bd32c",
       "version_major": 2,
       "version_minor": 0
      },
      "text/plain": [
       "  0%|          | 0/20000 [00:00<?, ?it/s]"
      ]
     },
     "metadata": {},
     "output_type": "display_data"
    },
    {
     "name": "stdout",
     "output_type": "stream",
     "text": [
      "Simulation 2:\n"
     ]
    },
    {
     "data": {
      "application/vnd.jupyter.widget-view+json": {
       "model_id": "3049ae3bb781427dae7f6afdf8793293",
       "version_major": 2,
       "version_minor": 0
      },
      "text/plain": [
       "  0%|          | 0/50000 [00:00<?, ?it/s]"
      ]
     },
     "metadata": {},
     "output_type": "display_data"
    },
    {
     "name": "stdout",
     "output_type": "stream",
     "text": [
      "Simulation 3:\n"
     ]
    },
    {
     "data": {
      "application/vnd.jupyter.widget-view+json": {
       "model_id": "e91aa3d8804f49919526e64991e06332",
       "version_major": 2,
       "version_minor": 0
      },
      "text/plain": [
       "  0%|          | 0/20000 [00:00<?, ?it/s]"
      ]
     },
     "metadata": {},
     "output_type": "display_data"
    },
    {
     "name": "stdout",
     "output_type": "stream",
     "text": [
      "Simulation 4:\n"
     ]
    },
    {
     "data": {
      "application/vnd.jupyter.widget-view+json": {
       "model_id": "f12a3f81e7164d0a94cd197c670648a2",
       "version_major": 2,
       "version_minor": 0
      },
      "text/plain": [
       "  0%|          | 0/50000 [00:00<?, ?it/s]"
      ]
     },
     "metadata": {},
     "output_type": "display_data"
    },
    {
     "name": "stdout",
     "output_type": "stream",
     "text": [
      "\n",
      "--- Execution time: 97 min and 0.3159358501434326 seconds ---\n"
     ]
    }
   ],
   "source": [
    "# Vectors of this type: [[graph_0, parameter_0],[graph_1, parameter_1],...,[graph_k, parameter_k]]\n",
    "ER = []\n",
    "PA = []\n",
    "\n",
    "# A simulation consist in creating two graph (one of ER type and the other of PA),\n",
    "# with a possible combination of (n, parameter)\n",
    "simulations = 4\n",
    "\n",
    "# Parameters:\n",
    "n = [20000, 50000, 20000, 50000]\n",
    "p = [0.001, 0.0008, 0.01, 0.001]\n",
    "l = [50, 2, 100, 100]\n",
    "\n",
    "# Simulation\n",
    "print(\"--- Starting Simulations ---\")\n",
    "print()\n",
    "start = time.time()\n",
    "\n",
    "print()\n",
    "print(\"- Erdos Renyi models -\")\n",
    "for sim in range(simulations):\n",
    "\n",
    "    print(\"Simulation \"+str(sim+1)+\":\")\n",
    "    # Creating a Erdos Renyi graph with that (n,p) combination and appending it to ER\n",
    "    ER.append(ER_graph(n[sim], p[sim]))\n",
    "\n",
    "print()\n",
    "print(\"- Barabasi Albert models -\")\n",
    "for sim in range(simulations):\n",
    "    \n",
    "    print(\"Simulation \"+str(sim+1)+\":\")\n",
    "    # Creating a Barabasi Albert graph with that (n,l) combination and appending it to PA\n",
    "    PA.append(PA_graph(n[sim], l[sim]))\n",
    "    \n",
    "end = time.time()\n",
    "print()\n",
    "print(\"--- Execution time: \" + str(int((end-start)/60)) + \" min and \" + str((end-start)%60) + \" seconds ---\")"
   ]
  },
  {
   "cell_type": "code",
   "execution_count": 5,
   "metadata": {
    "colab": {
     "base_uri": "https://localhost:8080/",
     "height": 220,
     "referenced_widgets": [
      "a37af727373249bda8203824b46ad351",
      "6cf5f062b0da4752bd85b819a0f11da6",
      "cdf461314c5948df81b60e0e144329b9",
      "3b4103dc8abf480aa2b0f16224ec3332",
      "562f659bf88140148680402ed71b35e9",
      "790705a4dcd445f3ac76807307eb913d",
      "6de56e78fd2249ecb0a5bc83aa091e87",
      "aa159c5819344d13846e4ec4f5a591d7",
      "2c1e68b0eda940029598d2571f2262e3",
      "aaaa638d3f1c41c6a4f63d96afc15db3",
      "6ac67036382d485bbfc446ef91e244f3",
      "124853ead1a64b23a7318a2de81b63e9",
      "727e4b9c922d4407b57c6b83b13f6090",
      "b7fad1ed21f0437f93385b1f1b1670ac",
      "5fda7de8f9754e0ca3caf27d203986fb",
      "dc84ae3ec0c24cee9ce32202a6814852",
      "1999145beba14dd39e2eac129c679297",
      "c2340a7717cd44409de1803974ed5430",
      "c3a0e7d61b3943edbb0ab45735823564",
      "8d2a2ad1335c4b438395f6268b2e5683",
      "b0cd67a9fffe453ea71a26714d426fc1",
      "00cbfb36e3e843578989b480c61603c1"
     ]
    },
    "executionInfo": {
     "elapsed": 131186,
     "status": "ok",
     "timestamp": 1653052573738,
     "user": {
      "displayName": "mario edoardo pandolfo",
      "userId": "12743341317218556392"
     },
     "user_tz": -120
    },
    "id": "VCG4w0_8FyUb",
    "outputId": "ffe41a67-006c-487e-fa33-538339b054cf",
    "scrolled": true
   },
   "outputs": [
    {
     "name": "stdout",
     "output_type": "stream",
     "text": [
      "--- Starting Evaluations ---\n",
      "\n",
      "\n",
      "Calculating diameter and clustering coefficient for Erdos Renyi models\n"
     ]
    },
    {
     "data": {
      "application/vnd.jupyter.widget-view+json": {
       "model_id": "a37af727373249bda8203824b46ad351",
       "version_major": 2,
       "version_minor": 0
      },
      "text/plain": [
       "  0%|          | 0/4 [00:00<?, ?it/s]"
      ]
     },
     "metadata": {},
     "output_type": "display_data"
    },
    {
     "name": "stdout",
     "output_type": "stream",
     "text": [
      "\n",
      "Calculating diameter and clustering coefficient for Barabsi Albert models\n"
     ]
    },
    {
     "data": {
      "application/vnd.jupyter.widget-view+json": {
       "model_id": "124853ead1a64b23a7318a2de81b63e9",
       "version_major": 2,
       "version_minor": 0
      },
      "text/plain": [
       "  0%|          | 0/4 [00:00<?, ?it/s]"
      ]
     },
     "metadata": {},
     "output_type": "display_data"
    },
    {
     "name": "stdout",
     "output_type": "stream",
     "text": [
      "\n",
      "--- Execution time: 2 min and 10.95206332206726 seconds ---\n"
     ]
    }
   ],
   "source": [
    "ER_diameter = []\n",
    "PA_diameter = []\n",
    "\n",
    "ER_avg_clustering = []\n",
    "PA_avg_clustering = []\n",
    "\n",
    "# Requested attributes:\n",
    "print(\"--- Starting Evaluations ---\")\n",
    "print()\n",
    "start = time.time()\n",
    "\n",
    "print()\n",
    "print(\"Calculating diameter and clustering coefficient for Erdos Renyi models\")\n",
    "for sim in tqdm(range(simulations)):\n",
    "    ER_avg_clustering.append(average_clustering(ER[sim], 1000000))\n",
    "    ER_diameter.append(diameter(ER[sim]))\n",
    "\n",
    "print()\n",
    "print(\"Calculating diameter and clustering coefficient for Barabsi Albert models\")\n",
    "for sim in tqdm(range(simulations)):\n",
    "    PA_avg_clustering.append(average_clustering(PA[sim], 1000000))\n",
    "    PA_diameter.append(diameter(PA[sim]))\n",
    "    \n",
    "end = time.time()\n",
    "print()\n",
    "print(\"--- Execution time: \" + str(int((end-start)/60)) + \" min and \" + str((end-start)%60) + \" seconds ---\")"
   ]
  },
  {
   "cell_type": "code",
   "execution_count": 6,
   "metadata": {
    "colab": {
     "base_uri": "https://localhost:8080/",
     "height": 3439
    },
    "executionInfo": {
     "elapsed": 2096,
     "status": "ok",
     "timestamp": 1653052575806,
     "user": {
      "displayName": "mario edoardo pandolfo",
      "userId": "12743341317218556392"
     },
     "user_tz": -120
    },
    "id": "Yr5MgXOQFyUe",
    "outputId": "61d39e01-6186-4200-d8d3-d7a673655bc4",
    "scrolled": false
   },
   "outputs": [
    {
     "data": {
      "image/png": "[encoded data removed]",
      "text/plain": [
       "<Figure size 432x288 with 1 Axes>"
      ]
     },
     "metadata": {
      "needs_background": "light"
     },
     "output_type": "display_data"
    },
    {
     "name": "stdout",
     "output_type": "stream",
     "text": [
      "Nodes: 20000\n",
      "Edges: 200257\n",
      "Diameter: 5\n",
      "p: 0.001\n",
      "Avg Clustering Coefficient: 0.000941\n",
      "\n",
      "---------------------------------------------\n"
     ]
    },
    {
     "data": {
      "image/png": "[encoded data removed]",
      "text/plain": [
       "<Figure size 432x288 with 1 Axes>"
      ]
     },
     "metadata": {
      "needs_background": "light"
     },
     "output_type": "display_data"
    },
    {
     "name": "stdout",
     "output_type": "stream",
     "text": [
      "Nodes: 50000\n",
      "Edges: 998235\n",
      "Diameter: 4\n",
      "p: 0.0008\n",
      "Avg Clustering Coefficient: 0.000787\n",
      "\n",
      "---------------------------------------------\n"
     ]
    },
    {
     "data": {
      "image/png": "[encoded data removed]",
      "text/plain": [
       "<Figure size 432x288 with 1 Axes>"
      ]
     },
     "metadata": {
      "needs_background": "light"
     },
     "output_type": "display_data"
    },
    {
     "name": "stdout",
     "output_type": "stream",
     "text": [
      "Nodes: 20000\n",
      "Edges: 2001032\n",
      "Diameter: 3\n",
      "p: 0.01\n",
      "Avg Clustering Coefficient: 0.01018\n",
      "\n",
      "---------------------------------------------\n"
     ]
    },
    {
     "data": {
      "image/png": "[encoded data removed]",
      "text/plain": [
       "<Figure size 432x288 with 1 Axes>"
      ]
     },
     "metadata": {
      "needs_background": "light"
     },
     "output_type": "display_data"
    },
    {
     "name": "stdout",
     "output_type": "stream",
     "text": [
      "Nodes: 50000\n",
      "Edges: 1249167\n",
      "Diameter: 4\n",
      "p: 0.001\n",
      "Avg Clustering Coefficient: 0.001047\n",
      "\n",
      "---------------------------------------------\n"
     ]
    },
    {
     "data": {
      "image/png": "[encoded data removed]",
      "text/plain": [
       "<Figure size 432x288 with 1 Axes>"
      ]
     },
     "metadata": {
      "needs_background": "light"
     },
     "output_type": "display_data"
    },
    {
     "name": "stdout",
     "output_type": "stream",
     "text": [
      "Nodes: 20000\n",
      "Edges: 988624\n",
      "l: 50\n",
      "Diameter: 5\n",
      "Avg Clustering Coefficient: 0.000941\n",
      "\n",
      "---------------------------------------------\n"
     ]
    },
    {
     "data": {
      "image/png": "[encoded data removed]",
      "text/plain": [
       "<Figure size 432x288 with 1 Axes>"
      ]
     },
     "metadata": {
      "needs_background": "light"
     },
     "output_type": "display_data"
    },
    {
     "name": "stdout",
     "output_type": "stream",
     "text": [
      "Nodes: 50000\n",
      "Edges: 99973\n",
      "l: 2\n",
      "Diameter: 4\n",
      "Avg Clustering Coefficient: 0.000787\n",
      "\n",
      "---------------------------------------------\n"
     ]
    },
    {
     "data": {
      "image/png": "[encoded data removed]",
      "text/plain": [
       "<Figure size 432x288 with 1 Axes>"
      ]
     },
     "metadata": {
      "needs_background": "light"
     },
     "output_type": "display_data"
    },
    {
     "name": "stdout",
     "output_type": "stream",
     "text": [
      "Nodes: 20000\n",
      "Edges: 1961779\n",
      "l: 100\n",
      "Diameter: 3\n",
      "Avg Clustering Coefficient: 0.01018\n",
      "\n",
      "---------------------------------------------\n"
     ]
    },
    {
     "data": {
      "image/png": "[encoded data removed]",
      "text/plain": [
       "<Figure size 432x288 with 1 Axes>"
      ]
     },
     "metadata": {
      "needs_background": "light"
     },
     "output_type": "display_data"
    },
    {
     "name": "stdout",
     "output_type": "stream",
     "text": [
      "Nodes: 50000\n",
      "Edges: 4953170\n",
      "l: 100\n",
      "Diameter: 4\n",
      "Avg Clustering Coefficient: 0.001047\n",
      "\n",
      "---------------------------------------------\n",
      "\n",
      "\t\t\t\t --- Results table ---\n",
      "\n",
      "           type simulation   edges nodes probability   l diameter  avg-clustering-coefficient\n",
      "    Erdos Renyi          0  200257 20000       0.001   -        5                    0.000941\n",
      "    Erdos Renyi          1  998235 50000      0.0008   -        4                    0.000787\n",
      "    Erdos Renyi          2 2001032 20000        0.01   -        3                    0.010180\n",
      "    Erdos Renyi          3 1249167 50000       0.001   -        4                    0.001047\n",
      "Barabasi Albert          0  988624 20000           -  50        3                    0.019717\n",
      "Barabasi Albert          1   99973 50000           -   2        9                    0.001188\n",
      "Barabasi Albert          2 1961779 20000           - 100        3                    0.032798\n",
      "Barabasi Albert          3 4953170 50000           - 100        3                    0.016311\n",
      "\n"
     ]
    }
   ],
   "source": [
    "results = pd.DataFrame(columns = ['type', 'simulation', 'edges', 'nodes', 'probability', 'l', 'diameter', 'avg-clustering-coefficient'])\n",
    "\n",
    "for sim in range(simulations):\n",
    "    \n",
    "    results = pd.concat([results, pd.DataFrame(\n",
    "        [[\"Erdos Renyi\", sim, ER[sim].number_of_edges(), ER[sim].number_of_nodes(), p[sim], \"-\", ER_diameter[sim], ER_avg_clustering[sim]]],\n",
    "        columns = ['type', 'simulation','edges', 'nodes', 'probability', 'l', 'diameter', 'avg-clustering-coefficient'])])\n",
    "    \n",
    "    plt.hist(list(dict(ER[sim].degree()).values()))\n",
    "    plt.title(\"Erdos Renyi - simulation \"+str(sim+1))\n",
    "    plt.xlabel('Degree')\n",
    "    plt.ylabel('# of Nodes')\n",
    "    plt.show()\n",
    "    \n",
    "    print(\"Nodes:\", ER[sim].number_of_nodes())\n",
    "    print(\"Edges:\", ER[sim].number_of_edges())\n",
    "    print(\"Diameter:\", ER_diameter[sim])\n",
    "    print(\"p:\", p[sim])\n",
    "    print(\"Avg Clustering Coefficient:\", ER_avg_clustering[sim])\n",
    "    print()\n",
    "    print(\"---------------------------------------------\")\n",
    "    \n",
    "for sim in range(simulations):\n",
    "    \n",
    "    results = pd.concat([results, pd.DataFrame(\n",
    "        [[\"Barabasi Albert\", sim, PA[sim].number_of_edges(), PA[sim].number_of_nodes(), \"-\", l[sim], PA_diameter[sim], PA_avg_clustering[sim]]],\n",
    "        columns = ['type', 'simulation', 'edges', 'nodes', 'probability', 'l', 'diameter', 'avg-clustering-coefficient'])])\n",
    "    \n",
    "    plt.hist(list(dict(PA[sim].degree()).values()))\n",
    "    plt.title(\"Barabasi Albert - simulation \"+str(sim+1))\n",
    "    plt.xlabel('Degree')\n",
    "    plt.ylabel('# of Nodes')\n",
    "    plt.show()\n",
    "    \n",
    "    print(\"Nodes:\", PA[sim].number_of_nodes())\n",
    "    print(\"Edges:\", PA[sim].number_of_edges())\n",
    "    print(\"l:\", l[sim])\n",
    "    print(\"Diameter:\", ER_diameter[sim])\n",
    "    print(\"Avg Clustering Coefficient:\", ER_avg_clustering[sim])\n",
    "    print()\n",
    "    print(\"---------------------------------------------\")\n",
    "\n",
    "print()\n",
    "print(\"\\t\\t\\t\\t --- Results table ---\")\n",
    "print()\n",
    "print(results.to_string(index=False))\n",
    "print()"
   ]
  },
  {
   "cell_type": "markdown",
   "metadata": {
    "id": "SepsuPiwFyUj"
   },
   "source": [
    "## Loading some graph from the SNAP library: https://snap.stanford.edu/data/"
   ]
  },
  {
   "cell_type": "code",
   "execution_count": 7,
   "metadata": {
    "colab": {
     "base_uri": "https://localhost:8080/",
     "height": 0
    },
    "executionInfo": {
     "elapsed": 120379,
     "status": "ok",
     "timestamp": 1653052696174,
     "user": {
      "displayName": "mario edoardo pandolfo",
      "userId": "12743341317218556392"
     },
     "user_tz": -120
    },
    "id": "4zu-h6ZXGHwV",
    "outputId": "81e97377-5442-45bf-fdef-7f9888d25910"
   },
   "outputs": [
    {
     "name": "stdout",
     "output_type": "stream",
     "text": [
      "Mounted at /content/gdrive\n"
     ]
    }
   ],
   "source": [
    "from google.colab import drive\n",
    "drive.mount('/content/gdrive')"
   ]
  },
  {
   "cell_type": "code",
   "execution_count": 8,
   "metadata": {
    "colab": {
     "base_uri": "https://localhost:8080/",
     "height": 0
    },
    "executionInfo": {
     "elapsed": 48754,
     "status": "ok",
     "timestamp": 1653052744902,
     "user": {
      "displayName": "mario edoardo pandolfo",
      "userId": "12743341317218556392"
     },
     "user_tz": -120
    },
    "id": "hP3TLDdnFyUk",
    "outputId": "9bd3a635-6203-4531-ef7f-064788d611b4",
    "scrolled": true
   },
   "outputs": [
    {
     "name": "stdout",
     "output_type": "stream",
     "text": [
      "--- Starting Evaluations ---\n",
      "\n",
      "\n",
      "--- Execution time: 0 min and 48.63357377052307 seconds ---\n"
     ]
    }
   ],
   "source": [
    "print(\"--- Starting Evaluations ---\")\n",
    "print()\n",
    "start = time.time()\n",
    "\n",
    "PATH = \"gdrive/MyDrive/hw1-social-network/\" # path to the files\n",
    "\n",
    "snap_graphs = {}\n",
    "\n",
    "facebook_combined = nx.read_edgelist(PATH+\"facebook_combined.txt\", create_using = nx.Graph(), nodetype = int)\n",
    "snap_graphs[\"facebook_combined\"] = [facebook_combined, diameter(facebook_combined), average_clustering(facebook_combined, 1000000)]\n",
    "\n",
    "df = pd.read_csv(PATH+\"musae_facebook_edges.csv\", sep = \",\")\n",
    "musae_facebook = nx.from_pandas_edgelist(df, source = \"id_1\", target = \"id_2\", create_using = nx.Graph())\n",
    "snap_graphs[\"musae_facebook\"] = [musae_facebook, diameter(musae_facebook), average_clustering(musae_facebook, 1000000)]\n",
    "\n",
    "df = pd.read_csv(PATH+\"deezer_europe_edges.csv\", sep = \",\")\n",
    "deezer_europe = nx.from_pandas_edgelist(df, source = \"node_1\", target = \"node_2\", create_using = nx.Graph())\n",
    "snap_graphs[\"deezer_europe\"] = [deezer_europe, diameter(deezer_europe), average_clustering(deezer_europe, 1000000)]\n",
    "\n",
    "df = pd.read_csv(PATH+\"artist_edges.csv\", sep = \",\")\n",
    "facebook_artist = nx.from_pandas_edgelist(df, source = \"node_1\", target = \"node_2\", create_using = nx.Graph())\n",
    "snap_graphs[\"facebook_artist\"] = [facebook_artist, diameter(facebook_artist), average_clustering(facebook_artist, 1000000)]\n",
    "\n",
    "end = time.time()\n",
    "print()\n",
    "print(\"--- Execution time: \" + str(int((end-start)/60)) + \" min and \" + str((end-start)%60) + \" seconds ---\")"
   ]
  },
  {
   "cell_type": "markdown",
   "metadata": {
    "id": "eX5ZYNZfFyUm"
   },
   "source": [
    "## Comparing these results with the previous ones"
   ]
  },
  {
   "cell_type": "code",
   "execution_count": 9,
   "metadata": {
    "colab": {
     "base_uri": "https://localhost:8080/",
     "height": 1823
    },
    "executionInfo": {
     "elapsed": 4460,
     "status": "ok",
     "timestamp": 1653052749339,
     "user": {
      "displayName": "mario edoardo pandolfo",
      "userId": "12743341317218556392"
     },
     "user_tz": -120
    },
    "id": "84SSOSU-FyUo",
    "outputId": "926f2df8-1e1c-4990-ee70-43f73577426a"
   },
   "outputs": [
    {
     "data": {
      "image/png": "[encoded data removed]",
      "text/plain": [
       "<Figure size 432x288 with 1 Axes>"
      ]
     },
     "metadata": {
      "needs_background": "light"
     },
     "output_type": "display_data"
    },
    {
     "name": "stdout",
     "output_type": "stream",
     "text": [
      "Number of nodes: 4039\n",
      "Number of edges: 88234\n",
      "Diameter: 8\n",
      "Avg Clustering: 0.60517\n",
      "\n",
      "---------------------------------------------\n"
     ]
    },
    {
     "data": {
      "image/png": "[encoded data removed]",
      "text/plain": [
       "<Figure size 432x288 with 1 Axes>"
      ]
     },
     "metadata": {
      "needs_background": "light"
     },
     "output_type": "display_data"
    },
    {
     "name": "stdout",
     "output_type": "stream",
     "text": [
      "Number of nodes: 22470\n",
      "Number of edges: 171002\n",
      "Diameter: 15\n",
      "Avg Clustering: 0.36201\n",
      "\n",
      "---------------------------------------------\n"
     ]
    },
    {
     "data": {
      "image/png": "[encoded data removed]",
      "text/plain": [
       "<Figure size 432x288 with 1 Axes>"
      ]
     },
     "metadata": {
      "needs_background": "light"
     },
     "output_type": "display_data"
    },
    {
     "name": "stdout",
     "output_type": "stream",
     "text": [
      "Number of nodes: 28281\n",
      "Number of edges: 92752\n",
      "Diameter: 21\n",
      "Avg Clustering: 0.141664\n",
      "\n",
      "---------------------------------------------\n"
     ]
    },
    {
     "data": {
      "image/png": "[encoded data removed]",
      "text/plain": [
       "<Figure size 432x288 with 1 Axes>"
      ]
     },
     "metadata": {
      "needs_background": "light"
     },
     "output_type": "display_data"
    },
    {
     "name": "stdout",
     "output_type": "stream",
     "text": [
      "Number of nodes: 50515\n",
      "Number of edges: 819306\n",
      "Diameter: 11\n",
      "Avg Clustering: 0.139622\n",
      "\n",
      "---------------------------------------------\n",
      "\n",
      "\t\t\t\t --- Comparing Results table ---\n",
      "\n",
      "             type simulation   edges nodes probability   l diameter  avg-clustering-coefficient\n",
      "      Erdos Renyi          0  200257 20000       0.001   -        5                    0.000941\n",
      "      Erdos Renyi          1  998235 50000      0.0008   -        4                    0.000787\n",
      "      Erdos Renyi          2 2001032 20000        0.01   -        3                    0.010180\n",
      "      Erdos Renyi          3 1249167 50000       0.001   -        4                    0.001047\n",
      "  Barabasi Albert          0  988624 20000           -  50        3                    0.019717\n",
      "  Barabasi Albert          1   99973 50000           -   2        9                    0.001188\n",
      "  Barabasi Albert          2 1961779 20000           - 100        3                    0.032798\n",
      "  Barabasi Albert          3 4953170 50000           - 100        3                    0.016311\n",
      "facebook_combined          -   88234  4039           -   -        8                    0.605170\n",
      "   musae_facebook          -  171002 22470           -   -       15                    0.362010\n",
      "    deezer_europe          -   92752 28281           -   -       21                    0.141664\n",
      "  facebook_artist          -  819306 50515           -   -       11                    0.139622\n"
     ]
    }
   ],
   "source": [
    "compare_results = results\n",
    "\n",
    "for g in snap_graphs:\n",
    "    \n",
    "    compare_results = pd.concat([compare_results, pd.DataFrame(\n",
    "        [[g, \"-\", snap_graphs[g][0].number_of_edges(), snap_graphs[g][0].number_of_nodes(), \"-\", \"-\", snap_graphs[g][1], snap_graphs[g][2]]],\n",
    "        columns = ['type', 'simulation', 'edges', 'nodes', 'probability', 'l', 'diameter', 'avg-clustering-coefficient'])])\n",
    "  \n",
    "    \n",
    "    plt.hist(list(dict(snap_graphs[g][0].degree()).values()))\n",
    "    plt.title(g)\n",
    "    plt.xlabel('Degree')\n",
    "    plt.ylabel('# of Nodes')\n",
    "    plt.show()\n",
    "\n",
    "    print(\"Number of nodes:\", snap_graphs[g][0].number_of_nodes())\n",
    "    print(\"Number of edges:\", snap_graphs[g][0].number_of_edges())\n",
    "    print(\"Diameter:\", snap_graphs[g][1])\n",
    "    print(\"Avg Clustering:\", snap_graphs[g][2])\n",
    "    print()\n",
    "    print(\"---------------------------------------------\")\n",
    "\n",
    "print()\n",
    "print(\"\\t\\t\\t\\t --- Comparing Results table ---\")\n",
    "print()\n",
    "print(compare_results.to_string(index = False))"
   ]
  },
  {
   "cell_type": "markdown",
   "metadata": {
    "id": "_SdwxhOgFyUq"
   },
   "source": [
    "By comparing the outputs of our Erdos-Reyi's and Barabasi-Albert's implementations with those of the real networks we can see that the diameter we obtain in both of those type of models is way smaller (taking into account the number of nodes and edges, evem the smaller real graph has a longer diameter) than the real networks diameter:\n",
    "- In Erdos - Renyi models this is due because, as we know, nodes connect with each others uniformly at random with a probability _p_; a fully connected graph of this type should look like a dense net, being dense make the diameter really small. (All our ER simulated graph are fully connected because $p\\ge \\frac{\\ln n}n$).\n",
    "- In Barabasi - Albert models this is due because nodes tend to connect always to the first _k_ nodes with the greater degree, nodes with low number of degree are less likely to connect with each others, resulting in this way in a graph with a small number of large clusters, that causes the diameter to be small.\n",
    "\n",
    "The average clustering coefficient of the real networks tells us that this networks have some clusters (some of them even large, ex: facebook_combined), but having those long diameters means that those cluster are mainly seperated and only connected with some weakties.\n",
    "\n",
    "We can also notice that real networks degree distribution is similar to the Barabasi Albert model: this means that those distribution follow a powerlaw type of behavior.\n",
    "\n",
    "Summing up we can say that the difference is mainly in the absence of separeted clusters and weakties that connect them."
   ]
  },
  {
   "cell_type": "code",
   "execution_count": 10,
   "metadata": {
    "executionInfo": {
     "elapsed": 56,
     "status": "ok",
     "timestamp": 1653052749341,
     "user": {
      "displayName": "mario edoardo pandolfo",
      "userId": "12743341317218556392"
     },
     "user_tz": -120
    },
    "id": "wIJeR42CFyUs"
   },
   "outputs": [],
   "source": [
    "def my_graph(n, c, p, l):\n",
    "    '''Create and initialize a graph that has c clusters\n",
    "    \n",
    "    Parameters:\n",
    "    - n: number of nodes\n",
    "    - c: number of clusters\n",
    "    - p: probability of connecting nodes of different clusters, making weakties\n",
    "    - l: the number of connections of the new node with the nodes inside the clustering\n",
    "    '''\n",
    "    if c < 1 or c >= n:\n",
    "        raise nx.NetworkXError(\"This type of model must have c>=1 and c < n\")\n",
    "    \n",
    "    # Create a graph\n",
    "    g = nx.Graph()\n",
    "    \n",
    "    clusters_degree = {}\n",
    "    clusters_nodes = {}\n",
    "\n",
    "    clusters = list(range(1, c+1))\n",
    "    \n",
    "    for cluster in clusters:\n",
    "        clusters_degree[cluster] = 1\n",
    "        clusters_nodes[cluster] = [cluster]\n",
    "    \n",
    "    g.add_nodes_from(clusters)\n",
    "    \n",
    "    for i in tqdm(range(1, n+1)):\n",
    "        \n",
    "        if i <= c:\n",
    "            \n",
    "            for j in range(i+1, c+1):\n",
    "                # Connect the clusters between them self to make sure the grap will be connected\n",
    "                g.add_edge(i, j)\n",
    "            \n",
    "        else:\n",
    "            \n",
    "            # we add the new node to the graph\n",
    "            g.add_node(i)\n",
    "               \n",
    "            # we choose the cluster the node will be part of with a power-law behavior\n",
    "            degrees = np.array(list(clusters_degree.values()))\n",
    "            probabilities = [1/len(clusters_degree) for p in clusters_degree]#degrees / sum(degrees)\n",
    "            nodes = np.array(clusters)\n",
    "            distr_cluster = stats.rv_discrete(name='custm', values=(nodes, probabilities))\n",
    "            cluster = list(set(distr_cluster.rvs(size = 1)))[0]\n",
    "        \n",
    "            # we create l connections with the new node and the nodes in the prev chosen cluster\n",
    "            # same as before we use a power-law way\n",
    "            degrees_nodes = []\n",
    "            \n",
    "            for node in clusters_nodes[cluster]:\n",
    "                degrees_nodes.append(g.degree(node))\n",
    "                    \n",
    "            degrees_nodes = np.array(degrees_nodes)\n",
    "        \n",
    "            prob_node = degrees_nodes  / sum(degrees_nodes)\n",
    "        \n",
    "            nodes = np.array(clusters_nodes[cluster])\n",
    "        \n",
    "            distr_node = stats.rv_discrete(name='custm', values=(nodes, prob_node))\n",
    "            new_edges =  list(set(distr_node.rvs(size = l)))\n",
    "            \n",
    "            # we update the degree of the cluster and add the new node in its nodes-list\n",
    "            clusters_degree[cluster] += 1\n",
    "            clusters_nodes[cluster].append(i)\n",
    "        \n",
    "            # we add an edge of the type (i, elem)\n",
    "            for elem in new_edges:\n",
    "                g.add_edge(i, elem)\n",
    "            \n",
    "            # connect the node as weaktie to the other clusters\n",
    "            for other_cluster in clusters_nodes:\n",
    "                if other_cluster != cluster:\n",
    "                    for node in clusters_nodes[other_cluster]:\n",
    "                        if random.uniform(0, 1) <= p and node not in list(clusters_nodes.keys()) and p!=0 : g.add_edge(i, node)\n",
    "\n",
    "    return g\n",
    "    "
   ]
  },
  {
   "cell_type": "code",
   "execution_count": 11,
   "metadata": {
    "colab": {
     "base_uri": "https://localhost:8080/",
     "height": 49,
     "referenced_widgets": [
      "b9947d406dfc404f803fb56b6e984424",
      "aee41811b6874f90b50e14462783f75a",
      "8e65154df0964bfeb3ca1dc950af8db9",
      "1ae7c9411fdb46718959383c02b28780",
      "81569c0e33bd442aa54f5b3a701d1bb3",
      "f094051b43694a139efe99c976de6510",
      "2d4db09e16774d039cb85b81bf6c4635",
      "a5509734f41a4705b0546836d768c2b9",
      "a5d0d7a5105b4b20ba31a6bcb95a8858",
      "93497261a768408682f440b1a56e0384",
      "564c253c0c464fd8a30d0189c7e69d6f"
     ]
    },
    "executionInfo": {
     "elapsed": 740838,
     "status": "ok",
     "timestamp": 1653053490125,
     "user": {
      "displayName": "mario edoardo pandolfo",
      "userId": "12743341317218556392"
     },
     "user_tz": -120
    },
    "id": "L_NtV9D_FyUv",
    "outputId": "a8de9143-4477-431a-e67c-55d991a4767a",
    "scrolled": false
   },
   "outputs": [
    {
     "data": {
      "application/vnd.jupyter.widget-view+json": {
       "model_id": "b9947d406dfc404f803fb56b6e984424",
       "version_major": 2,
       "version_minor": 0
      },
      "text/plain": [
       "  0%|          | 0/50000 [00:00<?, ?it/s]"
      ]
     },
     "metadata": {},
     "output_type": "display_data"
    }
   ],
   "source": [
    "g = my_graph(50000, 50, 0.000001, 2)\n",
    "\n",
    "avg_clust = average_clustering(g, 1000000)\n",
    "diam = diameter(g)"
   ]
  },
  {
   "cell_type": "code",
   "execution_count": 12,
   "metadata": {
    "colab": {
     "base_uri": "https://localhost:8080/",
     "height": 347
    },
    "executionInfo": {
     "elapsed": 566,
     "status": "ok",
     "timestamp": 1653053490673,
     "user": {
      "displayName": "mario edoardo pandolfo",
      "userId": "12743341317218556392"
     },
     "user_tz": -120
    },
    "id": "UnrcJgTbFyUx",
    "outputId": "e5ec5283-1b59-4aeb-a2dd-fd8961ffeb5a",
    "scrolled": true
   },
   "outputs": [
    {
     "data": {
      "image/png": "[encoded data removed]",
      "text/plain": [
       "<Figure size 432x288 with 1 Axes>"
      ]
     },
     "metadata": {
      "needs_background": "light"
     },
     "output_type": "display_data"
    },
    {
     "name": "stdout",
     "output_type": "stream",
     "text": [
      "Graph with 50000 nodes and 99468 edges\n",
      "Diameter: 9\n",
      "Average clustering: 0.084127\n"
     ]
    }
   ],
   "source": [
    "plt.hist(list(dict(g.degree()).values()))\n",
    "plt.title(\"My Graph\")\n",
    "plt.xlabel('Degree')\n",
    "plt.ylabel('# of Nodes')\n",
    "plt.show()\n",
    "\n",
    "print(g)\n",
    "print(\"Diameter:\", diam)\n",
    "print(\"Average clustering:\", avg_clust)"
   ]
  },
  {
   "cell_type": "markdown",
   "metadata": {
    "id": "t-heOWr3FyU0"
   },
   "source": [
    "# Problem 3."
   ]
  },
  {
   "cell_type": "markdown",
   "metadata": {
    "id": "2ccZyTJUFyU1"
   },
   "source": [
    "Given _G_ a graph and _k_ the number of maximum users I can follow, to maximize the number of users that I know what they post, assuming I have complete knowledge of the network, I can use this type of algorithm:\n",
    "\n",
    "```python\n",
    "g <- a copy of G\n",
    "\n",
    "results = [] # an empty list of results\n",
    "nodes_reached = [] # list of the nodes we can have access to\n",
    "\n",
    "while len(results) < k:\n",
    "    \n",
    "    nodes: \"a sorted list of the nodes of g\"\n",
    "    \n",
    "    candidates = [something] # a list of candidates nodes (a candidate node is a node that has the\n",
    "                             # same degree of the node with the highest degree)\n",
    "                \n",
    "    gain_list = [] # a list that will contain the current gain in terms of nodes we can have access to\n",
    "    \n",
    "    for node in candidates:\n",
    "        \n",
    "        plus_list = [] # a current gain that has to be maximize\n",
    "    \n",
    "        if node not in nodes_reached:\n",
    "            \n",
    "            # Append the node to the plus_list because is a node of which we don't have access to\n",
    "            \n",
    "        for neighbor in Neighbors(node):\n",
    "            \n",
    "            if neighbor not in nodes_reached:\n",
    "                \n",
    "                # Append the node to the plus_list because is a node of which we don't have access to\n",
    "                \n",
    "        if # the current gain is bigger than the gain we had before:\n",
    "            \n",
    "            # we copy the plus_list into the gain_list\n",
    "            \n",
    "    # we remove the node that gives to us the maximum gain from g\n",
    "    # we add the node to the results list\n",
    "    # we add the new reached nodes to the nodes_reached list\n",
    "\n",
    "return results\n",
    "\n",
    "```"
   ]
  },
  {
   "cell_type": "code",
   "execution_count": 13,
   "metadata": {
    "executionInfo": {
     "elapsed": 24,
     "status": "ok",
     "timestamp": 1653053490676,
     "user": {
      "displayName": "mario edoardo pandolfo",
      "userId": "12743341317218556392"
     },
     "user_tz": -120
    },
    "id": "FrcbuacZFyU2",
    "scrolled": true
   },
   "outputs": [],
   "source": [
    "def maximize_users(g, k):\n",
    "\n",
    "    # I take a copy of the graph g\n",
    "    g = g.copy()\n",
    "    \n",
    "    results = []\n",
    "    nodes_reached = []\n",
    "\n",
    "    while len(results) < k:\n",
    "\n",
    "        # I define a descending ordered list of the nodes of the graph g\n",
    "        nodes = sorted(g.degree, key=lambda x: x[1], reverse=True)\n",
    "\n",
    "        # I set a list of candidates and a threshold degree\n",
    "        candidates = []\n",
    "        degree = nodes[0][1]\n",
    "\n",
    "        # I take as candidates all node that have the same degree of the current highest degree node\n",
    "        for node in nodes:\n",
    "            if node[1] == degree:\n",
    "                candidates.append(node[0])\n",
    "\n",
    "        # I have to initialize gain_list with the first candidate otherwise\n",
    "        # I'll get an \"index out of bound\" error at \"results.append(gain_list[0])\"\n",
    "        gain_list = [candidates[0]]\n",
    "\n",
    "        # I want to find the candidate that gives me the best gain possible\n",
    "        for node in candidates:\n",
    "            \n",
    "            if node == candidates[0]: continue\n",
    "            \n",
    "            # A list of the nodes this candidate gives me access to\n",
    "            plus_list = []\n",
    "            \n",
    "            # If this node is a new node (never seen before) we add it in the plus_list\n",
    "            if node not in nodes_reached:\n",
    "                \n",
    "                plus_list.append(node)\n",
    "\n",
    "            # I do the same thing as before but for each neighbor of this current candidate\n",
    "            for neighbor in g.neighbors(node):\n",
    "\n",
    "                if neighbor not in nodes_reached:\n",
    "\n",
    "                    plus_list.append(neighbor)\n",
    "\n",
    "            # If the current candidate lets me reach more nodes that the previous one, I set it as\n",
    "            # the current best\n",
    "            if len(plus_list) > len(gain_list):\n",
    "                \n",
    "                gain_list = plus_list.copy()\n",
    "        \n",
    "        # I remove the best candidate node from the graph, add it in the results list and save\n",
    "        # the new nodes reached in the nodes_reached list\n",
    "        g.remove_node(gain_list[0])\n",
    "        results.append(gain_list[0])\n",
    "        nodes_reached += gain_list\n",
    "\n",
    "    return results\n",
    "\n"
   ]
  },
  {
   "cell_type": "code",
   "execution_count": 14,
   "metadata": {
    "colab": {
     "base_uri": "https://localhost:8080/",
     "height": 0
    },
    "executionInfo": {
     "elapsed": 425,
     "status": "ok",
     "timestamp": 1653053491079,
     "user": {
      "displayName": "mario edoardo pandolfo",
      "userId": "12743341317218556392"
     },
     "user_tz": -120
    },
    "id": "deNr3j8KFyU4",
    "outputId": "e179ce50-2b7e-48c5-883b-ca59951f768a",
    "scrolled": false
   },
   "outputs": [
    {
     "name": "stdout",
     "output_type": "stream",
     "text": [
      "Using as graph \"facebook_combined\" and setting k = 10\n",
      "These are the users to follow to maximize our knoledge of users: [107, 1684, 1912, 3437, 0, 2543, 2347, 1888, 1800, 1663]\n"
     ]
    }
   ],
   "source": [
    "k = 10\n",
    "print(\"Using as graph \\\"facebook_combined\\\" and setting k =\", k)\n",
    "print(\"These are the users to follow to maximize our knoledge of users:\", maximize_users(facebook_combined, k))"
   ]
  },
  {
   "cell_type": "markdown",
   "metadata": {
    "id": "5eETSymAFyVQ"
   },
   "source": [
    "# Problem 5."
   ]
  },
  {
   "cell_type": "markdown",
   "metadata": {
    "id": "YixgkzdKFyVR"
   },
   "source": [
    "### Installing needed libraries"
   ]
  },
  {
   "cell_type": "code",
   "execution_count": 20,
   "metadata": {
    "colab": {
     "base_uri": "https://localhost:8080/",
     "height": 0
    },
    "executionInfo": {
     "elapsed": 295709,
     "status": "ok",
     "timestamp": 1653053787755,
     "user": {
      "displayName": "mario edoardo pandolfo",
      "userId": "12743341317218556392"
     },
     "user_tz": -120
    },
    "id": "aAXC35eUFyVT",
    "outputId": "225c4183-41bf-490b-e4f1-0b0620aefcdc",
    "scrolled": true
   },
   "outputs": [
    {
     "name": "stdout",
     "output_type": "stream",
     "text": [
      "Looking in links: https://download.pytorch.org/whl/torch_stable.html\n",
      "Collecting torch==1.10.0+cu113\n",
      "  Downloading https://download.pytorch.org/whl/cu113/torch-1.10.0%2Bcu113-cp37-cp37m-linux_x86_64.whl (1821.5 MB)\n",
      "\u001b[K     |██████████████▋                 | 834.1 MB 1.3 MB/s eta 0:12:57tcmalloc: large alloc 1147494400 bytes == 0x394fc000 @  0x7f0517c86615 0x592b76 0x4df71e 0x59afff 0x515655 0x549576 0x593fce 0x548ae9 0x51566f 0x549576 0x593fce 0x548ae9 0x5127f1 0x598e3b 0x511f68 0x598e3b 0x511f68 0x598e3b 0x511f68 0x4bc98a 0x532e76 0x594b72 0x515600 0x549576 0x593fce 0x548ae9 0x5127f1 0x549576 0x593fce 0x5118f8 0x593dd7\n",
      "\u001b[K     |██████████████████▌             | 1055.7 MB 1.4 MB/s eta 0:08:52tcmalloc: large alloc 1434370048 bytes == 0x7db52000 @  0x7f0517c86615 0x592b76 0x4df71e 0x59afff 0x515655 0x549576 0x593fce 0x548ae9 0x51566f 0x549576 0x593fce 0x548ae9 0x5127f1 0x598e3b 0x511f68 0x598e3b 0x511f68 0x598e3b 0x511f68 0x4bc98a 0x532e76 0x594b72 0x515600 0x549576 0x593fce 0x548ae9 0x5127f1 0x549576 0x593fce 0x5118f8 0x593dd7\n",
      "\u001b[K     |███████████████████████▌        | 1336.2 MB 1.6 MB/s eta 0:05:06tcmalloc: large alloc 1792966656 bytes == 0x2984000 @  0x7f0517c86615 0x592b76 0x4df71e 0x59afff 0x515655 0x549576 0x593fce 0x548ae9 0x51566f 0x549576 0x593fce 0x548ae9 0x5127f1 0x598e3b 0x511f68 0x598e3b 0x511f68 0x598e3b 0x511f68 0x4bc98a 0x532e76 0x594b72 0x515600 0x549576 0x593fce 0x548ae9 0x5127f1 0x549576 0x593fce 0x5118f8 0x593dd7\n",
      "\u001b[K     |█████████████████████████████▊  | 1691.1 MB 1.2 MB/s eta 0:01:47tcmalloc: large alloc 2241208320 bytes == 0x6d76c000 @  0x7f0517c86615 0x592b76 0x4df71e 0x59afff 0x515655 0x549576 0x593fce 0x548ae9 0x51566f 0x549576 0x593fce 0x548ae9 0x5127f1 0x598e3b 0x511f68 0x598e3b 0x511f68 0x598e3b 0x511f68 0x4bc98a 0x532e76 0x594b72 0x515600 0x549576 0x593fce 0x548ae9 0x5127f1 0x549576 0x593fce 0x5118f8 0x593dd7\n",
      "\u001b[K     |████████████████████████████████| 1821.5 MB 1.2 MB/s eta 0:00:01tcmalloc: large alloc 1821458432 bytes == 0xf30ce000 @  0x7f0517c851e7 0x4a3940 0x4a39cc 0x592b76 0x4df71e 0x59afff 0x515655 0x549576 0x593fce 0x511e2c 0x549576 0x593fce 0x511e2c 0x549576 0x593fce 0x511e2c 0x549576 0x593fce 0x511e2c 0x549576 0x593fce 0x511e2c 0x593dd7 0x511e2c 0x549576 0x593fce 0x548ae9 0x5127f1 0x549576 0x593fce 0x548ae9\n",
      "tcmalloc: large alloc 2276827136 bytes == 0x15f9e2000 @  0x7f0517c86615 0x592b76 0x4df71e 0x59afff 0x515655 0x549576 0x593fce 0x511e2c 0x549576 0x593fce 0x511e2c 0x549576 0x593fce 0x511e2c 0x549576 0x593fce 0x511e2c 0x549576 0x593fce 0x511e2c 0x593dd7 0x511e2c 0x549576 0x593fce 0x548ae9 0x5127f1 0x549576 0x593fce 0x548ae9 0x5127f1 0x549576\n",
      "\u001b[K     |████████████████████████████████| 1821.5 MB 5.2 kB/s \n",
      "\u001b[?25hRequirement already satisfied: torchvision in /usr/local/lib/python3.7/dist-packages (0.12.0+cu113)\n",
      "Requirement already satisfied: torchaudio in /usr/local/lib/python3.7/dist-packages (0.11.0+cu113)\n",
      "Requirement already satisfied: torchtext in /usr/local/lib/python3.7/dist-packages (0.12.0)\n",
      "Requirement already satisfied: typing-extensions in /usr/local/lib/python3.7/dist-packages (from torch==1.10.0+cu113) (4.2.0)\n",
      "Requirement already satisfied: numpy in /usr/local/lib/python3.7/dist-packages (from torchvision) (1.21.6)\n",
      "Requirement already satisfied: pillow!=8.3.*,>=5.3.0 in /usr/local/lib/python3.7/dist-packages (from torchvision) (7.1.2)\n",
      "Requirement already satisfied: requests in /usr/local/lib/python3.7/dist-packages (from torchvision) (2.23.0)\n",
      "Collecting torchvision\n",
      "  Downloading https://download.pytorch.org/whl/rocm4.5.2/torchvision-0.12.0%2Brocm4.5.2-cp37-cp37m-linux_x86_64.whl (66.4 MB)\n",
      "\u001b[K     |████████████████████████████████| 66.4 MB 82 kB/s \n",
      "\u001b[?25h  Downloading https://download.pytorch.org/whl/rocm4.3.1/torchvision-0.12.0%2Brocm4.3.1-cp37-cp37m-linux_x86_64.whl (65.8 MB)\n",
      "\u001b[K     |████████████████████████████████| 65.8 MB 118 kB/s \n",
      "\u001b[?25h  Downloading https://download.pytorch.org/whl/cu115/torchvision-0.12.0%2Bcu115-cp37-cp37m-linux_x86_64.whl (22.3 MB)\n",
      "\u001b[K     |████████████████████████████████| 22.3 MB 1.2 MB/s \n",
      "\u001b[?25h  Downloading https://download.pytorch.org/whl/cu102/torchvision-0.12.0%2Bcu102-cp37-cp37m-linux_x86_64.whl (21.0 MB)\n",
      "\u001b[K     |████████████████████████████████| 21.0 MB 49.7 MB/s \n",
      "\u001b[?25h  Downloading https://download.pytorch.org/whl/cpu/torchvision-0.12.0%2Bcpu-cp37-cp37m-linux_x86_64.whl (14.7 MB)\n",
      "\u001b[K     |████████████████████████████████| 14.7 MB 90 kB/s \n",
      "\u001b[?25h  Downloading torchvision-0.12.0-cp37-cp37m-manylinux1_x86_64.whl (21.0 MB)\n",
      "\u001b[K     |████████████████████████████████| 21.0 MB 1.4 MB/s \n",
      "\u001b[?25h  Downloading https://download.pytorch.org/whl/rocm4.2/torchvision-0.11.3%2Brocm4.2-cp37-cp37m-linux_x86_64.whl (66.9 MB)\n",
      "\u001b[K     |████████████████████████████████| 66.9 MB 167 kB/s \n",
      "\u001b[?25h  Downloading https://download.pytorch.org/whl/rocm4.1/torchvision-0.11.3%2Brocm4.1-cp37-cp37m-linux_x86_64.whl (66.7 MB)\n",
      "\u001b[K     |████████████████████████████████| 66.7 MB 98 kB/s \n",
      "\u001b[?25h  Downloading https://download.pytorch.org/whl/cu113/torchvision-0.11.3%2Bcu113-cp37-cp37m-linux_x86_64.whl (24.5 MB)\n",
      "\u001b[K     |████████████████████████████████| 24.5 MB 11.0 MB/s \n",
      "\u001b[?25h  Downloading https://download.pytorch.org/whl/cu111/torchvision-0.11.3%2Bcu111-cp37-cp37m-linux_x86_64.whl (24.5 MB)\n",
      "\u001b[K     |████████████████████████████████| 24.5 MB 79.3 MB/s \n",
      "\u001b[?25h  Downloading https://download.pytorch.org/whl/cu102/torchvision-0.11.3%2Bcu102-cp37-cp37m-linux_x86_64.whl (23.2 MB)\n",
      "\u001b[K     |████████████████████████████████| 23.2 MB 35.8 MB/s \n",
      "\u001b[?25h  Downloading https://download.pytorch.org/whl/cpu/torchvision-0.11.3%2Bcpu-cp37-cp37m-linux_x86_64.whl (16.1 MB)\n",
      "\u001b[K     |████████████████████████████████| 16.1 MB 151 kB/s \n",
      "\u001b[?25h  Downloading torchvision-0.11.3-cp37-cp37m-manylinux1_x86_64.whl (23.2 MB)\n",
      "\u001b[K     |████████████████████████████████| 23.2 MB 66.3 MB/s \n",
      "\u001b[?25h  Downloading https://download.pytorch.org/whl/rocm4.2/torchvision-0.11.2%2Brocm4.2-cp37-cp37m-linux_x86_64.whl (67.0 MB)\n",
      "\u001b[K     |████████████████████████████████| 67.0 MB 182 kB/s \n",
      "\u001b[?25h  Downloading https://download.pytorch.org/whl/rocm4.1/torchvision-0.11.2%2Brocm4.1-cp37-cp37m-linux_x86_64.whl (66.7 MB)\n",
      "\u001b[K     |████████████████████████████████| 66.7 MB 58 kB/s \n",
      "\u001b[?25h  Downloading https://download.pytorch.org/whl/cu113/torchvision-0.11.2%2Bcu113-cp37-cp37m-linux_x86_64.whl (24.6 MB)\n",
      "\u001b[K     |████████████████████████████████| 24.6 MB 1.6 MB/s \n",
      "\u001b[?25h  Downloading https://download.pytorch.org/whl/cu111/torchvision-0.11.2%2Bcu111-cp37-cp37m-linux_x86_64.whl (24.5 MB)\n",
      "\u001b[K     |████████████████████████████████| 24.5 MB 1.4 MB/s \n",
      "\u001b[?25h  Downloading https://download.pytorch.org/whl/cu102/torchvision-0.11.2%2Bcu102-cp37-cp37m-linux_x86_64.whl (23.2 MB)\n",
      "\u001b[K     |████████████████████████████████| 23.2 MB 1.4 MB/s \n",
      "\u001b[?25h  Downloading https://download.pytorch.org/whl/cpu/torchvision-0.11.2%2Bcpu-cp37-cp37m-linux_x86_64.whl (16.2 MB)\n",
      "\u001b[K     |████████████████████████████████| 16.2 MB 111 kB/s \n",
      "\u001b[?25h  Downloading torchvision-0.11.2-cp37-cp37m-manylinux1_x86_64.whl (23.3 MB)\n",
      "\u001b[K     |████████████████████████████████| 23.3 MB 1.2 MB/s \n",
      "\u001b[?25h  Downloading https://download.pytorch.org/whl/rocm4.2/torchvision-0.11.1%2Brocm4.2-cp37-cp37m-linux_x86_64.whl (66.9 MB)\n",
      "\u001b[K     |████████████████████████████████| 66.9 MB 151 kB/s \n",
      "\u001b[?25hCollecting torchaudio\n",
      "  Downloading https://download.pytorch.org/whl/rocm4.5.2/torchaudio-0.11.0%2Brocm4.5.2-cp37-cp37m-linux_x86_64.whl (2.7 MB)\n",
      "\u001b[K     |████████████████████████████████| 2.7 MB 47.4 MB/s \n",
      "\u001b[?25h  Downloading https://download.pytorch.org/whl/rocm4.3.1/torchaudio-0.11.0%2Brocm4.3.1-cp37-cp37m-linux_x86_64.whl (2.7 MB)\n",
      "\u001b[K     |████████████████████████████████| 2.7 MB 51.2 MB/s \n",
      "\u001b[?25h  Downloading https://download.pytorch.org/whl/cu115/torchaudio-0.11.0%2Bcu115-cp37-cp37m-linux_x86_64.whl (2.9 MB)\n",
      "\u001b[K     |████████████████████████████████| 2.9 MB 44.8 MB/s \n",
      "\u001b[?25h  Downloading https://download.pytorch.org/whl/cu102/torchaudio-0.11.0%2Bcu102-cp37-cp37m-linux_x86_64.whl (2.9 MB)\n",
      "\u001b[K     |████████████████████████████████| 2.9 MB 47.0 MB/s \n",
      "\u001b[?25h  Downloading https://download.pytorch.org/whl/cpu/torchaudio-0.11.0%2Bcpu-cp37-cp37m-linux_x86_64.whl (2.7 MB)\n",
      "\u001b[K     |████████████████████████████████| 2.7 MB 54.0 MB/s \n",
      "\u001b[?25h  Downloading torchaudio-0.11.0-cp37-cp37m-manylinux1_x86_64.whl (2.9 MB)\n",
      "\u001b[K     |████████████████████████████████| 2.9 MB 53.5 MB/s \n",
      "\u001b[?25h  Downloading https://download.pytorch.org/whl/rocm4.1/torchaudio-0.10.2%2Brocm4.1-cp37-cp37m-linux_x86_64.whl (2.7 MB)\n",
      "\u001b[K     |████████████████████████████████| 2.7 MB 32.3 MB/s \n",
      "\u001b[?25h  Downloading https://download.pytorch.org/whl/cu113/torchaudio-0.10.2%2Bcu113-cp37-cp37m-linux_x86_64.whl (2.9 MB)\n",
      "\u001b[K     |████████████████████████████████| 2.9 MB 62.8 MB/s \n",
      "\u001b[?25h  Downloading https://download.pytorch.org/whl/cu111/torchaudio-0.10.2%2Bcu111-cp37-cp37m-linux_x86_64.whl (2.9 MB)\n",
      "\u001b[K     |████████████████████████████████| 2.9 MB 41.4 MB/s \n",
      "\u001b[?25h  Downloading https://download.pytorch.org/whl/cu102/torchaudio-0.10.2%2Bcu102-cp37-cp37m-linux_x86_64.whl (2.9 MB)\n",
      "\u001b[K     |████████████████████████████████| 2.9 MB 45.8 MB/s \n",
      "\u001b[?25h  Downloading https://download.pytorch.org/whl/cpu/torchaudio-0.10.2%2Bcpu-cp37-cp37m-linux_x86_64.whl (2.7 MB)\n",
      "\u001b[K     |████████████████████████████████| 2.7 MB 34.9 MB/s \n",
      "\u001b[?25h  Downloading torchaudio-0.10.2-cp37-cp37m-manylinux1_x86_64.whl (2.9 MB)\n",
      "\u001b[K     |████████████████████████████████| 2.9 MB 44.4 MB/s \n",
      "\u001b[?25h  Downloading https://download.pytorch.org/whl/rocm4.1/torchaudio-0.10.1%2Brocm4.1-cp37-cp37m-linux_x86_64.whl (2.7 MB)\n",
      "\u001b[K     |████████████████████████████████| 2.7 MB 46.4 MB/s \n",
      "\u001b[?25h  Downloading https://download.pytorch.org/whl/cu113/torchaudio-0.10.1%2Bcu113-cp37-cp37m-linux_x86_64.whl (2.9 MB)\n",
      "\u001b[K     |████████████████████████████████| 2.9 MB 41.9 MB/s \n",
      "\u001b[?25h  Downloading https://download.pytorch.org/whl/cu111/torchaudio-0.10.1%2Bcu111-cp37-cp37m-linux_x86_64.whl (2.9 MB)\n",
      "\u001b[K     |████████████████████████████████| 2.9 MB 51.0 MB/s \n",
      "\u001b[?25h  Downloading https://download.pytorch.org/whl/cu102/torchaudio-0.10.1%2Bcu102-cp37-cp37m-linux_x86_64.whl (2.9 MB)\n",
      "\u001b[K     |████████████████████████████████| 2.9 MB 23.2 MB/s \n",
      "\u001b[?25h  Downloading https://download.pytorch.org/whl/cpu/torchaudio-0.10.1%2Bcpu-cp37-cp37m-linux_x86_64.whl (2.7 MB)\n",
      "\u001b[K     |████████████████████████████████| 2.7 MB 33.3 MB/s \n",
      "\u001b[?25h  Downloading torchaudio-0.10.1-cp37-cp37m-manylinux1_x86_64.whl (2.9 MB)\n",
      "\u001b[K     |████████████████████████████████| 2.9 MB 52.7 MB/s \n",
      "\u001b[?25h  Downloading https://download.pytorch.org/whl/rocm4.1/torchaudio-0.10.0%2Brocm4.1-cp37-cp37m-linux_x86_64.whl (2.7 MB)\n",
      "\u001b[K     |████████████████████████████████| 2.7 MB 45.1 MB/s \n",
      "\u001b[?25hRequirement already satisfied: tqdm in /usr/local/lib/python3.7/dist-packages (from torchtext) (4.64.0)\n",
      "Collecting torchtext\n",
      "  Downloading torchtext-0.11.2-cp37-cp37m-manylinux1_x86_64.whl (8.0 MB)\n",
      "\u001b[K     |████████████████████████████████| 8.0 MB 42.7 MB/s \n",
      "\u001b[?25h  Downloading torchtext-0.11.1-cp37-cp37m-manylinux1_x86_64.whl (8.0 MB)\n",
      "\u001b[K     |████████████████████████████████| 8.0 MB 46.4 MB/s \n",
      "\u001b[?25h  Downloading torchtext-0.11.0-cp37-cp37m-manylinux1_x86_64.whl (8.0 MB)\n",
      "\u001b[K     |████████████████████████████████| 8.0 MB 44.8 MB/s \n",
      "\u001b[?25hRequirement already satisfied: idna<3,>=2.5 in /usr/local/lib/python3.7/dist-packages (from requests->torchvision) (2.10)\n",
      "Requirement already satisfied: certifi>=2017.4.17 in /usr/local/lib/python3.7/dist-packages (from requests->torchvision) (2021.10.8)\n",
      "Requirement already satisfied: urllib3!=1.25.0,!=1.25.1,<1.26,>=1.21.1 in /usr/local/lib/python3.7/dist-packages (from requests->torchvision) (1.24.3)\n",
      "Requirement already satisfied: chardet<4,>=3.0.2 in /usr/local/lib/python3.7/dist-packages (from requests->torchvision) (3.0.4)\n",
      "Installing collected packages: torch, torchvision, torchtext, torchaudio\n",
      "  Attempting uninstall: torch\n",
      "    Found existing installation: torch 1.11.0+cu113\n",
      "    Uninstalling torch-1.11.0+cu113:\n",
      "      Successfully uninstalled torch-1.11.0+cu113\n",
      "  Attempting uninstall: torchvision\n",
      "    Found existing installation: torchvision 0.12.0+cu113\n",
      "    Uninstalling torchvision-0.12.0+cu113:\n",
      "      Successfully uninstalled torchvision-0.12.0+cu113\n",
      "  Attempting uninstall: torchtext\n",
      "    Found existing installation: torchtext 0.12.0\n",
      "    Uninstalling torchtext-0.12.0:\n",
      "      Successfully uninstalled torchtext-0.12.0\n",
      "  Attempting uninstall: torchaudio\n",
      "    Found existing installation: torchaudio 0.11.0+cu113\n",
      "    Uninstalling torchaudio-0.11.0+cu113:\n",
      "      Successfully uninstalled torchaudio-0.11.0+cu113\n",
      "Successfully installed torch-1.10.0+cu113 torchaudio-0.10.0+rocm4.1 torchtext-0.11.0 torchvision-0.11.1+rocm4.2\n",
      "Looking in links: https://download.pytorch.org/whl/torch_stable.html\n",
      "Requirement already satisfied: torch==1.10.0+cu113 in /usr/local/lib/python3.7/dist-packages (1.10.0+cu113)\n",
      "Requirement already satisfied: torchvision in /usr/local/lib/python3.7/dist-packages (0.11.1+rocm4.2)\n",
      "Requirement already satisfied: torchaudio in /usr/local/lib/python3.7/dist-packages (0.10.0+rocm4.1)\n",
      "Requirement already satisfied: torchtext in /usr/local/lib/python3.7/dist-packages (0.11.0)\n",
      "Requirement already satisfied: typing-extensions in /usr/local/lib/python3.7/dist-packages (from torch==1.10.0+cu113) (4.2.0)\n",
      "Requirement already satisfied: numpy in /usr/local/lib/python3.7/dist-packages (from torchvision) (1.21.6)\n",
      "Requirement already satisfied: pillow!=8.3.0,>=5.3.0 in /usr/local/lib/python3.7/dist-packages (from torchvision) (7.1.2)\n",
      "Requirement already satisfied: requests in /usr/local/lib/python3.7/dist-packages (from torchtext) (2.23.0)\n",
      "Requirement already satisfied: tqdm in /usr/local/lib/python3.7/dist-packages (from torchtext) (4.64.0)\n",
      "Requirement already satisfied: certifi>=2017.4.17 in /usr/local/lib/python3.7/dist-packages (from requests->torchtext) (2021.10.8)\n",
      "Requirement already satisfied: idna<3,>=2.5 in /usr/local/lib/python3.7/dist-packages (from requests->torchtext) (2.10)\n",
      "Requirement already satisfied: urllib3!=1.25.0,!=1.25.1,<1.26,>=1.21.1 in /usr/local/lib/python3.7/dist-packages (from requests->torchtext) (1.24.3)\n",
      "Requirement already satisfied: chardet<4,>=3.0.2 in /usr/local/lib/python3.7/dist-packages (from requests->torchtext) (3.0.4)\n",
      "\u001b[K     |████████████████████████████████| 7.9 MB 33.0 MB/s \n",
      "\u001b[K     |████████████████████████████████| 3.5 MB 24.8 MB/s \n",
      "\u001b[?25h  Building wheel for torch-geometric (setup.py) ... \u001b[?25l\u001b[?25hdone\n"
     ]
    }
   ],
   "source": [
    "!pip install torch==1.10.0+cu113 torchvision torchaudio torchtext -f https://download.pytorch.org/whl/torch_stable.html\n",
    "!pip install torch==1.10.0+cu113 torchvision torchaudio torchtext -f https://download.pytorch.org/whl/torch_stable.html\n",
    "!pip install -q torch-scatter -f https://data.pyg.org/whl/torch-1.10.0+cu113.html\n",
    "!pip install -q torch-sparse -f https://data.pyg.org/whl/torch-1.10.0+cu113.html\n",
    "!pip install -q git+https://github.com/pyg-team/pytorch_geometric.git"
   ]
  },
  {
   "cell_type": "markdown",
   "metadata": {
    "id": "pmD4MyPeFyVU"
   },
   "source": [
    "## Importing libraries"
   ]
  },
  {
   "cell_type": "code",
   "execution_count": 21,
   "metadata": {
    "executionInfo": {
     "elapsed": 13086,
     "status": "ok",
     "timestamp": 1653053800785,
     "user": {
      "displayName": "mario edoardo pandolfo",
      "userId": "12743341317218556392"
     },
     "user_tz": -120
    },
    "id": "0LIzHwubFyVV"
   },
   "outputs": [],
   "source": [
    "import torch\n",
    "import networkx as nx\n",
    "import numpy as np\n",
    "from tqdm.notebook import tqdm\n",
    "import pandas as pd\n",
    "import scipy\n",
    "import matplotlib.pyplot as plt\n",
    "\n",
    "\n",
    "from sklearn.preprocessing import StandardScaler\n",
    "from torch_geometric.data import Data\n",
    "from torch_geometric.data import InMemoryDataset\n",
    "from sklearn.model_selection import train_test_split\n",
    "import torch_geometric.transforms as T\n",
    "\n",
    "import torch.nn as nn\n",
    "import torch.nn.functional as F\n",
    "from torch_geometric.nn import GCNConv\n",
    "\n",
    "from sklearn.metrics import accuracy_score, precision_score, recall_score, ConfusionMatrixDisplay"
   ]
  },
  {
   "cell_type": "markdown",
   "metadata": {
    "id": "MJ13xoW3I07U"
   },
   "source": [
    "## Loading the graph"
   ]
  },
  {
   "cell_type": "markdown",
   "metadata": {
    "id": "gRlvnnCpTdNL"
   },
   "source": [
    "We have to load the dataset, which consists in two files:\n",
    "\n",
    "- An edge list.\n",
    "- A file with the labels.\n",
    "\n",
    "Those file have being downloaded from the https://snap.stanford.edu/data/email-Eu-core.html page and saved in my personal google drive.\n",
    "\n",
    "So to retrieve them we have to first mount the google drive and then load the edge list in a graph with \"nx.read_edgelist()\" and then read the file containing the labels and save it as an np.int64 list."
   ]
  },
  {
   "cell_type": "code",
   "execution_count": 22,
   "metadata": {
    "colab": {
     "base_uri": "https://localhost:8080/",
     "height": 0
    },
    "executionInfo": {
     "elapsed": 2088,
     "status": "ok",
     "timestamp": 1653053802855,
     "user": {
      "displayName": "mario edoardo pandolfo",
      "userId": "12743341317218556392"
     },
     "user_tz": -120
    },
    "id": "gXUH_r1CKUWu",
    "outputId": "982782fa-617a-400b-f578-8bf93e67a303"
   },
   "outputs": [
    {
     "name": "stdout",
     "output_type": "stream",
     "text": [
      "Drive already mounted at /content/gdrive; to attempt to forcibly remount, call drive.mount(\"/content/gdrive\", force_remount=True).\n"
     ]
    }
   ],
   "source": [
    "from google.colab import drive\n",
    "drive.mount('/content/gdrive')"
   ]
  },
  {
   "cell_type": "code",
   "execution_count": 23,
   "metadata": {
    "executionInfo": {
     "elapsed": 1003,
     "status": "ok",
     "timestamp": 1653053803853,
     "user": {
      "displayName": "mario edoardo pandolfo",
      "userId": "12743341317218556392"
     },
     "user_tz": -120
    },
    "id": "15UV2EeTI5ct"
   },
   "outputs": [],
   "source": [
    "PATH =  \"gdrive/MyDrive/hw1-social-network/\" # path to the files\n",
    "\n",
    "# load the graph\n",
    "graph =  nx.read_edgelist(PATH+\"email-Eu-core.txt\", create_using=nx.Graph(), nodetype = int)\n",
    "\n",
    "# retrieve label for each node\n",
    "df_labels = pd.read_csv(PATH+\"email-Eu-core-department-labels.txt\", sep = ' ', header = None)\n",
    "df_labels.columns = ['Node', 'Department']\n",
    "\n",
    "labels = np.asarray(df_labels['Department'].tolist()).astype(np.int64)"
   ]
  },
  {
   "cell_type": "markdown",
   "metadata": {
    "id": "uNFb0VsJSuC3"
   },
   "source": [
    "## Embeddings"
   ]
  },
  {
   "cell_type": "markdown",
   "metadata": {
    "id": "oXH_nAxuJbcI"
   },
   "source": [
    "As embeddings I decided to use four possibilities:\n",
    "\n",
    "- **Degree:** the number of connections each node has.\n",
    "- **Betweenness centrality:** the amount of influence a node has over the flow of information in a graph.\n",
    "- **Closeness centrality:** the average shortest distance from each vertex to each other vertex.\n",
    "- **Eigenvector centrality:** the measure if the transitive influence of nodes, in other words the higher is the eigenvector centrality score the more the node is connected with high degree nodes.\n",
    "\n",
    "For our purpose, we want to classify a node as belonging to a department, so the two measures that make more sense from the four we said before are the *degree* and the *eigenvector centrality*:\n",
    "\n",
    "- **Degree:** people that are in the same department are more likely to be connected, so this means that they should have similar degree, in other words if a department _k_ is composed by _n_ people, the degree of those nodes/people is likely to be more or less equal to _n_.\n",
    "- **Eigenvector centrality:** the reason is quite similar to the one we gave for the *degree*, people from the same department should be connected with each other this means that their eigenvector centrality should look similar.\n",
    "\n",
    "We create a dictionary with all the embeddings in which the keys are the embeddings' name. As values of this dictionary we insert the scaled vector of the embedding. (The dimension of these vectors are all equal to the number of nodes, so 1005)"
   ]
  },
  {
   "cell_type": "code",
   "execution_count": 24,
   "metadata": {
    "executionInfo": {
     "elapsed": 38809,
     "status": "ok",
     "timestamp": 1653053842657,
     "user": {
      "displayName": "mario edoardo pandolfo",
      "userId": "12743341317218556392"
     },
     "user_tz": -120
    },
    "id": "jeQ8yvLHYzWl"
   },
   "outputs": [],
   "source": [
    "embeddings = {}\n",
    "scale = StandardScaler()\n",
    "\n",
    "# Degree\n",
    "degree = np.array(list(dict(graph.degree()).values()))\n",
    "embeddings['Degree'] = scale.fit_transform(degree.reshape(-1,1))\n",
    "\n",
    "# Betweenness Centrality\n",
    "bet = nx.betweenness_centrality(graph)\n",
    "bet = np.array(list(bet.values()))\n",
    "embeddings['Betweenness'] = scale.fit_transform(bet.reshape(-1,1))\n",
    "\n",
    "# Close Centrality\n",
    "close = nx.closeness_centrality(graph)\n",
    "close = np.array(list(close.values()))\n",
    "embeddings['Closeness'] = scale.fit_transform(close.reshape(-1,1))\n",
    "\n",
    "# Eigen Centrality\n",
    "eigen = nx.eigenvector_centrality(graph)\n",
    "eigen = np.array(list(eigen.values()))\n",
    "embeddings['Eigen'] = scale.fit_transform(eigen.reshape(-1,1))"
   ]
  },
  {
   "cell_type": "markdown",
   "metadata": {
    "id": "2KVD5GieS0Qv"
   },
   "source": [
    "## Our PyTorch Geometric Dataset"
   ]
  },
  {
   "cell_type": "markdown",
   "metadata": {
    "id": "OvtTb68cQX-D"
   },
   "source": [
    "At this stage we have to define our dataset as a PyTorch Geometric dataset, to do so we define the class EmailEuCore which is a derivate of the InMemoryDataset (we used this this type of dataset because the graph has only 1005 nodes, so being a small graph we can save it in memory).\n",
    "\n",
    "In this class we also split the data in three sets thanks to the train_test_split() function:\n",
    "- **Training set:** The data we're going to use for training our model (70% of the entire dataset)\n",
    "- **Validation set:** The data we're going to use for validate the model while it's training to tune the parameters (near 15% of the dataset).\n",
    "- **Testing set:** The date on which we're going to validate the best model found (15% of the dataset). \n",
    "\n",
    "In this class there is also defined a function edge_index(), which is used to compute first the edge index by computing the adjacency matrix of the graph."
   ]
  },
  {
   "cell_type": "code",
   "execution_count": 25,
   "metadata": {
    "executionInfo": {
     "elapsed": 36,
     "status": "ok",
     "timestamp": 1653053842659,
     "user": {
      "displayName": "mario edoardo pandolfo",
      "userId": "12743341317218556392"
     },
     "user_tz": -120
    },
    "id": "pxDR3-UiHcBo"
   },
   "outputs": [],
   "source": [
    "class EmailEuCore(InMemoryDataset):\n",
    "  def __init__(self, transform = None, graph = None, embeddings = None, labels = None, seed = None):\n",
    "\n",
    "    if not graph:\n",
    "      raise Exception(\"You have to set a graph\")\n",
    "\n",
    "    if embeddings.all() == None:\n",
    "      raise Exception(\"You have to set some embeddings\")\n",
    "\n",
    "    if labels.all() == None:\n",
    "      raise Exception(\"You have to set the labels\")\n",
    "\n",
    "    if len(embeddings)!=len(labels)!=graph.number_of_nodes:\n",
    "      raise Exception(\"Not corresponding demensions!\")\n",
    "\n",
    "    super(EmailEuCore, self).__init__(\".\", transform, None, None)\n",
    "\n",
    "    data = Data(edge_index = self.edge_index())\n",
    "    data.num_nodes = graph.number_of_nodes()\n",
    "\n",
    "    # features vector\n",
    "    data.x = torch.from_numpy(embeddings).type(torch.float32)\n",
    "\n",
    "    # labels\n",
    "    y = torch.from_numpy(labels).type(torch.long)\n",
    "    data.y = y.clone().detach()\n",
    "\n",
    "    data.num_classes = labels.max() + 1\n",
    "\n",
    "    # Deviding the data set into 70% training, 15% validation and 15% testing\n",
    "\n",
    "    X_train, X_test, y_train, y_test = train_test_split(pd.Series(graph.nodes()), pd.Series(labels),\n",
    "                                                        test_size = 0.15, random_state = seed)\n",
    "    \n",
    "    X_train, X_val, y_train, y_val = train_test_split(X_train, y_train,\n",
    "                                                      test_size = 0.17, random_state = seed)\n",
    "    \n",
    "    # We set a mask for all sets\n",
    "    train_mask = torch.zeros(data.num_nodes, dtype = torch.bool)\n",
    "    test_mask = torch.zeros(data.num_nodes, dtype = torch.bool)\n",
    "    val_mask = torch.zeros(data.num_nodes, dtype = torch.bool)\n",
    "    train_mask[X_train.index] = True\n",
    "    test_mask[X_test.index] = True\n",
    "    val_mask[X_val.index] = True\n",
    "\n",
    "    data[\"train_mask\"] = train_mask\n",
    "    data[\"test_mask\"] = test_mask\n",
    "    data[\"val_mask\"] = val_mask\n",
    "\n",
    "    self.data, self.slices = self.collate([data])\n",
    "\n",
    "  def edge_index(self):\n",
    "    # We need the adjacency matrix\n",
    "    adj_matrix = nx.to_scipy_sparse_matrix(graph).tocoo()\n",
    "\n",
    "    # Creating the index\n",
    "    rows = torch.from_numpy(adj_matrix.row.astype(np.int64)).to(torch.long)\n",
    "    cols = torch.from_numpy(adj_matrix.col.astype(np.int64)).to(torch.long)\n",
    "\n",
    "    return torch.stack([rows, cols], dim=0)"
   ]
  },
  {
   "cell_type": "markdown",
   "metadata": {
    "id": "fYju5I9Aso4r"
   },
   "source": [
    "## Define model"
   ]
  },
  {
   "cell_type": "markdown",
   "metadata": {
    "id": "iCquKWl2SBwz"
   },
   "source": [
    "As model we used a Graph Convolutional Network with 3 hidden layers of 500, 250 and 100 neurons each.\n",
    "\n",
    "As activation functions we've used RELU in the hidden layers and softmax for the output.\n",
    "\n",
    "Because we're working with a convolutional neural network type we use batch normalization to avoid using dropout: dropout would make performance drop because convolutional neural networks have fewer parameters than in a conventional fully connected neural network."
   ]
  },
  {
   "cell_type": "code",
   "execution_count": 26,
   "metadata": {
    "executionInfo": {
     "elapsed": 34,
     "status": "ok",
     "timestamp": 1653053842660,
     "user": {
      "displayName": "mario edoardo pandolfo",
      "userId": "12743341317218556392"
     },
     "user_tz": -120
    },
    "id": "wTxtheurW-Np"
   },
   "outputs": [],
   "source": [
    "class Net(torch.nn.Module):\n",
    "  def __init__(self, data = None):\n",
    "    \n",
    "    if not data:\n",
    "      raise Exception(\"You have to pass a data\")\n",
    "\n",
    "    super(Net, self).__init__()\n",
    "    self.conv1 = GCNConv(data.num_features, 500)\n",
    "    self.bn1 = torch.nn.BatchNorm1d(500)\n",
    "    self.conv2 = GCNConv(500, 250)\n",
    "    self.bn2 = torch.nn.BatchNorm1d(250)\n",
    "    self.conv3 = GCNConv(250, 100)\n",
    "    self.bn3 = torch.nn.BatchNorm1d(100)\n",
    "    self.conv4 = GCNConv(100, int(data.num_classes))\n",
    "  \n",
    "  def forward(self, data):\n",
    "    x, edge_index = data.x, data.edge_index\n",
    "    x = F.relu(self.bn1(self.conv1(x, edge_index)))\n",
    "    x = F.relu(self.bn2(self.conv2(x, edge_index)))\n",
    "    x = F.relu(self.bn3(self.conv3(x, edge_index)))\n",
    "    x = self.conv4(x, edge_index)\n",
    "    return F.log_softmax(x, dim=1)"
   ]
  },
  {
   "cell_type": "markdown",
   "metadata": {
    "id": "mLnmB3zHst5d"
   },
   "source": [
    "## Training and testing functions"
   ]
  },
  {
   "cell_type": "markdown",
   "metadata": {
    "id": "ePqB64hHUalj"
   },
   "source": [
    "Here we define three functions:\n",
    "- **train():** where we set the model in training by calling model.train(), clear the gradient with \"optimizer.zero_grad()\", calculate the *negative log likelihood* and backpropagate the result with \"F.nll_loss(model(data)[data.train_mask], data.y[data.train_mask]).backward()\" and we update the weights with \"optimizer.step()\".\n",
    "- **test():** where we set the model into evaluation mode with \"model.eval()\" and get the prediction on the test set data.\n",
    "- **validation():** same of the test function but with the validation set data, but we return the f1-score."
   ]
  },
  {
   "cell_type": "code",
   "execution_count": 27,
   "metadata": {
    "executionInfo": {
     "elapsed": 34,
     "status": "ok",
     "timestamp": 1653053842661,
     "user": {
      "displayName": "mario edoardo pandolfo",
      "userId": "12743341317218556392"
     },
     "user_tz": -120
    },
    "id": "Gsg8mWMngXl5"
   },
   "outputs": [],
   "source": [
    "def train(model, optimizer, data):\n",
    "\n",
    "  model.train()\n",
    "  optimizer.zero_grad()\n",
    "\n",
    "  F.nll_loss(model(data)[data.train_mask], data.y[data.train_mask]).backward() \n",
    "  optimizer.step()\n",
    "\n",
    "@torch.no_grad()\n",
    "def test(model, data):\n",
    "\n",
    "  model.eval()\n",
    "  logits = model(data)\n",
    "  \n",
    "  test_mask = data['test_mask']\n",
    "  test_pred = logits[test_mask].max(1)[1]\n",
    "\n",
    "  return data.y[test_mask].cpu(), test_pred.cpu()\n",
    "\n",
    "\n",
    "@torch.no_grad()\n",
    "def validation(model, data):\n",
    "\n",
    "  model.eval()\n",
    "  logits = model(data)\n",
    "  \n",
    "  val_mask = data['val_mask']\n",
    "  val_pred = logits[val_mask].max(1)[1]\n",
    "\n",
    "  precision = precision_score(data.y[val_mask].cpu(), val_pred.cpu(), average='weighted', zero_division = 0)\n",
    "  recall = recall_score(data.y[val_mask].cpu(), val_pred.cpu(), average='weighted', zero_division = 0)\n",
    "\n",
    "  return (2*precision*recall)/(precision+recall)"
   ]
  },
  {
   "cell_type": "markdown",
   "metadata": {
    "id": "0542rMnHs2E9"
   },
   "source": [
    "## Training and testing"
   ]
  },
  {
   "cell_type": "markdown",
   "metadata": {
    "id": "AlyqQlJFV6gK"
   },
   "source": [
    "Here we do the real training of the model.\n",
    "\n",
    "There is a main loop over all the embeddings we have defined previously, nested with a secondary loop in which we train the model and evaluate it measuring the f1 score and compare it with the maximum value we got so far: if the current model has a better f1 score on the validation set we update the maximum of the f1 score with the current model f1 score and save the model with \"torch.save(model.state_dict(), path)\".\n",
    "The main loop continues with the testing section where we load the best model found and test it on the test set data.\n",
    "\n",
    "In the end we print accuracy, precision, recall and f1-score of the best model and we output also the confusion matrix."
   ]
  },
  {
   "cell_type": "code",
   "execution_count": 36,
   "metadata": {
    "colab": {
     "base_uri": "https://localhost:8080/",
     "height": 1000
    },
    "executionInfo": {
     "elapsed": 32068,
     "status": "ok",
     "timestamp": 1653057249467,
     "user": {
      "displayName": "mario edoardo pandolfo",
      "userId": "12743341317218556392"
     },
     "user_tz": -120
    },
    "id": "wmn2yFgxYwpM",
    "outputId": "c72b3b1a-b27a-466c-9b91-d2d57ebdc7af"
   },
   "outputs": [
    {
     "name": "stdout",
     "output_type": "stream",
     "text": [
      "Degree\n",
      "\n",
      "Confusion Matrix\n"
     ]
    },
    {
     "data": {
      "image/png": "[encoded data removed]",
      "text/plain": [
       "<Figure size 1080x1080 with 2 Axes>"
      ]
     },
     "metadata": {
      "needs_background": "light"
     },
     "output_type": "display_data"
    },
    {
     "name": "stdout",
     "output_type": "stream",
     "text": [
      "\n",
      "Metrics over testing:\n",
      "  Type  Accuracy  Precision   Recall  F1-Score\n",
      "Degree  0.635762   0.692841 0.635762  0.663075\n",
      "\n",
      "######################################################################\n",
      "\n",
      "\n",
      "Betweenness\n",
      "\n",
      "Confusion Matrix\n"
     ]
    },
    {
     "data": {
      "image/png": "[encoded data removed]",
      "text/plain": [
       "<Figure size 1080x1080 with 2 Axes>"
      ]
     },
     "metadata": {
      "needs_background": "light"
     },
     "output_type": "display_data"
    },
    {
     "name": "stdout",
     "output_type": "stream",
     "text": [
      "\n",
      "Metrics over testing:\n",
      "       Type  Accuracy  Precision   Recall  F1-Score\n",
      "Betweenness  0.582781    0.61021 0.582781   0.59618\n",
      "\n",
      "######################################################################\n",
      "\n",
      "\n",
      "Closeness\n",
      "\n",
      "Confusion Matrix\n"
     ]
    },
    {
     "data": {
      "image/png": "[encoded data removed]",
      "text/plain": [
       "<Figure size 1080x1080 with 2 Axes>"
      ]
     },
     "metadata": {
      "needs_background": "light"
     },
     "output_type": "display_data"
    },
    {
     "name": "stdout",
     "output_type": "stream",
     "text": [
      "\n",
      "Metrics over testing:\n",
      "     Type  Accuracy  Precision   Recall  F1-Score\n",
      "Closeness  0.615894   0.666858 0.615894  0.640364\n",
      "\n",
      "######################################################################\n",
      "\n",
      "\n",
      "Eigen\n",
      "\n",
      "Confusion Matrix\n"
     ]
    },
    {
     "data": {
      "image/png": "[encoded data removed]",
      "text/plain": [
       "<Figure size 1080x1080 with 2 Axes>"
      ]
     },
     "metadata": {
      "needs_background": "light"
     },
     "output_type": "display_data"
    },
    {
     "name": "stdout",
     "output_type": "stream",
     "text": [
      "\n",
      "Metrics over testing:\n",
      " Type  Accuracy  Precision   Recall  F1-Score\n",
      "Eigen  0.662252   0.739039 0.662252  0.698542\n",
      "\n",
      "######################################################################\n",
      "\n",
      "\n",
      "Metrics over testing\n",
      "       Type  Accuracy  Precision   Recall  F1-Score\n",
      "     Degree  0.635762   0.692841 0.635762  0.663075\n",
      "Betweenness  0.582781   0.610210 0.582781  0.596180\n",
      "  Closeness  0.615894   0.666858 0.615894  0.640364\n",
      "      Eigen  0.662252   0.739039 0.662252  0.698542\n",
      "\n",
      "######################################################################\n"
     ]
    }
   ],
   "source": [
    "seed = 1234\n",
    "epochs = 20000\n",
    "training = False\n",
    "\n",
    "lr = 1e-1\n",
    "torch.manual_seed(seed)\n",
    "\n",
    "device = torch.device('cuda' if torch.cuda.is_available() else 'cpu')\n",
    "\n",
    "test_metrics = pd.DataFrame(columns = ['Type', 'Accuracy', 'Precision', 'Recall', 'F1-Score'])\n",
    "\n",
    "PATH =  \"gdrive/MyDrive/hw1-social-network/\" # path where to save the model\n",
    "\n",
    "cm_labels = []\n",
    "\n",
    "for label in labels:\n",
    "  if label not in cm_labels:\n",
    "    cm_labels.append(label)\n",
    "cm_labels.sort()\n",
    "\n",
    "for embedding in embeddings:\n",
    "\n",
    "  print(embedding)\n",
    "\n",
    "  # Preparing the dataset\n",
    "  dataset = EmailEuCore(graph = graph, embeddings = embeddings[embedding], labels = labels, seed = seed)\n",
    "  data = dataset[0]\n",
    "\n",
    "  best_epoch = 0\n",
    "\n",
    "  data =  data.to(device)\n",
    "  model = Net(data).to(device)\n",
    "\n",
    "  optimizer = torch.optim.Adam(model.parameters(), lr=lr)\n",
    "  max_f1_score = 0\n",
    "\n",
    "  if training:\n",
    "\n",
    "    # Train the model on the train set\n",
    "    for epoch in tqdm(range(1, epochs+1)):\n",
    "\n",
    "      # training of the model\n",
    "      train(model = model, optimizer = optimizer, data = data)\n",
    "\n",
    "      # Validation of the model on the validation set\n",
    "      val_f1 = validation(model = model, data = data)\n",
    "\n",
    "      # Checking if the current f1 score is better than the maximum we have\n",
    "      if max_f1_score < val_f1:\n",
    "\n",
    "        best_epoch = epoch\n",
    "        max_f1_score = val_f1\n",
    "\n",
    "        # Saving the best model\n",
    "        torch.save(model.state_dict(), PATH+embedding+'-GCN-model.pth')\n",
    "\n",
    "  # Load the best model according to f1_score\n",
    "  model.load_state_dict(torch.load(PATH+embedding+'-GCN-model.pth', map_location=torch.device('cuda' if torch.cuda.is_available() else 'cpu') ))\n",
    "\n",
    "  # Eval the model on the test set\n",
    "  test_true, test_pred = test(model = model, data = data)\n",
    "\n",
    "  test_precision = precision_score(test_true, test_pred, average='weighted', zero_division = 0)\n",
    "  test_recall = recall_score(test_true, test_pred, average='weighted', zero_division = 0)\n",
    "\n",
    "  # Saving the test metrics in a dataframe\n",
    "  current_test_metric =  pd.DataFrame([[embedding, accuracy_score(test_true, test_pred),\n",
    "                                   test_precision, test_recall, (2*test_precision*test_recall)/(test_precision+test_recall)]],\n",
    "                                 columns = ['Type', 'Accuracy', 'Precision', 'Recall', 'F1-Score'])\n",
    "\n",
    "  # Printing the confusion matrix\n",
    "  print()\n",
    "  print(\"Confusion Matrix\")\n",
    "  fig, ax = plt.subplots(figsize=(15, 15))\n",
    "  ConfusionMatrixDisplay.from_predictions(test_true, test_pred, labels = cm_labels, ax=ax)\n",
    "  plt.show()\n",
    "  print()\n",
    "  if training:\n",
    "    print(\"Best epoch:\", best_epoch)\n",
    "    print(\"F1-score in validation:\", max_f1_score)\n",
    "  print(\"Metrics over testing:\")\n",
    "  print(current_test_metric.to_string(index = False))\n",
    "\n",
    "  test_metrics = pd.concat([test_metrics, current_test_metric])\n",
    "\n",
    "  print()\n",
    "  print('#' * 70)\n",
    "  print()\n",
    "  print()\n",
    "\n",
    "# Printing the tables with all the metrics\n",
    "print(\"Metrics over testing\")\n",
    "print(test_metrics.to_string(index = False))\n",
    "print()\n",
    "print('#' * 70)"
   ]
  },
  {
   "cell_type": "markdown",
   "metadata": {
    "id": "i66V4gLVIWMJ"
   },
   "source": [
    "## Results"
   ]
  },
  {
   "cell_type": "markdown",
   "metadata": {
    "id": "BFKDdoxKIYz8"
   },
   "source": [
    "As we can see the best results come from the two expected embeddings (**degree** and **eigenvector centrality**), but even **closeness centrality** and **betweenness centrality** give us metrics above 0.5.\n",
    "We can see from the confusion matrix that the model is hable to classify pretty accurately the nodes/people that comes from the more popular departments (14, 4, 1...), but misses on classifing the ones with smaller number of members.\n",
    "\n",
    "I think that the solution to over come this problem would be to have more data about the smaller departments."
   ]
  },
  {
   "cell_type": "markdown",
   "metadata": {
    "id": "4vWUT2Spc7Yv"
   },
   "source": [
    "# Bonus - Comparing different models"
   ]
  },
  {
   "cell_type": "markdown",
   "metadata": {
    "id": "aX0OScx7e20D"
   },
   "source": [
    "## Importing additional libraries"
   ]
  },
  {
   "cell_type": "code",
   "execution_count": 29,
   "metadata": {
    "executionInfo": {
     "elapsed": 29,
     "status": "ok",
     "timestamp": 1653053872410,
     "user": {
      "displayName": "mario edoardo pandolfo",
      "userId": "12743341317218556392"
     },
     "user_tz": -120
    },
    "id": "HbaDmLs9c93Z"
   },
   "outputs": [],
   "source": [
    "from sklearn.neighbors import KNeighborsClassifier"
   ]
  },
  {
   "cell_type": "markdown",
   "metadata": {
    "id": "PE4AL907CgXg"
   },
   "source": [
    "## Training the knn"
   ]
  },
  {
   "cell_type": "markdown",
   "metadata": {
    "id": "u5DJt_BkY8x6"
   },
   "source": [
    "We used as a different type of model a KNN-classifier: the reason behind this choice is that for this problem we want to indentify nodes that are in the same clusters, so a KNN-classifier, that is able to indentify the classes of nearby nodes, should work for this.\n",
    "\n",
    "We used the average degree of the nodes as the number of neighbors to look at for the KNN algorithm. "
   ]
  },
  {
   "cell_type": "code",
   "execution_count": 37,
   "metadata": {
    "colab": {
     "base_uri": "https://localhost:8080/",
     "height": 1000
    },
    "executionInfo": {
     "elapsed": 25988,
     "status": "ok",
     "timestamp": 1653057275450,
     "user": {
      "displayName": "mario edoardo pandolfo",
      "userId": "12743341317218556392"
     },
     "user_tz": -120
    },
    "id": "8m9F8A1ee1Wf",
    "outputId": "a8cf283e-8c02-4ba1-f325-c14326d30534"
   },
   "outputs": [
    {
     "name": "stdout",
     "output_type": "stream",
     "text": [
      "Degree\n",
      "\n",
      "Confusion Matrix\n"
     ]
    },
    {
     "data": {
      "image/png": "[encoded data removed]",
      "text/plain": [
       "<Figure size 1080x1080 with 2 Axes>"
      ]
     },
     "metadata": {
      "needs_background": "light"
     },
     "output_type": "display_data"
    },
    {
     "name": "stdout",
     "output_type": "stream",
     "text": [
      "\n",
      "  Type  Accuracy  Precision   Recall  F1-Score\n",
      "Degree  0.109272   0.060479 0.109272  0.077863\n",
      "\n",
      "######################################################################\n",
      "\n",
      "\n",
      "Betweenness\n",
      "\n",
      "Confusion Matrix\n"
     ]
    },
    {
     "data": {
      "image/png": "[encoded data removed]",
      "text/plain": [
       "<Figure size 1080x1080 with 2 Axes>"
      ]
     },
     "metadata": {
      "needs_background": "light"
     },
     "output_type": "display_data"
    },
    {
     "name": "stdout",
     "output_type": "stream",
     "text": [
      "\n",
      "       Type  Accuracy  Precision   Recall  F1-Score\n",
      "Betweenness  0.109272     0.0828 0.109272  0.094211\n",
      "\n",
      "######################################################################\n",
      "\n",
      "\n",
      "Closeness\n",
      "\n",
      "Confusion Matrix\n"
     ]
    },
    {
     "data": {
      "image/png": "[encoded data removed]",
      "text/plain": [
       "<Figure size 1080x1080 with 2 Axes>"
      ]
     },
     "metadata": {
      "needs_background": "light"
     },
     "output_type": "display_data"
    },
    {
     "name": "stdout",
     "output_type": "stream",
     "text": [
      "\n",
      "     Type  Accuracy  Precision   Recall  F1-Score\n",
      "Closeness  0.119205   0.070021 0.119205  0.088221\n",
      "\n",
      "######################################################################\n",
      "\n",
      "\n",
      "Eigen\n",
      "\n",
      "Confusion Matrix\n"
     ]
    },
    {
     "data": {
      "image/png": "[encoded data removed]",
      "text/plain": [
       "<Figure size 1080x1080 with 2 Axes>"
      ]
     },
     "metadata": {
      "needs_background": "light"
     },
     "output_type": "display_data"
    },
    {
     "name": "stdout",
     "output_type": "stream",
     "text": [
      "\n",
      " Type  Accuracy  Precision   Recall  F1-Score\n",
      "Eigen  0.122517   0.072268 0.122517  0.090911\n",
      "\n",
      "######################################################################\n",
      "\n",
      "\n",
      "Metrics over testing for knn\n",
      "       Type  Accuracy  Precision   Recall  F1-Score\n",
      "     Degree  0.109272   0.060479 0.109272  0.077863\n",
      "Betweenness  0.109272   0.082800 0.109272  0.094211\n",
      "  Closeness  0.119205   0.070021 0.119205  0.088221\n",
      "      Eigen  0.122517   0.072268 0.122517  0.090911\n",
      "\n",
      "######################################################################\n"
     ]
    }
   ],
   "source": [
    "seed = 1234\n",
    "\n",
    "knn_test_metrics = pd.DataFrame(columns = ['Type', 'Accuracy', 'Precision', 'Recall', 'F1-Score'])\n",
    "\n",
    "for embedding in embeddings:\n",
    "\n",
    "  print(embedding)\n",
    "\n",
    "  X_train, X_test, y_train, y_test = train_test_split(embeddings[embedding], labels,\n",
    "                                                      test_size = 0.3, random_state = seed)\n",
    "  \n",
    "  knn = KNeighborsClassifier(n_neighbors = int(np.sum(list(dict(graph.degree()).values()))/graph.number_of_nodes()))\n",
    "\n",
    "  knn.fit(X_train,y_train)\n",
    "  pred = knn.predict(X_test)\n",
    "\n",
    "  test_precision = precision_score(y_test, pred, average='weighted', zero_division = 0)\n",
    "  test_recall = recall_score(y_test, pred, average='weighted', zero_division = 0) \n",
    "\n",
    "  current_knn_test_metric =  pd.DataFrame([[embedding, accuracy_score(y_test, pred),\n",
    "                                        test_precision, test_recall, (2*test_precision*test_recall)/(test_precision+test_recall)]],\n",
    "                                      columns = ['Type', 'Accuracy', 'Precision', 'Recall', 'F1-Score'])\n",
    "  \n",
    "  print()\n",
    "  print(\"Confusion Matrix\")\n",
    "  fig, ax = plt.subplots(figsize=(15, 15))\n",
    "  ConfusionMatrixDisplay.from_predictions(y_test, pred, labels = cm_labels, ax=ax)\n",
    "  plt.show()\n",
    "  print()\n",
    "  print(current_knn_test_metric.to_string(index = False))\n",
    "\n",
    "  knn_test_metrics = pd.concat([knn_test_metrics, current_knn_test_metric])\n",
    "  print()\n",
    "  print('#' * 70)\n",
    "  print()\n",
    "  print()\n",
    "\n",
    "\n",
    "# Printing the tables with all the metrics\n",
    "print(\"Metrics over testing for knn\")\n",
    "print(knn_test_metrics.to_string(index = False))\n",
    "print()\n",
    "print('#' * 70)"
   ]
  },
  {
   "cell_type": "markdown",
   "metadata": {
    "id": "0ymeKMfs1KYO"
   },
   "source": [
    "## Results"
   ]
  },
  {
   "cell_type": "markdown",
   "metadata": {
    "id": "oRTwgUAY1NkA"
   },
   "source": [
    "As we can see the KNN-classifier is not able to reproduce the same metrics' values of the GCN, this should be caused by the complexity of the data structure (nodes sometimes are connected with other nodes that are not so close), that makes this type of algorithm not good for this task."
   ]
  }
 ],
 "metadata": {
  "authors": [
   {
    "name": "Mario Edoardo Pandolfo"
   }
  ],
  "colab": {
   "collapsed_sections": [
    "SepsuPiwFyUj",
    "dBDeX_tHFyU7",
    "3FBEbB12FyVF",
    "pmD4MyPeFyVU",
    "2KVD5GieS0Qv",
    "fYju5I9Aso4r",
    "mLnmB3zHst5d"
   ],
   "name": "hw1_social_network.ipynb",
   "provenance": []
  },
  "kernelspec": {
   "display_name": "Python 3 (ipykernel)",
   "language": "python",
   "name": "python3"
  },
  "language_info": {
   "codemirror_mode": {
    "name": "ipython",
    "version": 3
   },
   "file_extension": ".py",
   "mimetype": "text/x-python",
   "name": "python",
   "nbconvert_exporter": "python",
   "pygments_lexer": "ipython3",
   "version": "3.10.5"
  },
  "title": "Social Network and Online Markets Homework 1",
  "widgets": {
   "application/vnd.jupyter.widget-state+json": {
    "00cbfb36e3e843578989b480c61603c1": {
     "model_module": "@jupyter-widgets/controls",
     "model_module_version": "1.5.0",
     "model_name": "DescriptionStyleModel",
     "state": {
      "_model_module": "@jupyter-widgets/controls",
      "_model_module_version": "1.5.0",
      "_model_name": "DescriptionStyleModel",
      "_view_count": null,
      "_view_module": "@jupyter-widgets/base",
      "_view_module_version": "1.2.0",
      "_view_name": "StyleView",
      "description_width": ""
     }
    },
    "091bcc2cf5144cbcb4d569e05fab64ea": {
     "model_module": "@jupyter-widgets/controls",
     "model_module_version": "1.5.0",
     "model_name": "HTMLModel",
     "state": {
      "_dom_classes": [],
      "_model_module": "@jupyter-widgets/controls",
      "_model_module_version": "1.5.0",
      "_model_name": "HTMLModel",
      "_view_count": null,
      "_view_module": "@jupyter-widgets/controls",
      "_view_module_version": "1.5.0",
      "_view_name": "HTMLView",
      "description": "",
      "description_tooltip": null,
      "layout": "IPY_MODEL_64ad557926cd441cbe7485cd2e513a8a",
      "placeholder": "​",
      "style": "IPY_MODEL_12fbd7dda04e4d9ba18de0fd209784b7",
      "value": " 20000/20000 [01:22&lt;00:00, 2136.38it/s]"
     }
    },
    "0a48b190d50f43989f090ec4177783db": {
     "model_module": "@jupyter-widgets/base",
     "model_module_version": "1.2.0",
     "model_name": "LayoutModel",
     "state": {
      "_model_module": "@jupyter-widgets/base",
      "_model_module_version": "1.2.0",
      "_model_name": "LayoutModel",
      "_view_count": null,
      "_view_module": "@jupyter-widgets/base",
      "_view_module_version": "1.2.0",
      "_view_name": "LayoutView",
      "align_content": null,
      "align_items": null,
      "align_self": null,
      "border": null,
      "bottom": null,
      "display": null,
      "flex": null,
      "flex_flow": null,
      "grid_area": null,
      "grid_auto_columns": null,
      "grid_auto_flow": null,
      "grid_auto_rows": null,
      "grid_column": null,
      "grid_gap": null,
      "grid_row": null,
      "grid_template_areas": null,
      "grid_template_columns": null,
      "grid_template_rows": null,
      "height": null,
      "justify_content": null,
      "justify_items": null,
      "left": null,
      "margin": null,
      "max_height": null,
      "max_width": null,
      "min_height": null,
      "min_width": null,
      "object_fit": null,
      "object_position": null,
      "order": null,
      "overflow": null,
      "overflow_x": null,
      "overflow_y": null,
      "padding": null,
      "right": null,
      "top": null,
      "visibility": null,
      "width": null
     }
    },
    "0b63225fe1d646da8f9a5959452d8548": {
     "model_module": "@jupyter-widgets/controls",
     "model_module_version": "1.5.0",
     "model_name": "DescriptionStyleModel",
     "state": {
      "_model_module": "@jupyter-widgets/controls",
      "_model_module_version": "1.5.0",
      "_model_name": "DescriptionStyleModel",
      "_view_count": null,
      "_view_module": "@jupyter-widgets/base",
      "_view_module_version": "1.2.0",
      "_view_name": "StyleView",
      "description_width": ""
     }
    },
    "0dc7c7bf8f43499ca6df60d921501873": {
     "model_module": "@jupyter-widgets/base",
     "model_module_version": "1.2.0",
     "model_name": "LayoutModel",
     "state": {
      "_model_module": "@jupyter-widgets/base",
      "_model_module_version": "1.2.0",
      "_model_name": "LayoutModel",
      "_view_count": null,
      "_view_module": "@jupyter-widgets/base",
      "_view_module_version": "1.2.0",
      "_view_name": "LayoutView",
      "align_content": null,
      "align_items": null,
      "align_self": null,
      "border": null,
      "bottom": null,
      "display": null,
      "flex": null,
      "flex_flow": null,
      "grid_area": null,
      "grid_auto_columns": null,
      "grid_auto_flow": null,
      "grid_auto_rows": null,
      "grid_column": null,
      "grid_gap": null,
      "grid_row": null,
      "grid_template_areas": null,
      "grid_template_columns": null,
      "grid_template_rows": null,
      "height": null,
      "justify_content": null,
      "justify_items": null,
      "left": null,
      "margin": null,
      "max_height": null,
      "max_width": null,
      "min_height": null,
      "min_width": null,
      "object_fit": null,
      "object_position": null,
      "order": null,
      "overflow": null,
      "overflow_x": null,
      "overflow_y": null,
      "padding": null,
      "right": null,
      "top": null,
      "visibility": null,
      "width": null
     }
    },
    "0ea5fa64e26f419287502690c22e0d4c": {
     "model_module": "@jupyter-widgets/controls",
     "model_module_version": "1.5.0",
     "model_name": "ProgressStyleModel",
     "state": {
      "_model_module": "@jupyter-widgets/controls",
      "_model_module_version": "1.5.0",
      "_model_name": "ProgressStyleModel",
      "_view_count": null,
      "_view_module": "@jupyter-widgets/base",
      "_view_module_version": "1.2.0",
      "_view_name": "StyleView",
      "bar_color": null,
      "description_width": ""
     }
    },
    "124853ead1a64b23a7318a2de81b63e9": {
     "model_module": "@jupyter-widgets/controls",
     "model_module_version": "1.5.0",
     "model_name": "HBoxModel",
     "state": {
      "_dom_classes": [],
      "_model_module": "@jupyter-widgets/controls",
      "_model_module_version": "1.5.0",
      "_model_name": "HBoxModel",
      "_view_count": null,
      "_view_module": "@jupyter-widgets/controls",
      "_view_module_version": "1.5.0",
      "_view_name": "HBoxView",
      "box_style": "",
      "children": [
       "IPY_MODEL_727e4b9c922d4407b57c6b83b13f6090",
       "IPY_MODEL_b7fad1ed21f0437f93385b1f1b1670ac",
       "IPY_MODEL_5fda7de8f9754e0ca3caf27d203986fb"
      ],
      "layout": "IPY_MODEL_dc84ae3ec0c24cee9ce32202a6814852"
     }
    },
    "12fbd7dda04e4d9ba18de0fd209784b7": {
     "model_module": "@jupyter-widgets/controls",
     "model_module_version": "1.5.0",
     "model_name": "DescriptionStyleModel",
     "state": {
      "_model_module": "@jupyter-widgets/controls",
      "_model_module_version": "1.5.0",
      "_model_name": "DescriptionStyleModel",
      "_view_count": null,
      "_view_module": "@jupyter-widgets/base",
      "_view_module_version": "1.2.0",
      "_view_name": "StyleView",
      "description_width": ""
     }
    },
    "14c49a631ff74a20afa592f28b02635f": {
     "model_module": "@jupyter-widgets/controls",
     "model_module_version": "1.5.0",
     "model_name": "DescriptionStyleModel",
     "state": {
      "_model_module": "@jupyter-widgets/controls",
      "_model_module_version": "1.5.0",
      "_model_name": "DescriptionStyleModel",
      "_view_count": null,
      "_view_module": "@jupyter-widgets/base",
      "_view_module_version": "1.2.0",
      "_view_name": "StyleView",
      "description_width": ""
     }
    },
    "1999145beba14dd39e2eac129c679297": {
     "model_module": "@jupyter-widgets/base",
     "model_module_version": "1.2.0",
     "model_name": "LayoutModel",
     "state": {
      "_model_module": "@jupyter-widgets/base",
      "_model_module_version": "1.2.0",
      "_model_name": "LayoutModel",
      "_view_count": null,
      "_view_module": "@jupyter-widgets/base",
      "_view_module_version": "1.2.0",
      "_view_name": "LayoutView",
      "align_content": null,
      "align_items": null,
      "align_self": null,
      "border": null,
      "bottom": null,
      "display": null,
      "flex": null,
      "flex_flow": null,
      "grid_area": null,
      "grid_auto_columns": null,
      "grid_auto_flow": null,
      "grid_auto_rows": null,
      "grid_column": null,
      "grid_gap": null,
      "grid_row": null,
      "grid_template_areas": null,
      "grid_template_columns": null,
      "grid_template_rows": null,
      "height": null,
      "justify_content": null,
      "justify_items": null,
      "left": null,
      "margin": null,
      "max_height": null,
      "max_width": null,
      "min_height": null,
      "min_width": null,
      "object_fit": null,
      "object_position": null,
      "order": null,
      "overflow": null,
      "overflow_x": null,
      "overflow_y": null,
      "padding": null,
      "right": null,
      "top": null,
      "visibility": null,
      "width": null
     }
    },
    "19ebbf2415a945c1bcdfc405c7526793": {
     "model_module": "@jupyter-widgets/controls",
     "model_module_version": "1.5.0",
     "model_name": "HTMLModel",
     "state": {
      "_dom_classes": [],
      "_model_module": "@jupyter-widgets/controls",
      "_model_module_version": "1.5.0",
      "_model_name": "HTMLModel",
      "_view_count": null,
      "_view_module": "@jupyter-widgets/controls",
      "_view_module_version": "1.5.0",
      "_view_name": "HTMLView",
      "description": "",
      "description_tooltip": null,
      "layout": "IPY_MODEL_a7165e0aa0a24317944d37c4fb8e44b4",
      "placeholder": "​",
      "style": "IPY_MODEL_14c49a631ff74a20afa592f28b02635f",
      "value": "100%"
     }
    },
    "1ae7c9411fdb46718959383c02b28780": {
     "model_module": "@jupyter-widgets/controls",
     "model_module_version": "1.5.0",
     "model_name": "HTMLModel",
     "state": {
      "_dom_classes": [],
      "_model_module": "@jupyter-widgets/controls",
      "_model_module_version": "1.5.0",
      "_model_name": "HTMLModel",
      "_view_count": null,
      "_view_module": "@jupyter-widgets/controls",
      "_view_module_version": "1.5.0",
      "_view_name": "HTMLView",
      "description": "",
      "description_tooltip": null,
      "layout": "IPY_MODEL_93497261a768408682f440b1a56e0384",
      "placeholder": "​",
      "style": "IPY_MODEL_564c253c0c464fd8a30d0189c7e69d6f",
      "value": " 50000/50000 [12:10&lt;00:00, 37.07it/s]"
     }
    },
    "1eafba457d1045c49ec53e37d36f0c02": {
     "model_module": "@jupyter-widgets/base",
     "model_module_version": "1.2.0",
     "model_name": "LayoutModel",
     "state": {
      "_model_module": "@jupyter-widgets/base",
      "_model_module_version": "1.2.0",
      "_model_name": "LayoutModel",
      "_view_count": null,
      "_view_module": "@jupyter-widgets/base",
      "_view_module_version": "1.2.0",
      "_view_name": "LayoutView",
      "align_content": null,
      "align_items": null,
      "align_self": null,
      "border": null,
      "bottom": null,
      "display": null,
      "flex": null,
      "flex_flow": null,
      "grid_area": null,
      "grid_auto_columns": null,
      "grid_auto_flow": null,
      "grid_auto_rows": null,
      "grid_column": null,
      "grid_gap": null,
      "grid_row": null,
      "grid_template_areas": null,
      "grid_template_columns": null,
      "grid_template_rows": null,
      "height": null,
      "justify_content": null,
      "justify_items": null,
      "left": null,
      "margin": null,
      "max_height": null,
      "max_width": null,
      "min_height": null,
      "min_width": null,
      "object_fit": null,
      "object_position": null,
      "order": null,
      "overflow": null,
      "overflow_x": null,
      "overflow_y": null,
      "padding": null,
      "right": null,
      "top": null,
      "visibility": null,
      "width": null
     }
    },
    "20945d41dfce49019d2e37e4248a8a53": {
     "model_module": "@jupyter-widgets/base",
     "model_module_version": "1.2.0",
     "model_name": "LayoutModel",
     "state": {
      "_model_module": "@jupyter-widgets/base",
      "_model_module_version": "1.2.0",
      "_model_name": "LayoutModel",
      "_view_count": null,
      "_view_module": "@jupyter-widgets/base",
      "_view_module_version": "1.2.0",
      "_view_name": "LayoutView",
      "align_content": null,
      "align_items": null,
      "align_self": null,
      "border": null,
      "bottom": null,
      "display": null,
      "flex": null,
      "flex_flow": null,
      "grid_area": null,
      "grid_auto_columns": null,
      "grid_auto_flow": null,
      "grid_auto_rows": null,
      "grid_column": null,
      "grid_gap": null,
      "grid_row": null,
      "grid_template_areas": null,
      "grid_template_columns": null,
      "grid_template_rows": null,
      "height": null,
      "justify_content": null,
      "justify_items": null,
      "left": null,
      "margin": null,
      "max_height": null,
      "max_width": null,
      "min_height": null,
      "min_width": null,
      "object_fit": null,
      "object_position": null,
      "order": null,
      "overflow": null,
      "overflow_x": null,
      "overflow_y": null,
      "padding": null,
      "right": null,
      "top": null,
      "visibility": null,
      "width": null
     }
    },
    "2545f129c78b4dce80828c0d356468c4": {
     "model_module": "@jupyter-widgets/base",
     "model_module_version": "1.2.0",
     "model_name": "LayoutModel",
     "state": {
      "_model_module": "@jupyter-widgets/base",
      "_model_module_version": "1.2.0",
      "_model_name": "LayoutModel",
      "_view_count": null,
      "_view_module": "@jupyter-widgets/base",
      "_view_module_version": "1.2.0",
      "_view_name": "LayoutView",
      "align_content": null,
      "align_items": null,
      "align_self": null,
      "border": null,
      "bottom": null,
      "display": null,
      "flex": null,
      "flex_flow": null,
      "grid_area": null,
      "grid_auto_columns": null,
      "grid_auto_flow": null,
      "grid_auto_rows": null,
      "grid_column": null,
      "grid_gap": null,
      "grid_row": null,
      "grid_template_areas": null,
      "grid_template_columns": null,
      "grid_template_rows": null,
      "height": null,
      "justify_content": null,
      "justify_items": null,
      "left": null,
      "margin": null,
      "max_height": null,
      "max_width": null,
      "min_height": null,
      "min_width": null,
      "object_fit": null,
      "object_position": null,
      "order": null,
      "overflow": null,
      "overflow_x": null,
      "overflow_y": null,
      "padding": null,
      "right": null,
      "top": null,
      "visibility": null,
      "width": null
     }
    },
    "258669b29c9e4d7cabdc7e3ee53c0a37": {
     "model_module": "@jupyter-widgets/controls",
     "model_module_version": "1.5.0",
     "model_name": "ProgressStyleModel",
     "state": {
      "_model_module": "@jupyter-widgets/controls",
      "_model_module_version": "1.5.0",
      "_model_name": "ProgressStyleModel",
      "_view_count": null,
      "_view_module": "@jupyter-widgets/base",
      "_view_module_version": "1.2.0",
      "_view_name": "StyleView",
      "bar_color": null,
      "description_width": ""
     }
    },
    "25f1a8e31608486c8371b35eba7db530": {
     "model_module": "@jupyter-widgets/base",
     "model_module_version": "1.2.0",
     "model_name": "LayoutModel",
     "state": {
      "_model_module": "@jupyter-widgets/base",
      "_model_module_version": "1.2.0",
      "_model_name": "LayoutModel",
      "_view_count": null,
      "_view_module": "@jupyter-widgets/base",
      "_view_module_version": "1.2.0",
      "_view_name": "LayoutView",
      "align_content": null,
      "align_items": null,
      "align_self": null,
      "border": null,
      "bottom": null,
      "display": null,
      "flex": null,
      "flex_flow": null,
      "grid_area": null,
      "grid_auto_columns": null,
      "grid_auto_flow": null,
      "grid_auto_rows": null,
      "grid_column": null,
      "grid_gap": null,
      "grid_row": null,
      "grid_template_areas": null,
      "grid_template_columns": null,
      "grid_template_rows": null,
      "height": null,
      "justify_content": null,
      "justify_items": null,
      "left": null,
      "margin": null,
      "max_height": null,
      "max_width": null,
      "min_height": null,
      "min_width": null,
      "object_fit": null,
      "object_position": null,
      "order": null,
      "overflow": null,
      "overflow_x": null,
      "overflow_y": null,
      "padding": null,
      "right": null,
      "top": null,
      "visibility": null,
      "width": null
     }
    },
    "272b19e841594e309bdb041863c9f9ae": {
     "model_module": "@jupyter-widgets/controls",
     "model_module_version": "1.5.0",
     "model_name": "ProgressStyleModel",
     "state": {
      "_model_module": "@jupyter-widgets/controls",
      "_model_module_version": "1.5.0",
      "_model_name": "ProgressStyleModel",
      "_view_count": null,
      "_view_module": "@jupyter-widgets/base",
      "_view_module_version": "1.2.0",
      "_view_name": "StyleView",
      "bar_color": null,
      "description_width": ""
     }
    },
    "28b6deb0b98a4c9a8179dcafadc0d458": {
     "model_module": "@jupyter-widgets/base",
     "model_module_version": "1.2.0",
     "model_name": "LayoutModel",
     "state": {
      "_model_module": "@jupyter-widgets/base",
      "_model_module_version": "1.2.0",
      "_model_name": "LayoutModel",
      "_view_count": null,
      "_view_module": "@jupyter-widgets/base",
      "_view_module_version": "1.2.0",
      "_view_name": "LayoutView",
      "align_content": null,
      "align_items": null,
      "align_self": null,
      "border": null,
      "bottom": null,
      "display": null,
      "flex": null,
      "flex_flow": null,
      "grid_area": null,
      "grid_auto_columns": null,
      "grid_auto_flow": null,
      "grid_auto_rows": null,
      "grid_column": null,
      "grid_gap": null,
      "grid_row": null,
      "grid_template_areas": null,
      "grid_template_columns": null,
      "grid_template_rows": null,
      "height": null,
      "justify_content": null,
      "justify_items": null,
      "left": null,
      "margin": null,
      "max_height": null,
      "max_width": null,
      "min_height": null,
      "min_width": null,
      "object_fit": null,
      "object_position": null,
      "order": null,
      "overflow": null,
      "overflow_x": null,
      "overflow_y": null,
      "padding": null,
      "right": null,
      "top": null,
      "visibility": null,
      "width": null
     }
    },
    "2bb9371bf95c4f539a82855ddb5b1b93": {
     "model_module": "@jupyter-widgets/base",
     "model_module_version": "1.2.0",
     "model_name": "LayoutModel",
     "state": {
      "_model_module": "@jupyter-widgets/base",
      "_model_module_version": "1.2.0",
      "_model_name": "LayoutModel",
      "_view_count": null,
      "_view_module": "@jupyter-widgets/base",
      "_view_module_version": "1.2.0",
      "_view_name": "LayoutView",
      "align_content": null,
      "align_items": null,
      "align_self": null,
      "border": null,
      "bottom": null,
      "display": null,
      "flex": null,
      "flex_flow": null,
      "grid_area": null,
      "grid_auto_columns": null,
      "grid_auto_flow": null,
      "grid_auto_rows": null,
      "grid_column": null,
      "grid_gap": null,
      "grid_row": null,
      "grid_template_areas": null,
      "grid_template_columns": null,
      "grid_template_rows": null,
      "height": null,
      "justify_content": null,
      "justify_items": null,
      "left": null,
      "margin": null,
      "max_height": null,
      "max_width": null,
      "min_height": null,
      "min_width": null,
      "object_fit": null,
      "object_position": null,
      "order": null,
      "overflow": null,
      "overflow_x": null,
      "overflow_y": null,
      "padding": null,
      "right": null,
      "top": null,
      "visibility": null,
      "width": null
     }
    },
    "2c1e68b0eda940029598d2571f2262e3": {
     "model_module": "@jupyter-widgets/controls",
     "model_module_version": "1.5.0",
     "model_name": "ProgressStyleModel",
     "state": {
      "_model_module": "@jupyter-widgets/controls",
      "_model_module_version": "1.5.0",
      "_model_name": "ProgressStyleModel",
      "_view_count": null,
      "_view_module": "@jupyter-widgets/base",
      "_view_module_version": "1.2.0",
      "_view_name": "StyleView",
      "bar_color": null,
      "description_width": ""
     }
    },
    "2d4db09e16774d039cb85b81bf6c4635": {
     "model_module": "@jupyter-widgets/controls",
     "model_module_version": "1.5.0",
     "model_name": "DescriptionStyleModel",
     "state": {
      "_model_module": "@jupyter-widgets/controls",
      "_model_module_version": "1.5.0",
      "_model_name": "DescriptionStyleModel",
      "_view_count": null,
      "_view_module": "@jupyter-widgets/base",
      "_view_module_version": "1.2.0",
      "_view_name": "StyleView",
      "description_width": ""
     }
    },
    "2e02839b35114826a8d6bb71688ed303": {
     "model_module": "@jupyter-widgets/controls",
     "model_module_version": "1.5.0",
     "model_name": "HTMLModel",
     "state": {
      "_dom_classes": [],
      "_model_module": "@jupyter-widgets/controls",
      "_model_module_version": "1.5.0",
      "_model_name": "HTMLModel",
      "_view_count": null,
      "_view_module": "@jupyter-widgets/controls",
      "_view_module_version": "1.5.0",
      "_view_name": "HTMLView",
      "description": "",
      "description_tooltip": null,
      "layout": "IPY_MODEL_63832bd68d564d898adee222787c07ae",
      "placeholder": "​",
      "style": "IPY_MODEL_485345d3a6cf49cc91cfb415d2a10135",
      "value": " 50000/50000 [43:29&lt;00:00,  9.47it/s]"
     }
    },
    "3049ae3bb781427dae7f6afdf8793293": {
     "model_module": "@jupyter-widgets/controls",
     "model_module_version": "1.5.0",
     "model_name": "HBoxModel",
     "state": {
      "_dom_classes": [],
      "_model_module": "@jupyter-widgets/controls",
      "_model_module_version": "1.5.0",
      "_model_name": "HBoxModel",
      "_view_count": null,
      "_view_module": "@jupyter-widgets/controls",
      "_view_module_version": "1.5.0",
      "_view_name": "HBoxView",
      "box_style": "",
      "children": [
       "IPY_MODEL_e2702ae9d11b41a8bfae0cc75651f166",
       "IPY_MODEL_7a16e8732295423fa1edc4a8904adb83",
       "IPY_MODEL_9d33190e0809449c963e7e842852f27a"
      ],
      "layout": "IPY_MODEL_99681d09b2024325b7d53819d3bcca38"
     }
    },
    "312522d77c624aafb929bbbb2c627535": {
     "model_module": "@jupyter-widgets/controls",
     "model_module_version": "1.5.0",
     "model_name": "FloatProgressModel",
     "state": {
      "_dom_classes": [],
      "_model_module": "@jupyter-widgets/controls",
      "_model_module_version": "1.5.0",
      "_model_name": "FloatProgressModel",
      "_view_count": null,
      "_view_module": "@jupyter-widgets/controls",
      "_view_module_version": "1.5.0",
      "_view_name": "ProgressView",
      "bar_style": "success",
      "description": "",
      "description_tooltip": null,
      "layout": "IPY_MODEL_2bb9371bf95c4f539a82855ddb5b1b93",
      "max": 50000,
      "min": 0,
      "orientation": "horizontal",
      "style": "IPY_MODEL_6100f64a83fc4abda7abf9c4aeb082cb",
      "value": 50000
     }
    },
    "32a0e00977ce4a579c5671b082d556af": {
     "model_module": "@jupyter-widgets/controls",
     "model_module_version": "1.5.0",
     "model_name": "FloatProgressModel",
     "state": {
      "_dom_classes": [],
      "_model_module": "@jupyter-widgets/controls",
      "_model_module_version": "1.5.0",
      "_model_name": "FloatProgressModel",
      "_view_count": null,
      "_view_module": "@jupyter-widgets/controls",
      "_view_module_version": "1.5.0",
      "_view_name": "ProgressView",
      "bar_style": "success",
      "description": "",
      "description_tooltip": null,
      "layout": "IPY_MODEL_b504855d1b804ec19ffadc133065a95b",
      "max": 50000,
      "min": 0,
      "orientation": "horizontal",
      "style": "IPY_MODEL_258669b29c9e4d7cabdc7e3ee53c0a37",
      "value": 50000
     }
    },
    "363d2b8bc61844749adfb575fb82ae9f": {
     "model_module": "@jupyter-widgets/controls",
     "model_module_version": "1.5.0",
     "model_name": "HTMLModel",
     "state": {
      "_dom_classes": [],
      "_model_module": "@jupyter-widgets/controls",
      "_model_module_version": "1.5.0",
      "_model_name": "HTMLModel",
      "_view_count": null,
      "_view_module": "@jupyter-widgets/controls",
      "_view_module_version": "1.5.0",
      "_view_name": "HTMLView",
      "description": "",
      "description_tooltip": null,
      "layout": "IPY_MODEL_6b3aa02b89b34f6b9f4cffa815cddea1",
      "placeholder": "​",
      "style": "IPY_MODEL_b4d908a3696b46eca083512a157c1e42",
      "value": "100%"
     }
    },
    "38991719f5a04273aa58b533e78d2f70": {
     "model_module": "@jupyter-widgets/controls",
     "model_module_version": "1.5.0",
     "model_name": "HTMLModel",
     "state": {
      "_dom_classes": [],
      "_model_module": "@jupyter-widgets/controls",
      "_model_module_version": "1.5.0",
      "_model_name": "HTMLModel",
      "_view_count": null,
      "_view_module": "@jupyter-widgets/controls",
      "_view_module_version": "1.5.0",
      "_view_name": "HTMLView",
      "description": "",
      "description_tooltip": null,
      "layout": "IPY_MODEL_ae0700837e0242f1b60cc247d5991ac4",
      "placeholder": "​",
      "style": "IPY_MODEL_3eac3d9b53b7489da78070d23a5e4f04",
      "value": " 50000/50000 [07:50&lt;00:00, 2180.80it/s]"
     }
    },
    "3b4103dc8abf480aa2b0f16224ec3332": {
     "model_module": "@jupyter-widgets/controls",
     "model_module_version": "1.5.0",
     "model_name": "HTMLModel",
     "state": {
      "_dom_classes": [],
      "_model_module": "@jupyter-widgets/controls",
      "_model_module_version": "1.5.0",
      "_model_name": "HTMLModel",
      "_view_count": null,
      "_view_module": "@jupyter-widgets/controls",
      "_view_module_version": "1.5.0",
      "_view_name": "HTMLView",
      "description": "",
      "description_tooltip": null,
      "layout": "IPY_MODEL_aaaa638d3f1c41c6a4f63d96afc15db3",
      "placeholder": "​",
      "style": "IPY_MODEL_6ac67036382d485bbfc446ef91e244f3",
      "value": " 4/4 [00:58&lt;00:00, 15.31s/it]"
     }
    },
    "3d54fee9d2ef4390b9f63af5b92b58eb": {
     "model_module": "@jupyter-widgets/controls",
     "model_module_version": "1.5.0",
     "model_name": "FloatProgressModel",
     "state": {
      "_dom_classes": [],
      "_model_module": "@jupyter-widgets/controls",
      "_model_module_version": "1.5.0",
      "_model_name": "FloatProgressModel",
      "_view_count": null,
      "_view_module": "@jupyter-widgets/controls",
      "_view_module_version": "1.5.0",
      "_view_name": "ProgressView",
      "bar_style": "success",
      "description": "",
      "description_tooltip": null,
      "layout": "IPY_MODEL_7d08e394513647e2b9cc3ee1833ccf97",
      "max": 20000,
      "min": 0,
      "orientation": "horizontal",
      "style": "IPY_MODEL_0ea5fa64e26f419287502690c22e0d4c",
      "value": 20000
     }
    },
    "3eac3d9b53b7489da78070d23a5e4f04": {
     "model_module": "@jupyter-widgets/controls",
     "model_module_version": "1.5.0",
     "model_name": "DescriptionStyleModel",
     "state": {
      "_model_module": "@jupyter-widgets/controls",
      "_model_module_version": "1.5.0",
      "_model_name": "DescriptionStyleModel",
      "_view_count": null,
      "_view_module": "@jupyter-widgets/base",
      "_view_module_version": "1.2.0",
      "_view_name": "StyleView",
      "description_width": ""
     }
    },
    "400fe7a92e0e405e8884312b298cbfba": {
     "model_module": "@jupyter-widgets/base",
     "model_module_version": "1.2.0",
     "model_name": "LayoutModel",
     "state": {
      "_model_module": "@jupyter-widgets/base",
      "_model_module_version": "1.2.0",
      "_model_name": "LayoutModel",
      "_view_count": null,
      "_view_module": "@jupyter-widgets/base",
      "_view_module_version": "1.2.0",
      "_view_name": "LayoutView",
      "align_content": null,
      "align_items": null,
      "align_self": null,
      "border": null,
      "bottom": null,
      "display": null,
      "flex": null,
      "flex_flow": null,
      "grid_area": null,
      "grid_auto_columns": null,
      "grid_auto_flow": null,
      "grid_auto_rows": null,
      "grid_column": null,
      "grid_gap": null,
      "grid_row": null,
      "grid_template_areas": null,
      "grid_template_columns": null,
      "grid_template_rows": null,
      "height": null,
      "justify_content": null,
      "justify_items": null,
      "left": null,
      "margin": null,
      "max_height": null,
      "max_width": null,
      "min_height": null,
      "min_width": null,
      "object_fit": null,
      "object_position": null,
      "order": null,
      "overflow": null,
      "overflow_x": null,
      "overflow_y": null,
      "padding": null,
      "right": null,
      "top": null,
      "visibility": null,
      "width": null
     }
    },
    "45fc3083549743d6839580c295815ea3": {
     "model_module": "@jupyter-widgets/controls",
     "model_module_version": "1.5.0",
     "model_name": "FloatProgressModel",
     "state": {
      "_dom_classes": [],
      "_model_module": "@jupyter-widgets/controls",
      "_model_module_version": "1.5.0",
      "_model_name": "FloatProgressModel",
      "_view_count": null,
      "_view_module": "@jupyter-widgets/controls",
      "_view_module_version": "1.5.0",
      "_view_name": "ProgressView",
      "bar_style": "success",
      "description": "",
      "description_tooltip": null,
      "layout": "IPY_MODEL_9724035c3424454f9bd6bdaa9f267a04",
      "max": 20000,
      "min": 0,
      "orientation": "horizontal",
      "style": "IPY_MODEL_52bc2a3779b144bf851b9f34155c8bc1",
      "value": 20000
     }
    },
    "485345d3a6cf49cc91cfb415d2a10135": {
     "model_module": "@jupyter-widgets/controls",
     "model_module_version": "1.5.0",
     "model_name": "DescriptionStyleModel",
     "state": {
      "_model_module": "@jupyter-widgets/controls",
      "_model_module_version": "1.5.0",
      "_model_name": "DescriptionStyleModel",
      "_view_count": null,
      "_view_module": "@jupyter-widgets/base",
      "_view_module_version": "1.2.0",
      "_view_name": "StyleView",
      "description_width": ""
     }
    },
    "4a604e0397ef47228ce4efc22be84385": {
     "model_module": "@jupyter-widgets/controls",
     "model_module_version": "1.5.0",
     "model_name": "HTMLModel",
     "state": {
      "_dom_classes": [],
      "_model_module": "@jupyter-widgets/controls",
      "_model_module_version": "1.5.0",
      "_model_name": "HTMLModel",
      "_view_count": null,
      "_view_module": "@jupyter-widgets/controls",
      "_view_module_version": "1.5.0",
      "_view_name": "HTMLView",
      "description": "",
      "description_tooltip": null,
      "layout": "IPY_MODEL_adcdb3008cbb416eaf4165286c2462e2",
      "placeholder": "​",
      "style": "IPY_MODEL_0b63225fe1d646da8f9a5959452d8548",
      "value": " 20000/20000 [01:38&lt;00:00, 2199.72it/s]"
     }
    },
    "5030695365914c689cda6d25189dbc4b": {
     "model_module": "@jupyter-widgets/base",
     "model_module_version": "1.2.0",
     "model_name": "LayoutModel",
     "state": {
      "_model_module": "@jupyter-widgets/base",
      "_model_module_version": "1.2.0",
      "_model_name": "LayoutModel",
      "_view_count": null,
      "_view_module": "@jupyter-widgets/base",
      "_view_module_version": "1.2.0",
      "_view_name": "LayoutView",
      "align_content": null,
      "align_items": null,
      "align_self": null,
      "border": null,
      "bottom": null,
      "display": null,
      "flex": null,
      "flex_flow": null,
      "grid_area": null,
      "grid_auto_columns": null,
      "grid_auto_flow": null,
      "grid_auto_rows": null,
      "grid_column": null,
      "grid_gap": null,
      "grid_row": null,
      "grid_template_areas": null,
      "grid_template_columns": null,
      "grid_template_rows": null,
      "height": null,
      "justify_content": null,
      "justify_items": null,
      "left": null,
      "margin": null,
      "max_height": null,
      "max_width": null,
      "min_height": null,
      "min_width": null,
      "object_fit": null,
      "object_position": null,
      "order": null,
      "overflow": null,
      "overflow_x": null,
      "overflow_y": null,
      "padding": null,
      "right": null,
      "top": null,
      "visibility": null,
      "width": null
     }
    },
    "509361b7a4264048845345e674f24549": {
     "model_module": "@jupyter-widgets/base",
     "model_module_version": "1.2.0",
     "model_name": "LayoutModel",
     "state": {
      "_model_module": "@jupyter-widgets/base",
      "_model_module_version": "1.2.0",
      "_model_name": "LayoutModel",
      "_view_count": null,
      "_view_module": "@jupyter-widgets/base",
      "_view_module_version": "1.2.0",
      "_view_name": "LayoutView",
      "align_content": null,
      "align_items": null,
      "align_self": null,
      "border": null,
      "bottom": null,
      "display": null,
      "flex": null,
      "flex_flow": null,
      "grid_area": null,
      "grid_auto_columns": null,
      "grid_auto_flow": null,
      "grid_auto_rows": null,
      "grid_column": null,
      "grid_gap": null,
      "grid_row": null,
      "grid_template_areas": null,
      "grid_template_columns": null,
      "grid_template_rows": null,
      "height": null,
      "justify_content": null,
      "justify_items": null,
      "left": null,
      "margin": null,
      "max_height": null,
      "max_width": null,
      "min_height": null,
      "min_width": null,
      "object_fit": null,
      "object_position": null,
      "order": null,
      "overflow": null,
      "overflow_x": null,
      "overflow_y": null,
      "padding": null,
      "right": null,
      "top": null,
      "visibility": null,
      "width": null
     }
    },
    "52bc2a3779b144bf851b9f34155c8bc1": {
     "model_module": "@jupyter-widgets/controls",
     "model_module_version": "1.5.0",
     "model_name": "ProgressStyleModel",
     "state": {
      "_model_module": "@jupyter-widgets/controls",
      "_model_module_version": "1.5.0",
      "_model_name": "ProgressStyleModel",
      "_view_count": null,
      "_view_module": "@jupyter-widgets/base",
      "_view_module_version": "1.2.0",
      "_view_name": "StyleView",
      "bar_color": null,
      "description_width": ""
     }
    },
    "562f659bf88140148680402ed71b35e9": {
     "model_module": "@jupyter-widgets/base",
     "model_module_version": "1.2.0",
     "model_name": "LayoutModel",
     "state": {
      "_model_module": "@jupyter-widgets/base",
      "_model_module_version": "1.2.0",
      "_model_name": "LayoutModel",
      "_view_count": null,
      "_view_module": "@jupyter-widgets/base",
      "_view_module_version": "1.2.0",
      "_view_name": "LayoutView",
      "align_content": null,
      "align_items": null,
      "align_self": null,
      "border": null,
      "bottom": null,
      "display": null,
      "flex": null,
      "flex_flow": null,
      "grid_area": null,
      "grid_auto_columns": null,
      "grid_auto_flow": null,
      "grid_auto_rows": null,
      "grid_column": null,
      "grid_gap": null,
      "grid_row": null,
      "grid_template_areas": null,
      "grid_template_columns": null,
      "grid_template_rows": null,
      "height": null,
      "justify_content": null,
      "justify_items": null,
      "left": null,
      "margin": null,
      "max_height": null,
      "max_width": null,
      "min_height": null,
      "min_width": null,
      "object_fit": null,
      "object_position": null,
      "order": null,
      "overflow": null,
      "overflow_x": null,
      "overflow_y": null,
      "padding": null,
      "right": null,
      "top": null,
      "visibility": null,
      "width": null
     }
    },
    "564c253c0c464fd8a30d0189c7e69d6f": {
     "model_module": "@jupyter-widgets/controls",
     "model_module_version": "1.5.0",
     "model_name": "DescriptionStyleModel",
     "state": {
      "_model_module": "@jupyter-widgets/controls",
      "_model_module_version": "1.5.0",
      "_model_name": "DescriptionStyleModel",
      "_view_count": null,
      "_view_module": "@jupyter-widgets/base",
      "_view_module_version": "1.2.0",
      "_view_name": "StyleView",
      "description_width": ""
     }
    },
    "56d1a26ef96b4229a574c6cf4d78c79b": {
     "model_module": "@jupyter-widgets/controls",
     "model_module_version": "1.5.0",
     "model_name": "DescriptionStyleModel",
     "state": {
      "_model_module": "@jupyter-widgets/controls",
      "_model_module_version": "1.5.0",
      "_model_name": "DescriptionStyleModel",
      "_view_count": null,
      "_view_module": "@jupyter-widgets/base",
      "_view_module_version": "1.2.0",
      "_view_name": "StyleView",
      "description_width": ""
     }
    },
    "59cfc4b16ccc43a19319460c00ebafa9": {
     "model_module": "@jupyter-widgets/base",
     "model_module_version": "1.2.0",
     "model_name": "LayoutModel",
     "state": {
      "_model_module": "@jupyter-widgets/base",
      "_model_module_version": "1.2.0",
      "_model_name": "LayoutModel",
      "_view_count": null,
      "_view_module": "@jupyter-widgets/base",
      "_view_module_version": "1.2.0",
      "_view_name": "LayoutView",
      "align_content": null,
      "align_items": null,
      "align_self": null,
      "border": null,
      "bottom": null,
      "display": null,
      "flex": null,
      "flex_flow": null,
      "grid_area": null,
      "grid_auto_columns": null,
      "grid_auto_flow": null,
      "grid_auto_rows": null,
      "grid_column": null,
      "grid_gap": null,
      "grid_row": null,
      "grid_template_areas": null,
      "grid_template_columns": null,
      "grid_template_rows": null,
      "height": null,
      "justify_content": null,
      "justify_items": null,
      "left": null,
      "margin": null,
      "max_height": null,
      "max_width": null,
      "min_height": null,
      "min_width": null,
      "object_fit": null,
      "object_position": null,
      "order": null,
      "overflow": null,
      "overflow_x": null,
      "overflow_y": null,
      "padding": null,
      "right": null,
      "top": null,
      "visibility": null,
      "width": null
     }
    },
    "5d54c6c7c8224d0cb321f591ec36a378": {
     "model_module": "@jupyter-widgets/controls",
     "model_module_version": "1.5.0",
     "model_name": "FloatProgressModel",
     "state": {
      "_dom_classes": [],
      "_model_module": "@jupyter-widgets/controls",
      "_model_module_version": "1.5.0",
      "_model_name": "FloatProgressModel",
      "_view_count": null,
      "_view_module": "@jupyter-widgets/controls",
      "_view_module_version": "1.5.0",
      "_view_name": "ProgressView",
      "bar_style": "success",
      "description": "",
      "description_tooltip": null,
      "layout": "IPY_MODEL_400fe7a92e0e405e8884312b298cbfba",
      "max": 20000,
      "min": 0,
      "orientation": "horizontal",
      "style": "IPY_MODEL_ccf71fb474294b26874b8ad605c6b0a1",
      "value": 20000
     }
    },
    "5e78f5479b4c4e64ad9e4613c5ab09ca": {
     "model_module": "@jupyter-widgets/controls",
     "model_module_version": "1.5.0",
     "model_name": "HTMLModel",
     "state": {
      "_dom_classes": [],
      "_model_module": "@jupyter-widgets/controls",
      "_model_module_version": "1.5.0",
      "_model_name": "HTMLModel",
      "_view_count": null,
      "_view_module": "@jupyter-widgets/controls",
      "_view_module_version": "1.5.0",
      "_view_name": "HTMLView",
      "description": "",
      "description_tooltip": null,
      "layout": "IPY_MODEL_913acd1b9e21493f9caf98714693a5d7",
      "placeholder": "​",
      "style": "IPY_MODEL_f02b8f40c7554770ab6e41cabcd9e75e",
      "value": " 20000/20000 [05:31&lt;00:00, 27.14it/s]"
     }
    },
    "5fda7de8f9754e0ca3caf27d203986fb": {
     "model_module": "@jupyter-widgets/controls",
     "model_module_version": "1.5.0",
     "model_name": "HTMLModel",
     "state": {
      "_dom_classes": [],
      "_model_module": "@jupyter-widgets/controls",
      "_model_module_version": "1.5.0",
      "_model_name": "HTMLModel",
      "_view_count": null,
      "_view_module": "@jupyter-widgets/controls",
      "_view_module_version": "1.5.0",
      "_view_name": "HTMLView",
      "description": "",
      "description_tooltip": null,
      "layout": "IPY_MODEL_b0cd67a9fffe453ea71a26714d426fc1",
      "placeholder": "​",
      "style": "IPY_MODEL_00cbfb36e3e843578989b480c61603c1",
      "value": " 4/4 [01:12&lt;00:00, 20.08s/it]"
     }
    },
    "60d708afe2a64021941e859a0d77ad37": {
     "model_module": "@jupyter-widgets/controls",
     "model_module_version": "1.5.0",
     "model_name": "HBoxModel",
     "state": {
      "_dom_classes": [],
      "_model_module": "@jupyter-widgets/controls",
      "_model_module_version": "1.5.0",
      "_model_name": "HBoxModel",
      "_view_count": null,
      "_view_module": "@jupyter-widgets/controls",
      "_view_module_version": "1.5.0",
      "_view_name": "HBoxView",
      "box_style": "",
      "children": [
       "IPY_MODEL_363d2b8bc61844749adfb575fb82ae9f",
       "IPY_MODEL_ddf26df706de476aac418720dbfd2126",
       "IPY_MODEL_38991719f5a04273aa58b533e78d2f70"
      ],
      "layout": "IPY_MODEL_0dc7c7bf8f43499ca6df60d921501873"
     }
    },
    "6100f64a83fc4abda7abf9c4aeb082cb": {
     "model_module": "@jupyter-widgets/controls",
     "model_module_version": "1.5.0",
     "model_name": "ProgressStyleModel",
     "state": {
      "_model_module": "@jupyter-widgets/controls",
      "_model_module_version": "1.5.0",
      "_model_name": "ProgressStyleModel",
      "_view_count": null,
      "_view_module": "@jupyter-widgets/base",
      "_view_module_version": "1.2.0",
      "_view_name": "StyleView",
      "bar_color": null,
      "description_width": ""
     }
    },
    "63832bd68d564d898adee222787c07ae": {
     "model_module": "@jupyter-widgets/base",
     "model_module_version": "1.2.0",
     "model_name": "LayoutModel",
     "state": {
      "_model_module": "@jupyter-widgets/base",
      "_model_module_version": "1.2.0",
      "_model_name": "LayoutModel",
      "_view_count": null,
      "_view_module": "@jupyter-widgets/base",
      "_view_module_version": "1.2.0",
      "_view_name": "LayoutView",
      "align_content": null,
      "align_items": null,
      "align_self": null,
      "border": null,
      "bottom": null,
      "display": null,
      "flex": null,
      "flex_flow": null,
      "grid_area": null,
      "grid_auto_columns": null,
      "grid_auto_flow": null,
      "grid_auto_rows": null,
      "grid_column": null,
      "grid_gap": null,
      "grid_row": null,
      "grid_template_areas": null,
      "grid_template_columns": null,
      "grid_template_rows": null,
      "height": null,
      "justify_content": null,
      "justify_items": null,
      "left": null,
      "margin": null,
      "max_height": null,
      "max_width": null,
      "min_height": null,
      "min_width": null,
      "object_fit": null,
      "object_position": null,
      "order": null,
      "overflow": null,
      "overflow_x": null,
      "overflow_y": null,
      "padding": null,
      "right": null,
      "top": null,
      "visibility": null,
      "width": null
     }
    },
    "64ad557926cd441cbe7485cd2e513a8a": {
     "model_module": "@jupyter-widgets/base",
     "model_module_version": "1.2.0",
     "model_name": "LayoutModel",
     "state": {
      "_model_module": "@jupyter-widgets/base",
      "_model_module_version": "1.2.0",
      "_model_name": "LayoutModel",
      "_view_count": null,
      "_view_module": "@jupyter-widgets/base",
      "_view_module_version": "1.2.0",
      "_view_name": "LayoutView",
      "align_content": null,
      "align_items": null,
      "align_self": null,
      "border": null,
      "bottom": null,
      "display": null,
      "flex": null,
      "flex_flow": null,
      "grid_area": null,
      "grid_auto_columns": null,
      "grid_auto_flow": null,
      "grid_auto_rows": null,
      "grid_column": null,
      "grid_gap": null,
      "grid_row": null,
      "grid_template_areas": null,
      "grid_template_columns": null,
      "grid_template_rows": null,
      "height": null,
      "justify_content": null,
      "justify_items": null,
      "left": null,
      "margin": null,
      "max_height": null,
      "max_width": null,
      "min_height": null,
      "min_width": null,
      "object_fit": null,
      "object_position": null,
      "order": null,
      "overflow": null,
      "overflow_x": null,
      "overflow_y": null,
      "padding": null,
      "right": null,
      "top": null,
      "visibility": null,
      "width": null
     }
    },
    "6668024cc28d4a7b82a3c9cb2cada107": {
     "model_module": "@jupyter-widgets/base",
     "model_module_version": "1.2.0",
     "model_name": "LayoutModel",
     "state": {
      "_model_module": "@jupyter-widgets/base",
      "_model_module_version": "1.2.0",
      "_model_name": "LayoutModel",
      "_view_count": null,
      "_view_module": "@jupyter-widgets/base",
      "_view_module_version": "1.2.0",
      "_view_name": "LayoutView",
      "align_content": null,
      "align_items": null,
      "align_self": null,
      "border": null,
      "bottom": null,
      "display": null,
      "flex": null,
      "flex_flow": null,
      "grid_area": null,
      "grid_auto_columns": null,
      "grid_auto_flow": null,
      "grid_auto_rows": null,
      "grid_column": null,
      "grid_gap": null,
      "grid_row": null,
      "grid_template_areas": null,
      "grid_template_columns": null,
      "grid_template_rows": null,
      "height": null,
      "justify_content": null,
      "justify_items": null,
      "left": null,
      "margin": null,
      "max_height": null,
      "max_width": null,
      "min_height": null,
      "min_width": null,
      "object_fit": null,
      "object_position": null,
      "order": null,
      "overflow": null,
      "overflow_x": null,
      "overflow_y": null,
      "padding": null,
      "right": null,
      "top": null,
      "visibility": null,
      "width": null
     }
    },
    "6ac67036382d485bbfc446ef91e244f3": {
     "model_module": "@jupyter-widgets/controls",
     "model_module_version": "1.5.0",
     "model_name": "DescriptionStyleModel",
     "state": {
      "_model_module": "@jupyter-widgets/controls",
      "_model_module_version": "1.5.0",
      "_model_name": "DescriptionStyleModel",
      "_view_count": null,
      "_view_module": "@jupyter-widgets/base",
      "_view_module_version": "1.2.0",
      "_view_name": "StyleView",
      "description_width": ""
     }
    },
    "6b3aa02b89b34f6b9f4cffa815cddea1": {
     "model_module": "@jupyter-widgets/base",
     "model_module_version": "1.2.0",
     "model_name": "LayoutModel",
     "state": {
      "_model_module": "@jupyter-widgets/base",
      "_model_module_version": "1.2.0",
      "_model_name": "LayoutModel",
      "_view_count": null,
      "_view_module": "@jupyter-widgets/base",
      "_view_module_version": "1.2.0",
      "_view_name": "LayoutView",
      "align_content": null,
      "align_items": null,
      "align_self": null,
      "border": null,
      "bottom": null,
      "display": null,
      "flex": null,
      "flex_flow": null,
      "grid_area": null,
      "grid_auto_columns": null,
      "grid_auto_flow": null,
      "grid_auto_rows": null,
      "grid_column": null,
      "grid_gap": null,
      "grid_row": null,
      "grid_template_areas": null,
      "grid_template_columns": null,
      "grid_template_rows": null,
      "height": null,
      "justify_content": null,
      "justify_items": null,
      "left": null,
      "margin": null,
      "max_height": null,
      "max_width": null,
      "min_height": null,
      "min_width": null,
      "object_fit": null,
      "object_position": null,
      "order": null,
      "overflow": null,
      "overflow_x": null,
      "overflow_y": null,
      "padding": null,
      "right": null,
      "top": null,
      "visibility": null,
      "width": null
     }
    },
    "6cf5f062b0da4752bd85b819a0f11da6": {
     "model_module": "@jupyter-widgets/controls",
     "model_module_version": "1.5.0",
     "model_name": "HTMLModel",
     "state": {
      "_dom_classes": [],
      "_model_module": "@jupyter-widgets/controls",
      "_model_module_version": "1.5.0",
      "_model_name": "HTMLModel",
      "_view_count": null,
      "_view_module": "@jupyter-widgets/controls",
      "_view_module_version": "1.5.0",
      "_view_name": "HTMLView",
      "description": "",
      "description_tooltip": null,
      "layout": "IPY_MODEL_790705a4dcd445f3ac76807307eb913d",
      "placeholder": "​",
      "style": "IPY_MODEL_6de56e78fd2249ecb0a5bc83aa091e87",
      "value": "100%"
     }
    },
    "6de56e78fd2249ecb0a5bc83aa091e87": {
     "model_module": "@jupyter-widgets/controls",
     "model_module_version": "1.5.0",
     "model_name": "DescriptionStyleModel",
     "state": {
      "_model_module": "@jupyter-widgets/controls",
      "_model_module_version": "1.5.0",
      "_model_name": "DescriptionStyleModel",
      "_view_count": null,
      "_view_module": "@jupyter-widgets/base",
      "_view_module_version": "1.2.0",
      "_view_name": "StyleView",
      "description_width": ""
     }
    },
    "703ec9430df1439c9e695f7285aacff1": {
     "model_module": "@jupyter-widgets/controls",
     "model_module_version": "1.5.0",
     "model_name": "DescriptionStyleModel",
     "state": {
      "_model_module": "@jupyter-widgets/controls",
      "_model_module_version": "1.5.0",
      "_model_name": "DescriptionStyleModel",
      "_view_count": null,
      "_view_module": "@jupyter-widgets/base",
      "_view_module_version": "1.2.0",
      "_view_name": "StyleView",
      "description_width": ""
     }
    },
    "70e49497eeb3405fb2dabb44890c990d": {
     "model_module": "@jupyter-widgets/controls",
     "model_module_version": "1.5.0",
     "model_name": "DescriptionStyleModel",
     "state": {
      "_model_module": "@jupyter-widgets/controls",
      "_model_module_version": "1.5.0",
      "_model_name": "DescriptionStyleModel",
      "_view_count": null,
      "_view_module": "@jupyter-widgets/base",
      "_view_module_version": "1.2.0",
      "_view_name": "StyleView",
      "description_width": ""
     }
    },
    "727e4b9c922d4407b57c6b83b13f6090": {
     "model_module": "@jupyter-widgets/controls",
     "model_module_version": "1.5.0",
     "model_name": "HTMLModel",
     "state": {
      "_dom_classes": [],
      "_model_module": "@jupyter-widgets/controls",
      "_model_module_version": "1.5.0",
      "_model_name": "HTMLModel",
      "_view_count": null,
      "_view_module": "@jupyter-widgets/controls",
      "_view_module_version": "1.5.0",
      "_view_name": "HTMLView",
      "description": "",
      "description_tooltip": null,
      "layout": "IPY_MODEL_1999145beba14dd39e2eac129c679297",
      "placeholder": "​",
      "style": "IPY_MODEL_c2340a7717cd44409de1803974ed5430",
      "value": "100%"
     }
    },
    "73e4db95e0fb4a5b9ea523c6ae439650": {
     "model_module": "@jupyter-widgets/controls",
     "model_module_version": "1.5.0",
     "model_name": "HTMLModel",
     "state": {
      "_dom_classes": [],
      "_model_module": "@jupyter-widgets/controls",
      "_model_module_version": "1.5.0",
      "_model_name": "HTMLModel",
      "_view_count": null,
      "_view_module": "@jupyter-widgets/controls",
      "_view_module_version": "1.5.0",
      "_view_name": "HTMLView",
      "description": "",
      "description_tooltip": null,
      "layout": "IPY_MODEL_97b8a4cfc0294314bc2914c503acd5f5",
      "placeholder": "​",
      "style": "IPY_MODEL_b98a45f1f3cf4057bca9b51fb6e38db7",
      "value": " 50000/50000 [07:50&lt;00:00, 2479.11it/s]"
     }
    },
    "790705a4dcd445f3ac76807307eb913d": {
     "model_module": "@jupyter-widgets/base",
     "model_module_version": "1.2.0",
     "model_name": "LayoutModel",
     "state": {
      "_model_module": "@jupyter-widgets/base",
      "_model_module_version": "1.2.0",
      "_model_name": "LayoutModel",
      "_view_count": null,
      "_view_module": "@jupyter-widgets/base",
      "_view_module_version": "1.2.0",
      "_view_name": "LayoutView",
      "align_content": null,
      "align_items": null,
      "align_self": null,
      "border": null,
      "bottom": null,
      "display": null,
      "flex": null,
      "flex_flow": null,
      "grid_area": null,
      "grid_auto_columns": null,
      "grid_auto_flow": null,
      "grid_auto_rows": null,
      "grid_column": null,
      "grid_gap": null,
      "grid_row": null,
      "grid_template_areas": null,
      "grid_template_columns": null,
      "grid_template_rows": null,
      "height": null,
      "justify_content": null,
      "justify_items": null,
      "left": null,
      "margin": null,
      "max_height": null,
      "max_width": null,
      "min_height": null,
      "min_width": null,
      "object_fit": null,
      "object_position": null,
      "order": null,
      "overflow": null,
      "overflow_x": null,
      "overflow_y": null,
      "padding": null,
      "right": null,
      "top": null,
      "visibility": null,
      "width": null
     }
    },
    "7a16e8732295423fa1edc4a8904adb83": {
     "model_module": "@jupyter-widgets/controls",
     "model_module_version": "1.5.0",
     "model_name": "FloatProgressModel",
     "state": {
      "_dom_classes": [],
      "_model_module": "@jupyter-widgets/controls",
      "_model_module_version": "1.5.0",
      "_model_name": "FloatProgressModel",
      "_view_count": null,
      "_view_module": "@jupyter-widgets/controls",
      "_view_module_version": "1.5.0",
      "_view_name": "ProgressView",
      "bar_style": "success",
      "description": "",
      "description_tooltip": null,
      "layout": "IPY_MODEL_25f1a8e31608486c8371b35eba7db530",
      "max": 50000,
      "min": 0,
      "orientation": "horizontal",
      "style": "IPY_MODEL_f96ba6ffef1541e1963807bf043c8898",
      "value": 50000
     }
    },
    "7d08e394513647e2b9cc3ee1833ccf97": {
     "model_module": "@jupyter-widgets/base",
     "model_module_version": "1.2.0",
     "model_name": "LayoutModel",
     "state": {
      "_model_module": "@jupyter-widgets/base",
      "_model_module_version": "1.2.0",
      "_model_name": "LayoutModel",
      "_view_count": null,
      "_view_module": "@jupyter-widgets/base",
      "_view_module_version": "1.2.0",
      "_view_name": "LayoutView",
      "align_content": null,
      "align_items": null,
      "align_self": null,
      "border": null,
      "bottom": null,
      "display": null,
      "flex": null,
      "flex_flow": null,
      "grid_area": null,
      "grid_auto_columns": null,
      "grid_auto_flow": null,
      "grid_auto_rows": null,
      "grid_column": null,
      "grid_gap": null,
      "grid_row": null,
      "grid_template_areas": null,
      "grid_template_columns": null,
      "grid_template_rows": null,
      "height": null,
      "justify_content": null,
      "justify_items": null,
      "left": null,
      "margin": null,
      "max_height": null,
      "max_width": null,
      "min_height": null,
      "min_width": null,
      "object_fit": null,
      "object_position": null,
      "order": null,
      "overflow": null,
      "overflow_x": null,
      "overflow_y": null,
      "padding": null,
      "right": null,
      "top": null,
      "visibility": null,
      "width": null
     }
    },
    "81569c0e33bd442aa54f5b3a701d1bb3": {
     "model_module": "@jupyter-widgets/base",
     "model_module_version": "1.2.0",
     "model_name": "LayoutModel",
     "state": {
      "_model_module": "@jupyter-widgets/base",
      "_model_module_version": "1.2.0",
      "_model_name": "LayoutModel",
      "_view_count": null,
      "_view_module": "@jupyter-widgets/base",
      "_view_module_version": "1.2.0",
      "_view_name": "LayoutView",
      "align_content": null,
      "align_items": null,
      "align_self": null,
      "border": null,
      "bottom": null,
      "display": null,
      "flex": null,
      "flex_flow": null,
      "grid_area": null,
      "grid_auto_columns": null,
      "grid_auto_flow": null,
      "grid_auto_rows": null,
      "grid_column": null,
      "grid_gap": null,
      "grid_row": null,
      "grid_template_areas": null,
      "grid_template_columns": null,
      "grid_template_rows": null,
      "height": null,
      "justify_content": null,
      "justify_items": null,
      "left": null,
      "margin": null,
      "max_height": null,
      "max_width": null,
      "min_height": null,
      "min_width": null,
      "object_fit": null,
      "object_position": null,
      "order": null,
      "overflow": null,
      "overflow_x": null,
      "overflow_y": null,
      "padding": null,
      "right": null,
      "top": null,
      "visibility": null,
      "width": null
     }
    },
    "82ff48ded2e849c280642636a73a01b8": {
     "model_module": "@jupyter-widgets/controls",
     "model_module_version": "1.5.0",
     "model_name": "HTMLModel",
     "state": {
      "_dom_classes": [],
      "_model_module": "@jupyter-widgets/controls",
      "_model_module_version": "1.5.0",
      "_model_name": "HTMLModel",
      "_view_count": null,
      "_view_module": "@jupyter-widgets/controls",
      "_view_module_version": "1.5.0",
      "_view_name": "HTMLView",
      "description": "",
      "description_tooltip": null,
      "layout": "IPY_MODEL_cf8455602994408f8988c498a77c8d98",
      "placeholder": "​",
      "style": "IPY_MODEL_a008fad2d1d1437398224650a2ca72bf",
      "value": "100%"
     }
    },
    "8cc65ce6a6dc4784bd4a90018c462caf": {
     "model_module": "@jupyter-widgets/controls",
     "model_module_version": "1.5.0",
     "model_name": "HBoxModel",
     "state": {
      "_dom_classes": [],
      "_model_module": "@jupyter-widgets/controls",
      "_model_module_version": "1.5.0",
      "_model_name": "HBoxModel",
      "_view_count": null,
      "_view_module": "@jupyter-widgets/controls",
      "_view_module_version": "1.5.0",
      "_view_name": "HBoxView",
      "box_style": "",
      "children": [
       "IPY_MODEL_b9604bf2ec114662a7e6e059be464e2e",
       "IPY_MODEL_5d54c6c7c8224d0cb321f591ec36a378",
       "IPY_MODEL_091bcc2cf5144cbcb4d569e05fab64ea"
      ],
      "layout": "IPY_MODEL_5030695365914c689cda6d25189dbc4b"
     }
    },
    "8d2a2ad1335c4b438395f6268b2e5683": {
     "model_module": "@jupyter-widgets/controls",
     "model_module_version": "1.5.0",
     "model_name": "ProgressStyleModel",
     "state": {
      "_model_module": "@jupyter-widgets/controls",
      "_model_module_version": "1.5.0",
      "_model_name": "ProgressStyleModel",
      "_view_count": null,
      "_view_module": "@jupyter-widgets/base",
      "_view_module_version": "1.2.0",
      "_view_name": "StyleView",
      "bar_color": null,
      "description_width": ""
     }
    },
    "8e65154df0964bfeb3ca1dc950af8db9": {
     "model_module": "@jupyter-widgets/controls",
     "model_module_version": "1.5.0",
     "model_name": "FloatProgressModel",
     "state": {
      "_dom_classes": [],
      "_model_module": "@jupyter-widgets/controls",
      "_model_module_version": "1.5.0",
      "_model_name": "FloatProgressModel",
      "_view_count": null,
      "_view_module": "@jupyter-widgets/controls",
      "_view_module_version": "1.5.0",
      "_view_name": "ProgressView",
      "bar_style": "success",
      "description": "",
      "description_tooltip": null,
      "layout": "IPY_MODEL_a5509734f41a4705b0546836d768c2b9",
      "max": 50000,
      "min": 0,
      "orientation": "horizontal",
      "style": "IPY_MODEL_a5d0d7a5105b4b20ba31a6bcb95a8858",
      "value": 50000
     }
    },
    "910821af6d264dc8b5df2dc07d1a8f46": {
     "model_module": "@jupyter-widgets/controls",
     "model_module_version": "1.5.0",
     "model_name": "DescriptionStyleModel",
     "state": {
      "_model_module": "@jupyter-widgets/controls",
      "_model_module_version": "1.5.0",
      "_model_name": "DescriptionStyleModel",
      "_view_count": null,
      "_view_module": "@jupyter-widgets/base",
      "_view_module_version": "1.2.0",
      "_view_name": "StyleView",
      "description_width": ""
     }
    },
    "913acd1b9e21493f9caf98714693a5d7": {
     "model_module": "@jupyter-widgets/base",
     "model_module_version": "1.2.0",
     "model_name": "LayoutModel",
     "state": {
      "_model_module": "@jupyter-widgets/base",
      "_model_module_version": "1.2.0",
      "_model_name": "LayoutModel",
      "_view_count": null,
      "_view_module": "@jupyter-widgets/base",
      "_view_module_version": "1.2.0",
      "_view_name": "LayoutView",
      "align_content": null,
      "align_items": null,
      "align_self": null,
      "border": null,
      "bottom": null,
      "display": null,
      "flex": null,
      "flex_flow": null,
      "grid_area": null,
      "grid_auto_columns": null,
      "grid_auto_flow": null,
      "grid_auto_rows": null,
      "grid_column": null,
      "grid_gap": null,
      "grid_row": null,
      "grid_template_areas": null,
      "grid_template_columns": null,
      "grid_template_rows": null,
      "height": null,
      "justify_content": null,
      "justify_items": null,
      "left": null,
      "margin": null,
      "max_height": null,
      "max_width": null,
      "min_height": null,
      "min_width": null,
      "object_fit": null,
      "object_position": null,
      "order": null,
      "overflow": null,
      "overflow_x": null,
      "overflow_y": null,
      "padding": null,
      "right": null,
      "top": null,
      "visibility": null,
      "width": null
     }
    },
    "93497261a768408682f440b1a56e0384": {
     "model_module": "@jupyter-widgets/base",
     "model_module_version": "1.2.0",
     "model_name": "LayoutModel",
     "state": {
      "_model_module": "@jupyter-widgets/base",
      "_model_module_version": "1.2.0",
      "_model_name": "LayoutModel",
      "_view_count": null,
      "_view_module": "@jupyter-widgets/base",
      "_view_module_version": "1.2.0",
      "_view_name": "LayoutView",
      "align_content": null,
      "align_items": null,
      "align_self": null,
      "border": null,
      "bottom": null,
      "display": null,
      "flex": null,
      "flex_flow": null,
      "grid_area": null,
      "grid_auto_columns": null,
      "grid_auto_flow": null,
      "grid_auto_rows": null,
      "grid_column": null,
      "grid_gap": null,
      "grid_row": null,
      "grid_template_areas": null,
      "grid_template_columns": null,
      "grid_template_rows": null,
      "height": null,
      "justify_content": null,
      "justify_items": null,
      "left": null,
      "margin": null,
      "max_height": null,
      "max_width": null,
      "min_height": null,
      "min_width": null,
      "object_fit": null,
      "object_position": null,
      "order": null,
      "overflow": null,
      "overflow_x": null,
      "overflow_y": null,
      "padding": null,
      "right": null,
      "top": null,
      "visibility": null,
      "width": null
     }
    },
    "941d4fccbfb54421b4faf4015bac2d1d": {
     "model_module": "@jupyter-widgets/controls",
     "model_module_version": "1.5.0",
     "model_name": "DescriptionStyleModel",
     "state": {
      "_model_module": "@jupyter-widgets/controls",
      "_model_module_version": "1.5.0",
      "_model_name": "DescriptionStyleModel",
      "_view_count": null,
      "_view_module": "@jupyter-widgets/base",
      "_view_module_version": "1.2.0",
      "_view_name": "StyleView",
      "description_width": ""
     }
    },
    "9724035c3424454f9bd6bdaa9f267a04": {
     "model_module": "@jupyter-widgets/base",
     "model_module_version": "1.2.0",
     "model_name": "LayoutModel",
     "state": {
      "_model_module": "@jupyter-widgets/base",
      "_model_module_version": "1.2.0",
      "_model_name": "LayoutModel",
      "_view_count": null,
      "_view_module": "@jupyter-widgets/base",
      "_view_module_version": "1.2.0",
      "_view_name": "LayoutView",
      "align_content": null,
      "align_items": null,
      "align_self": null,
      "border": null,
      "bottom": null,
      "display": null,
      "flex": null,
      "flex_flow": null,
      "grid_area": null,
      "grid_auto_columns": null,
      "grid_auto_flow": null,
      "grid_auto_rows": null,
      "grid_column": null,
      "grid_gap": null,
      "grid_row": null,
      "grid_template_areas": null,
      "grid_template_columns": null,
      "grid_template_rows": null,
      "height": null,
      "justify_content": null,
      "justify_items": null,
      "left": null,
      "margin": null,
      "max_height": null,
      "max_width": null,
      "min_height": null,
      "min_width": null,
      "object_fit": null,
      "object_position": null,
      "order": null,
      "overflow": null,
      "overflow_x": null,
      "overflow_y": null,
      "padding": null,
      "right": null,
      "top": null,
      "visibility": null,
      "width": null
     }
    },
    "97b8a4cfc0294314bc2914c503acd5f5": {
     "model_module": "@jupyter-widgets/base",
     "model_module_version": "1.2.0",
     "model_name": "LayoutModel",
     "state": {
      "_model_module": "@jupyter-widgets/base",
      "_model_module_version": "1.2.0",
      "_model_name": "LayoutModel",
      "_view_count": null,
      "_view_module": "@jupyter-widgets/base",
      "_view_module_version": "1.2.0",
      "_view_name": "LayoutView",
      "align_content": null,
      "align_items": null,
      "align_self": null,
      "border": null,
      "bottom": null,
      "display": null,
      "flex": null,
      "flex_flow": null,
      "grid_area": null,
      "grid_auto_columns": null,
      "grid_auto_flow": null,
      "grid_auto_rows": null,
      "grid_column": null,
      "grid_gap": null,
      "grid_row": null,
      "grid_template_areas": null,
      "grid_template_columns": null,
      "grid_template_rows": null,
      "height": null,
      "justify_content": null,
      "justify_items": null,
      "left": null,
      "margin": null,
      "max_height": null,
      "max_width": null,
      "min_height": null,
      "min_width": null,
      "object_fit": null,
      "object_position": null,
      "order": null,
      "overflow": null,
      "overflow_x": null,
      "overflow_y": null,
      "padding": null,
      "right": null,
      "top": null,
      "visibility": null,
      "width": null
     }
    },
    "994145c0fcd945c2b2240ad8288d91d8": {
     "model_module": "@jupyter-widgets/base",
     "model_module_version": "1.2.0",
     "model_name": "LayoutModel",
     "state": {
      "_model_module": "@jupyter-widgets/base",
      "_model_module_version": "1.2.0",
      "_model_name": "LayoutModel",
      "_view_count": null,
      "_view_module": "@jupyter-widgets/base",
      "_view_module_version": "1.2.0",
      "_view_name": "LayoutView",
      "align_content": null,
      "align_items": null,
      "align_self": null,
      "border": null,
      "bottom": null,
      "display": null,
      "flex": null,
      "flex_flow": null,
      "grid_area": null,
      "grid_auto_columns": null,
      "grid_auto_flow": null,
      "grid_auto_rows": null,
      "grid_column": null,
      "grid_gap": null,
      "grid_row": null,
      "grid_template_areas": null,
      "grid_template_columns": null,
      "grid_template_rows": null,
      "height": null,
      "justify_content": null,
      "justify_items": null,
      "left": null,
      "margin": null,
      "max_height": null,
      "max_width": null,
      "min_height": null,
      "min_width": null,
      "object_fit": null,
      "object_position": null,
      "order": null,
      "overflow": null,
      "overflow_x": null,
      "overflow_y": null,
      "padding": null,
      "right": null,
      "top": null,
      "visibility": null,
      "width": null
     }
    },
    "99681d09b2024325b7d53819d3bcca38": {
     "model_module": "@jupyter-widgets/base",
     "model_module_version": "1.2.0",
     "model_name": "LayoutModel",
     "state": {
      "_model_module": "@jupyter-widgets/base",
      "_model_module_version": "1.2.0",
      "_model_name": "LayoutModel",
      "_view_count": null,
      "_view_module": "@jupyter-widgets/base",
      "_view_module_version": "1.2.0",
      "_view_name": "LayoutView",
      "align_content": null,
      "align_items": null,
      "align_self": null,
      "border": null,
      "bottom": null,
      "display": null,
      "flex": null,
      "flex_flow": null,
      "grid_area": null,
      "grid_auto_columns": null,
      "grid_auto_flow": null,
      "grid_auto_rows": null,
      "grid_column": null,
      "grid_gap": null,
      "grid_row": null,
      "grid_template_areas": null,
      "grid_template_columns": null,
      "grid_template_rows": null,
      "height": null,
      "justify_content": null,
      "justify_items": null,
      "left": null,
      "margin": null,
      "max_height": null,
      "max_width": null,
      "min_height": null,
      "min_width": null,
      "object_fit": null,
      "object_position": null,
      "order": null,
      "overflow": null,
      "overflow_x": null,
      "overflow_y": null,
      "padding": null,
      "right": null,
      "top": null,
      "visibility": null,
      "width": null
     }
    },
    "9ced9ea79cda4561af67d317685cf942": {
     "model_module": "@jupyter-widgets/controls",
     "model_module_version": "1.5.0",
     "model_name": "DescriptionStyleModel",
     "state": {
      "_model_module": "@jupyter-widgets/controls",
      "_model_module_version": "1.5.0",
      "_model_name": "DescriptionStyleModel",
      "_view_count": null,
      "_view_module": "@jupyter-widgets/base",
      "_view_module_version": "1.2.0",
      "_view_name": "StyleView",
      "description_width": ""
     }
    },
    "9d33190e0809449c963e7e842852f27a": {
     "model_module": "@jupyter-widgets/controls",
     "model_module_version": "1.5.0",
     "model_name": "HTMLModel",
     "state": {
      "_dom_classes": [],
      "_model_module": "@jupyter-widgets/controls",
      "_model_module_version": "1.5.0",
      "_model_name": "HTMLModel",
      "_view_count": null,
      "_view_module": "@jupyter-widgets/controls",
      "_view_module_version": "1.5.0",
      "_view_name": "HTMLView",
      "description": "",
      "description_tooltip": null,
      "layout": "IPY_MODEL_1eafba457d1045c49ec53e37d36f0c02",
      "placeholder": "​",
      "style": "IPY_MODEL_941d4fccbfb54421b4faf4015bac2d1d",
      "value": " 50000/50000 [22:35&lt;00:00, 18.31it/s]"
     }
    },
    "a008fad2d1d1437398224650a2ca72bf": {
     "model_module": "@jupyter-widgets/controls",
     "model_module_version": "1.5.0",
     "model_name": "DescriptionStyleModel",
     "state": {
      "_model_module": "@jupyter-widgets/controls",
      "_model_module_version": "1.5.0",
      "_model_name": "DescriptionStyleModel",
      "_view_count": null,
      "_view_module": "@jupyter-widgets/base",
      "_view_module_version": "1.2.0",
      "_view_name": "StyleView",
      "description_width": ""
     }
    },
    "a2e013c75a1b4fdb842adb5140c0a74d": {
     "model_module": "@jupyter-widgets/base",
     "model_module_version": "1.2.0",
     "model_name": "LayoutModel",
     "state": {
      "_model_module": "@jupyter-widgets/base",
      "_model_module_version": "1.2.0",
      "_model_name": "LayoutModel",
      "_view_count": null,
      "_view_module": "@jupyter-widgets/base",
      "_view_module_version": "1.2.0",
      "_view_name": "LayoutView",
      "align_content": null,
      "align_items": null,
      "align_self": null,
      "border": null,
      "bottom": null,
      "display": null,
      "flex": null,
      "flex_flow": null,
      "grid_area": null,
      "grid_auto_columns": null,
      "grid_auto_flow": null,
      "grid_auto_rows": null,
      "grid_column": null,
      "grid_gap": null,
      "grid_row": null,
      "grid_template_areas": null,
      "grid_template_columns": null,
      "grid_template_rows": null,
      "height": null,
      "justify_content": null,
      "justify_items": null,
      "left": null,
      "margin": null,
      "max_height": null,
      "max_width": null,
      "min_height": null,
      "min_width": null,
      "object_fit": null,
      "object_position": null,
      "order": null,
      "overflow": null,
      "overflow_x": null,
      "overflow_y": null,
      "padding": null,
      "right": null,
      "top": null,
      "visibility": null,
      "width": null
     }
    },
    "a37af727373249bda8203824b46ad351": {
     "model_module": "@jupyter-widgets/controls",
     "model_module_version": "1.5.0",
     "model_name": "HBoxModel",
     "state": {
      "_dom_classes": [],
      "_model_module": "@jupyter-widgets/controls",
      "_model_module_version": "1.5.0",
      "_model_name": "HBoxModel",
      "_view_count": null,
      "_view_module": "@jupyter-widgets/controls",
      "_view_module_version": "1.5.0",
      "_view_name": "HBoxView",
      "box_style": "",
      "children": [
       "IPY_MODEL_6cf5f062b0da4752bd85b819a0f11da6",
       "IPY_MODEL_cdf461314c5948df81b60e0e144329b9",
       "IPY_MODEL_3b4103dc8abf480aa2b0f16224ec3332"
      ],
      "layout": "IPY_MODEL_562f659bf88140148680402ed71b35e9"
     }
    },
    "a5509734f41a4705b0546836d768c2b9": {
     "model_module": "@jupyter-widgets/base",
     "model_module_version": "1.2.0",
     "model_name": "LayoutModel",
     "state": {
      "_model_module": "@jupyter-widgets/base",
      "_model_module_version": "1.2.0",
      "_model_name": "LayoutModel",
      "_view_count": null,
      "_view_module": "@jupyter-widgets/base",
      "_view_module_version": "1.2.0",
      "_view_name": "LayoutView",
      "align_content": null,
      "align_items": null,
      "align_self": null,
      "border": null,
      "bottom": null,
      "display": null,
      "flex": null,
      "flex_flow": null,
      "grid_area": null,
      "grid_auto_columns": null,
      "grid_auto_flow": null,
      "grid_auto_rows": null,
      "grid_column": null,
      "grid_gap": null,
      "grid_row": null,
      "grid_template_areas": null,
      "grid_template_columns": null,
      "grid_template_rows": null,
      "height": null,
      "justify_content": null,
      "justify_items": null,
      "left": null,
      "margin": null,
      "max_height": null,
      "max_width": null,
      "min_height": null,
      "min_width": null,
      "object_fit": null,
      "object_position": null,
      "order": null,
      "overflow": null,
      "overflow_x": null,
      "overflow_y": null,
      "padding": null,
      "right": null,
      "top": null,
      "visibility": null,
      "width": null
     }
    },
    "a5cb22b96f4145aaa47c671f1718e977": {
     "model_module": "@jupyter-widgets/controls",
     "model_module_version": "1.5.0",
     "model_name": "HTMLModel",
     "state": {
      "_dom_classes": [],
      "_model_module": "@jupyter-widgets/controls",
      "_model_module_version": "1.5.0",
      "_model_name": "HTMLModel",
      "_view_count": null,
      "_view_module": "@jupyter-widgets/controls",
      "_view_module_version": "1.5.0",
      "_view_name": "HTMLView",
      "description": "",
      "description_tooltip": null,
      "layout": "IPY_MODEL_6668024cc28d4a7b82a3c9cb2cada107",
      "placeholder": "​",
      "style": "IPY_MODEL_d08f7ba00bb64296a3d3b4ea8de0cf36",
      "value": "100%"
     }
    },
    "a5d0d7a5105b4b20ba31a6bcb95a8858": {
     "model_module": "@jupyter-widgets/controls",
     "model_module_version": "1.5.0",
     "model_name": "ProgressStyleModel",
     "state": {
      "_model_module": "@jupyter-widgets/controls",
      "_model_module_version": "1.5.0",
      "_model_name": "ProgressStyleModel",
      "_view_count": null,
      "_view_module": "@jupyter-widgets/base",
      "_view_module_version": "1.2.0",
      "_view_name": "StyleView",
      "bar_color": null,
      "description_width": ""
     }
    },
    "a6680f2483654d96981ba415f721cfff": {
     "model_module": "@jupyter-widgets/controls",
     "model_module_version": "1.5.0",
     "model_name": "HBoxModel",
     "state": {
      "_dom_classes": [],
      "_model_module": "@jupyter-widgets/controls",
      "_model_module_version": "1.5.0",
      "_model_name": "HBoxModel",
      "_view_count": null,
      "_view_module": "@jupyter-widgets/controls",
      "_view_module_version": "1.5.0",
      "_view_name": "HBoxView",
      "box_style": "",
      "children": [
       "IPY_MODEL_a5cb22b96f4145aaa47c671f1718e977",
       "IPY_MODEL_32a0e00977ce4a579c5671b082d556af",
       "IPY_MODEL_73e4db95e0fb4a5b9ea523c6ae439650"
      ],
      "layout": "IPY_MODEL_0a48b190d50f43989f090ec4177783db"
     }
    },
    "a7165e0aa0a24317944d37c4fb8e44b4": {
     "model_module": "@jupyter-widgets/base",
     "model_module_version": "1.2.0",
     "model_name": "LayoutModel",
     "state": {
      "_model_module": "@jupyter-widgets/base",
      "_model_module_version": "1.2.0",
      "_model_name": "LayoutModel",
      "_view_count": null,
      "_view_module": "@jupyter-widgets/base",
      "_view_module_version": "1.2.0",
      "_view_name": "LayoutView",
      "align_content": null,
      "align_items": null,
      "align_self": null,
      "border": null,
      "bottom": null,
      "display": null,
      "flex": null,
      "flex_flow": null,
      "grid_area": null,
      "grid_auto_columns": null,
      "grid_auto_flow": null,
      "grid_auto_rows": null,
      "grid_column": null,
      "grid_gap": null,
      "grid_row": null,
      "grid_template_areas": null,
      "grid_template_columns": null,
      "grid_template_rows": null,
      "height": null,
      "justify_content": null,
      "justify_items": null,
      "left": null,
      "margin": null,
      "max_height": null,
      "max_width": null,
      "min_height": null,
      "min_width": null,
      "object_fit": null,
      "object_position": null,
      "order": null,
      "overflow": null,
      "overflow_x": null,
      "overflow_y": null,
      "padding": null,
      "right": null,
      "top": null,
      "visibility": null,
      "width": null
     }
    },
    "aa159c5819344d13846e4ec4f5a591d7": {
     "model_module": "@jupyter-widgets/base",
     "model_module_version": "1.2.0",
     "model_name": "LayoutModel",
     "state": {
      "_model_module": "@jupyter-widgets/base",
      "_model_module_version": "1.2.0",
      "_model_name": "LayoutModel",
      "_view_count": null,
      "_view_module": "@jupyter-widgets/base",
      "_view_module_version": "1.2.0",
      "_view_name": "LayoutView",
      "align_content": null,
      "align_items": null,
      "align_self": null,
      "border": null,
      "bottom": null,
      "display": null,
      "flex": null,
      "flex_flow": null,
      "grid_area": null,
      "grid_auto_columns": null,
      "grid_auto_flow": null,
      "grid_auto_rows": null,
      "grid_column": null,
      "grid_gap": null,
      "grid_row": null,
      "grid_template_areas": null,
      "grid_template_columns": null,
      "grid_template_rows": null,
      "height": null,
      "justify_content": null,
      "justify_items": null,
      "left": null,
      "margin": null,
      "max_height": null,
      "max_width": null,
      "min_height": null,
      "min_width": null,
      "object_fit": null,
      "object_position": null,
      "order": null,
      "overflow": null,
      "overflow_x": null,
      "overflow_y": null,
      "padding": null,
      "right": null,
      "top": null,
      "visibility": null,
      "width": null
     }
    },
    "aaaa638d3f1c41c6a4f63d96afc15db3": {
     "model_module": "@jupyter-widgets/base",
     "model_module_version": "1.2.0",
     "model_name": "LayoutModel",
     "state": {
      "_model_module": "@jupyter-widgets/base",
      "_model_module_version": "1.2.0",
      "_model_name": "LayoutModel",
      "_view_count": null,
      "_view_module": "@jupyter-widgets/base",
      "_view_module_version": "1.2.0",
      "_view_name": "LayoutView",
      "align_content": null,
      "align_items": null,
      "align_self": null,
      "border": null,
      "bottom": null,
      "display": null,
      "flex": null,
      "flex_flow": null,
      "grid_area": null,
      "grid_auto_columns": null,
      "grid_auto_flow": null,
      "grid_auto_rows": null,
      "grid_column": null,
      "grid_gap": null,
      "grid_row": null,
      "grid_template_areas": null,
      "grid_template_columns": null,
      "grid_template_rows": null,
      "height": null,
      "justify_content": null,
      "justify_items": null,
      "left": null,
      "margin": null,
      "max_height": null,
      "max_width": null,
      "min_height": null,
      "min_width": null,
      "object_fit": null,
      "object_position": null,
      "order": null,
      "overflow": null,
      "overflow_x": null,
      "overflow_y": null,
      "padding": null,
      "right": null,
      "top": null,
      "visibility": null,
      "width": null
     }
    },
    "acd6e8fc6cef46c29f8d7faf5d8d6542": {
     "model_module": "@jupyter-widgets/controls",
     "model_module_version": "1.5.0",
     "model_name": "HBoxModel",
     "state": {
      "_dom_classes": [],
      "_model_module": "@jupyter-widgets/controls",
      "_model_module_version": "1.5.0",
      "_model_name": "HBoxModel",
      "_view_count": null,
      "_view_module": "@jupyter-widgets/controls",
      "_view_module_version": "1.5.0",
      "_view_name": "HBoxView",
      "box_style": "",
      "children": [
       "IPY_MODEL_19ebbf2415a945c1bcdfc405c7526793",
       "IPY_MODEL_45fc3083549743d6839580c295815ea3",
       "IPY_MODEL_4a604e0397ef47228ce4efc22be84385"
      ],
      "layout": "IPY_MODEL_c987e66f53984ef69c3c071ff3b58af1"
     }
    },
    "adcdb3008cbb416eaf4165286c2462e2": {
     "model_module": "@jupyter-widgets/base",
     "model_module_version": "1.2.0",
     "model_name": "LayoutModel",
     "state": {
      "_model_module": "@jupyter-widgets/base",
      "_model_module_version": "1.2.0",
      "_model_name": "LayoutModel",
      "_view_count": null,
      "_view_module": "@jupyter-widgets/base",
      "_view_module_version": "1.2.0",
      "_view_name": "LayoutView",
      "align_content": null,
      "align_items": null,
      "align_self": null,
      "border": null,
      "bottom": null,
      "display": null,
      "flex": null,
      "flex_flow": null,
      "grid_area": null,
      "grid_auto_columns": null,
      "grid_auto_flow": null,
      "grid_auto_rows": null,
      "grid_column": null,
      "grid_gap": null,
      "grid_row": null,
      "grid_template_areas": null,
      "grid_template_columns": null,
      "grid_template_rows": null,
      "height": null,
      "justify_content": null,
      "justify_items": null,
      "left": null,
      "margin": null,
      "max_height": null,
      "max_width": null,
      "min_height": null,
      "min_width": null,
      "object_fit": null,
      "object_position": null,
      "order": null,
      "overflow": null,
      "overflow_x": null,
      "overflow_y": null,
      "padding": null,
      "right": null,
      "top": null,
      "visibility": null,
      "width": null
     }
    },
    "ae0700837e0242f1b60cc247d5991ac4": {
     "model_module": "@jupyter-widgets/base",
     "model_module_version": "1.2.0",
     "model_name": "LayoutModel",
     "state": {
      "_model_module": "@jupyter-widgets/base",
      "_model_module_version": "1.2.0",
      "_model_name": "LayoutModel",
      "_view_count": null,
      "_view_module": "@jupyter-widgets/base",
      "_view_module_version": "1.2.0",
      "_view_name": "LayoutView",
      "align_content": null,
      "align_items": null,
      "align_self": null,
      "border": null,
      "bottom": null,
      "display": null,
      "flex": null,
      "flex_flow": null,
      "grid_area": null,
      "grid_auto_columns": null,
      "grid_auto_flow": null,
      "grid_auto_rows": null,
      "grid_column": null,
      "grid_gap": null,
      "grid_row": null,
      "grid_template_areas": null,
      "grid_template_columns": null,
      "grid_template_rows": null,
      "height": null,
      "justify_content": null,
      "justify_items": null,
      "left": null,
      "margin": null,
      "max_height": null,
      "max_width": null,
      "min_height": null,
      "min_width": null,
      "object_fit": null,
      "object_position": null,
      "order": null,
      "overflow": null,
      "overflow_x": null,
      "overflow_y": null,
      "padding": null,
      "right": null,
      "top": null,
      "visibility": null,
      "width": null
     }
    },
    "aee41811b6874f90b50e14462783f75a": {
     "model_module": "@jupyter-widgets/controls",
     "model_module_version": "1.5.0",
     "model_name": "HTMLModel",
     "state": {
      "_dom_classes": [],
      "_model_module": "@jupyter-widgets/controls",
      "_model_module_version": "1.5.0",
      "_model_name": "HTMLModel",
      "_view_count": null,
      "_view_module": "@jupyter-widgets/controls",
      "_view_module_version": "1.5.0",
      "_view_name": "HTMLView",
      "description": "",
      "description_tooltip": null,
      "layout": "IPY_MODEL_f094051b43694a139efe99c976de6510",
      "placeholder": "​",
      "style": "IPY_MODEL_2d4db09e16774d039cb85b81bf6c4635",
      "value": "100%"
     }
    },
    "b0cd67a9fffe453ea71a26714d426fc1": {
     "model_module": "@jupyter-widgets/base",
     "model_module_version": "1.2.0",
     "model_name": "LayoutModel",
     "state": {
      "_model_module": "@jupyter-widgets/base",
      "_model_module_version": "1.2.0",
      "_model_name": "LayoutModel",
      "_view_count": null,
      "_view_module": "@jupyter-widgets/base",
      "_view_module_version": "1.2.0",
      "_view_name": "LayoutView",
      "align_content": null,
      "align_items": null,
      "align_self": null,
      "border": null,
      "bottom": null,
      "display": null,
      "flex": null,
      "flex_flow": null,
      "grid_area": null,
      "grid_auto_columns": null,
      "grid_auto_flow": null,
      "grid_auto_rows": null,
      "grid_column": null,
      "grid_gap": null,
      "grid_row": null,
      "grid_template_areas": null,
      "grid_template_columns": null,
      "grid_template_rows": null,
      "height": null,
      "justify_content": null,
      "justify_items": null,
      "left": null,
      "margin": null,
      "max_height": null,
      "max_width": null,
      "min_height": null,
      "min_width": null,
      "object_fit": null,
      "object_position": null,
      "order": null,
      "overflow": null,
      "overflow_x": null,
      "overflow_y": null,
      "padding": null,
      "right": null,
      "top": null,
      "visibility": null,
      "width": null
     }
    },
    "b3970beb9fe540d3bbf52de0ad96f3f0": {
     "model_module": "@jupyter-widgets/controls",
     "model_module_version": "1.5.0",
     "model_name": "HTMLModel",
     "state": {
      "_dom_classes": [],
      "_model_module": "@jupyter-widgets/controls",
      "_model_module_version": "1.5.0",
      "_model_name": "HTMLModel",
      "_view_count": null,
      "_view_module": "@jupyter-widgets/controls",
      "_view_module_version": "1.5.0",
      "_view_name": "HTMLView",
      "description": "",
      "description_tooltip": null,
      "layout": "IPY_MODEL_994145c0fcd945c2b2240ad8288d91d8",
      "placeholder": "​",
      "style": "IPY_MODEL_56d1a26ef96b4229a574c6cf4d78c79b",
      "value": " 20000/20000 [06:40&lt;00:00, 24.67it/s]"
     }
    },
    "b4d908a3696b46eca083512a157c1e42": {
     "model_module": "@jupyter-widgets/controls",
     "model_module_version": "1.5.0",
     "model_name": "DescriptionStyleModel",
     "state": {
      "_model_module": "@jupyter-widgets/controls",
      "_model_module_version": "1.5.0",
      "_model_name": "DescriptionStyleModel",
      "_view_count": null,
      "_view_module": "@jupyter-widgets/base",
      "_view_module_version": "1.2.0",
      "_view_name": "StyleView",
      "description_width": ""
     }
    },
    "b504855d1b804ec19ffadc133065a95b": {
     "model_module": "@jupyter-widgets/base",
     "model_module_version": "1.2.0",
     "model_name": "LayoutModel",
     "state": {
      "_model_module": "@jupyter-widgets/base",
      "_model_module_version": "1.2.0",
      "_model_name": "LayoutModel",
      "_view_count": null,
      "_view_module": "@jupyter-widgets/base",
      "_view_module_version": "1.2.0",
      "_view_name": "LayoutView",
      "align_content": null,
      "align_items": null,
      "align_self": null,
      "border": null,
      "bottom": null,
      "display": null,
      "flex": null,
      "flex_flow": null,
      "grid_area": null,
      "grid_auto_columns": null,
      "grid_auto_flow": null,
      "grid_auto_rows": null,
      "grid_column": null,
      "grid_gap": null,
      "grid_row": null,
      "grid_template_areas": null,
      "grid_template_columns": null,
      "grid_template_rows": null,
      "height": null,
      "justify_content": null,
      "justify_items": null,
      "left": null,
      "margin": null,
      "max_height": null,
      "max_width": null,
      "min_height": null,
      "min_width": null,
      "object_fit": null,
      "object_position": null,
      "order": null,
      "overflow": null,
      "overflow_x": null,
      "overflow_y": null,
      "padding": null,
      "right": null,
      "top": null,
      "visibility": null,
      "width": null
     }
    },
    "b7fad1ed21f0437f93385b1f1b1670ac": {
     "model_module": "@jupyter-widgets/controls",
     "model_module_version": "1.5.0",
     "model_name": "FloatProgressModel",
     "state": {
      "_dom_classes": [],
      "_model_module": "@jupyter-widgets/controls",
      "_model_module_version": "1.5.0",
      "_model_name": "FloatProgressModel",
      "_view_count": null,
      "_view_module": "@jupyter-widgets/controls",
      "_view_module_version": "1.5.0",
      "_view_name": "ProgressView",
      "bar_style": "success",
      "description": "",
      "description_tooltip": null,
      "layout": "IPY_MODEL_c3a0e7d61b3943edbb0ab45735823564",
      "max": 4,
      "min": 0,
      "orientation": "horizontal",
      "style": "IPY_MODEL_8d2a2ad1335c4b438395f6268b2e5683",
      "value": 4
     }
    },
    "b929d52e13e54889838e5ba61995880a": {
     "model_module": "@jupyter-widgets/controls",
     "model_module_version": "1.5.0",
     "model_name": "ProgressStyleModel",
     "state": {
      "_model_module": "@jupyter-widgets/controls",
      "_model_module_version": "1.5.0",
      "_model_name": "ProgressStyleModel",
      "_view_count": null,
      "_view_module": "@jupyter-widgets/base",
      "_view_module_version": "1.2.0",
      "_view_name": "StyleView",
      "bar_color": null,
      "description_width": ""
     }
    },
    "b9604bf2ec114662a7e6e059be464e2e": {
     "model_module": "@jupyter-widgets/controls",
     "model_module_version": "1.5.0",
     "model_name": "HTMLModel",
     "state": {
      "_dom_classes": [],
      "_model_module": "@jupyter-widgets/controls",
      "_model_module_version": "1.5.0",
      "_model_name": "HTMLModel",
      "_view_count": null,
      "_view_module": "@jupyter-widgets/controls",
      "_view_module_version": "1.5.0",
      "_view_name": "HTMLView",
      "description": "",
      "description_tooltip": null,
      "layout": "IPY_MODEL_2545f129c78b4dce80828c0d356468c4",
      "placeholder": "​",
      "style": "IPY_MODEL_70e49497eeb3405fb2dabb44890c990d",
      "value": "100%"
     }
    },
    "b98a45f1f3cf4057bca9b51fb6e38db7": {
     "model_module": "@jupyter-widgets/controls",
     "model_module_version": "1.5.0",
     "model_name": "DescriptionStyleModel",
     "state": {
      "_model_module": "@jupyter-widgets/controls",
      "_model_module_version": "1.5.0",
      "_model_name": "DescriptionStyleModel",
      "_view_count": null,
      "_view_module": "@jupyter-widgets/base",
      "_view_module_version": "1.2.0",
      "_view_name": "StyleView",
      "description_width": ""
     }
    },
    "b9947d406dfc404f803fb56b6e984424": {
     "model_module": "@jupyter-widgets/controls",
     "model_module_version": "1.5.0",
     "model_name": "HBoxModel",
     "state": {
      "_dom_classes": [],
      "_model_module": "@jupyter-widgets/controls",
      "_model_module_version": "1.5.0",
      "_model_name": "HBoxModel",
      "_view_count": null,
      "_view_module": "@jupyter-widgets/controls",
      "_view_module_version": "1.5.0",
      "_view_name": "HBoxView",
      "box_style": "",
      "children": [
       "IPY_MODEL_aee41811b6874f90b50e14462783f75a",
       "IPY_MODEL_8e65154df0964bfeb3ca1dc950af8db9",
       "IPY_MODEL_1ae7c9411fdb46718959383c02b28780"
      ],
      "layout": "IPY_MODEL_81569c0e33bd442aa54f5b3a701d1bb3"
     }
    },
    "b9e89b7628f54bc2a2d29f63fbe5b2ea": {
     "model_module": "@jupyter-widgets/base",
     "model_module_version": "1.2.0",
     "model_name": "LayoutModel",
     "state": {
      "_model_module": "@jupyter-widgets/base",
      "_model_module_version": "1.2.0",
      "_model_name": "LayoutModel",
      "_view_count": null,
      "_view_module": "@jupyter-widgets/base",
      "_view_module_version": "1.2.0",
      "_view_name": "LayoutView",
      "align_content": null,
      "align_items": null,
      "align_self": null,
      "border": null,
      "bottom": null,
      "display": null,
      "flex": null,
      "flex_flow": null,
      "grid_area": null,
      "grid_auto_columns": null,
      "grid_auto_flow": null,
      "grid_auto_rows": null,
      "grid_column": null,
      "grid_gap": null,
      "grid_row": null,
      "grid_template_areas": null,
      "grid_template_columns": null,
      "grid_template_rows": null,
      "height": null,
      "justify_content": null,
      "justify_items": null,
      "left": null,
      "margin": null,
      "max_height": null,
      "max_width": null,
      "min_height": null,
      "min_width": null,
      "object_fit": null,
      "object_position": null,
      "order": null,
      "overflow": null,
      "overflow_x": null,
      "overflow_y": null,
      "padding": null,
      "right": null,
      "top": null,
      "visibility": null,
      "width": null
     }
    },
    "c2340a7717cd44409de1803974ed5430": {
     "model_module": "@jupyter-widgets/controls",
     "model_module_version": "1.5.0",
     "model_name": "DescriptionStyleModel",
     "state": {
      "_model_module": "@jupyter-widgets/controls",
      "_model_module_version": "1.5.0",
      "_model_name": "DescriptionStyleModel",
      "_view_count": null,
      "_view_module": "@jupyter-widgets/base",
      "_view_module_version": "1.2.0",
      "_view_name": "StyleView",
      "description_width": ""
     }
    },
    "c3a0e7d61b3943edbb0ab45735823564": {
     "model_module": "@jupyter-widgets/base",
     "model_module_version": "1.2.0",
     "model_name": "LayoutModel",
     "state": {
      "_model_module": "@jupyter-widgets/base",
      "_model_module_version": "1.2.0",
      "_model_name": "LayoutModel",
      "_view_count": null,
      "_view_module": "@jupyter-widgets/base",
      "_view_module_version": "1.2.0",
      "_view_name": "LayoutView",
      "align_content": null,
      "align_items": null,
      "align_self": null,
      "border": null,
      "bottom": null,
      "display": null,
      "flex": null,
      "flex_flow": null,
      "grid_area": null,
      "grid_auto_columns": null,
      "grid_auto_flow": null,
      "grid_auto_rows": null,
      "grid_column": null,
      "grid_gap": null,
      "grid_row": null,
      "grid_template_areas": null,
      "grid_template_columns": null,
      "grid_template_rows": null,
      "height": null,
      "justify_content": null,
      "justify_items": null,
      "left": null,
      "margin": null,
      "max_height": null,
      "max_width": null,
      "min_height": null,
      "min_width": null,
      "object_fit": null,
      "object_position": null,
      "order": null,
      "overflow": null,
      "overflow_x": null,
      "overflow_y": null,
      "padding": null,
      "right": null,
      "top": null,
      "visibility": null,
      "width": null
     }
    },
    "c987e66f53984ef69c3c071ff3b58af1": {
     "model_module": "@jupyter-widgets/base",
     "model_module_version": "1.2.0",
     "model_name": "LayoutModel",
     "state": {
      "_model_module": "@jupyter-widgets/base",
      "_model_module_version": "1.2.0",
      "_model_name": "LayoutModel",
      "_view_count": null,
      "_view_module": "@jupyter-widgets/base",
      "_view_module_version": "1.2.0",
      "_view_name": "LayoutView",
      "align_content": null,
      "align_items": null,
      "align_self": null,
      "border": null,
      "bottom": null,
      "display": null,
      "flex": null,
      "flex_flow": null,
      "grid_area": null,
      "grid_auto_columns": null,
      "grid_auto_flow": null,
      "grid_auto_rows": null,
      "grid_column": null,
      "grid_gap": null,
      "grid_row": null,
      "grid_template_areas": null,
      "grid_template_columns": null,
      "grid_template_rows": null,
      "height": null,
      "justify_content": null,
      "justify_items": null,
      "left": null,
      "margin": null,
      "max_height": null,
      "max_width": null,
      "min_height": null,
      "min_width": null,
      "object_fit": null,
      "object_position": null,
      "order": null,
      "overflow": null,
      "overflow_x": null,
      "overflow_y": null,
      "padding": null,
      "right": null,
      "top": null,
      "visibility": null,
      "width": null
     }
    },
    "cb43113b30954feebf6055315162f70b": {
     "model_module": "@jupyter-widgets/controls",
     "model_module_version": "1.5.0",
     "model_name": "HTMLModel",
     "state": {
      "_dom_classes": [],
      "_model_module": "@jupyter-widgets/controls",
      "_model_module_version": "1.5.0",
      "_model_name": "HTMLModel",
      "_view_count": null,
      "_view_module": "@jupyter-widgets/controls",
      "_view_module_version": "1.5.0",
      "_view_name": "HTMLView",
      "description": "",
      "description_tooltip": null,
      "layout": "IPY_MODEL_b9e89b7628f54bc2a2d29f63fbe5b2ea",
      "placeholder": "​",
      "style": "IPY_MODEL_703ec9430df1439c9e695f7285aacff1",
      "value": "100%"
     }
    },
    "cbc56f7d5504472a9c7c437265108369": {
     "model_module": "@jupyter-widgets/controls",
     "model_module_version": "1.5.0",
     "model_name": "HTMLModel",
     "state": {
      "_dom_classes": [],
      "_model_module": "@jupyter-widgets/controls",
      "_model_module_version": "1.5.0",
      "_model_name": "HTMLModel",
      "_view_count": null,
      "_view_module": "@jupyter-widgets/controls",
      "_view_module_version": "1.5.0",
      "_view_name": "HTMLView",
      "description": "",
      "description_tooltip": null,
      "layout": "IPY_MODEL_e13df857e8f6458996e6a6bf32f2020d",
      "placeholder": "​",
      "style": "IPY_MODEL_9ced9ea79cda4561af67d317685cf942",
      "value": "100%"
     }
    },
    "ccf71fb474294b26874b8ad605c6b0a1": {
     "model_module": "@jupyter-widgets/controls",
     "model_module_version": "1.5.0",
     "model_name": "ProgressStyleModel",
     "state": {
      "_model_module": "@jupyter-widgets/controls",
      "_model_module_version": "1.5.0",
      "_model_name": "ProgressStyleModel",
      "_view_count": null,
      "_view_module": "@jupyter-widgets/base",
      "_view_module_version": "1.2.0",
      "_view_name": "StyleView",
      "bar_color": null,
      "description_width": ""
     }
    },
    "cdf461314c5948df81b60e0e144329b9": {
     "model_module": "@jupyter-widgets/controls",
     "model_module_version": "1.5.0",
     "model_name": "FloatProgressModel",
     "state": {
      "_dom_classes": [],
      "_model_module": "@jupyter-widgets/controls",
      "_model_module_version": "1.5.0",
      "_model_name": "FloatProgressModel",
      "_view_count": null,
      "_view_module": "@jupyter-widgets/controls",
      "_view_module_version": "1.5.0",
      "_view_name": "ProgressView",
      "bar_style": "success",
      "description": "",
      "description_tooltip": null,
      "layout": "IPY_MODEL_aa159c5819344d13846e4ec4f5a591d7",
      "max": 4,
      "min": 0,
      "orientation": "horizontal",
      "style": "IPY_MODEL_2c1e68b0eda940029598d2571f2262e3",
      "value": 4
     }
    },
    "cf8455602994408f8988c498a77c8d98": {
     "model_module": "@jupyter-widgets/base",
     "model_module_version": "1.2.0",
     "model_name": "LayoutModel",
     "state": {
      "_model_module": "@jupyter-widgets/base",
      "_model_module_version": "1.2.0",
      "_model_name": "LayoutModel",
      "_view_count": null,
      "_view_module": "@jupyter-widgets/base",
      "_view_module_version": "1.2.0",
      "_view_name": "LayoutView",
      "align_content": null,
      "align_items": null,
      "align_self": null,
      "border": null,
      "bottom": null,
      "display": null,
      "flex": null,
      "flex_flow": null,
      "grid_area": null,
      "grid_auto_columns": null,
      "grid_auto_flow": null,
      "grid_auto_rows": null,
      "grid_column": null,
      "grid_gap": null,
      "grid_row": null,
      "grid_template_areas": null,
      "grid_template_columns": null,
      "grid_template_rows": null,
      "height": null,
      "justify_content": null,
      "justify_items": null,
      "left": null,
      "margin": null,
      "max_height": null,
      "max_width": null,
      "min_height": null,
      "min_width": null,
      "object_fit": null,
      "object_position": null,
      "order": null,
      "overflow": null,
      "overflow_x": null,
      "overflow_y": null,
      "padding": null,
      "right": null,
      "top": null,
      "visibility": null,
      "width": null
     }
    },
    "d08f7ba00bb64296a3d3b4ea8de0cf36": {
     "model_module": "@jupyter-widgets/controls",
     "model_module_version": "1.5.0",
     "model_name": "DescriptionStyleModel",
     "state": {
      "_model_module": "@jupyter-widgets/controls",
      "_model_module_version": "1.5.0",
      "_model_name": "DescriptionStyleModel",
      "_view_count": null,
      "_view_module": "@jupyter-widgets/base",
      "_view_module_version": "1.2.0",
      "_view_name": "StyleView",
      "description_width": ""
     }
    },
    "d7cb699f87894e8585c36a2ec320f646": {
     "model_module": "@jupyter-widgets/base",
     "model_module_version": "1.2.0",
     "model_name": "LayoutModel",
     "state": {
      "_model_module": "@jupyter-widgets/base",
      "_model_module_version": "1.2.0",
      "_model_name": "LayoutModel",
      "_view_count": null,
      "_view_module": "@jupyter-widgets/base",
      "_view_module_version": "1.2.0",
      "_view_name": "LayoutView",
      "align_content": null,
      "align_items": null,
      "align_self": null,
      "border": null,
      "bottom": null,
      "display": null,
      "flex": null,
      "flex_flow": null,
      "grid_area": null,
      "grid_auto_columns": null,
      "grid_auto_flow": null,
      "grid_auto_rows": null,
      "grid_column": null,
      "grid_gap": null,
      "grid_row": null,
      "grid_template_areas": null,
      "grid_template_columns": null,
      "grid_template_rows": null,
      "height": null,
      "justify_content": null,
      "justify_items": null,
      "left": null,
      "margin": null,
      "max_height": null,
      "max_width": null,
      "min_height": null,
      "min_width": null,
      "object_fit": null,
      "object_position": null,
      "order": null,
      "overflow": null,
      "overflow_x": null,
      "overflow_y": null,
      "padding": null,
      "right": null,
      "top": null,
      "visibility": null,
      "width": null
     }
    },
    "dc84ae3ec0c24cee9ce32202a6814852": {
     "model_module": "@jupyter-widgets/base",
     "model_module_version": "1.2.0",
     "model_name": "LayoutModel",
     "state": {
      "_model_module": "@jupyter-widgets/base",
      "_model_module_version": "1.2.0",
      "_model_name": "LayoutModel",
      "_view_count": null,
      "_view_module": "@jupyter-widgets/base",
      "_view_module_version": "1.2.0",
      "_view_name": "LayoutView",
      "align_content": null,
      "align_items": null,
      "align_self": null,
      "border": null,
      "bottom": null,
      "display": null,
      "flex": null,
      "flex_flow": null,
      "grid_area": null,
      "grid_auto_columns": null,
      "grid_auto_flow": null,
      "grid_auto_rows": null,
      "grid_column": null,
      "grid_gap": null,
      "grid_row": null,
      "grid_template_areas": null,
      "grid_template_columns": null,
      "grid_template_rows": null,
      "height": null,
      "justify_content": null,
      "justify_items": null,
      "left": null,
      "margin": null,
      "max_height": null,
      "max_width": null,
      "min_height": null,
      "min_width": null,
      "object_fit": null,
      "object_position": null,
      "order": null,
      "overflow": null,
      "overflow_x": null,
      "overflow_y": null,
      "padding": null,
      "right": null,
      "top": null,
      "visibility": null,
      "width": null
     }
    },
    "ddf26df706de476aac418720dbfd2126": {
     "model_module": "@jupyter-widgets/controls",
     "model_module_version": "1.5.0",
     "model_name": "FloatProgressModel",
     "state": {
      "_dom_classes": [],
      "_model_module": "@jupyter-widgets/controls",
      "_model_module_version": "1.5.0",
      "_model_name": "FloatProgressModel",
      "_view_count": null,
      "_view_module": "@jupyter-widgets/controls",
      "_view_module_version": "1.5.0",
      "_view_name": "ProgressView",
      "bar_style": "success",
      "description": "",
      "description_tooltip": null,
      "layout": "IPY_MODEL_20945d41dfce49019d2e37e4248a8a53",
      "max": 50000,
      "min": 0,
      "orientation": "horizontal",
      "style": "IPY_MODEL_272b19e841594e309bdb041863c9f9ae",
      "value": 50000
     }
    },
    "e13df857e8f6458996e6a6bf32f2020d": {
     "model_module": "@jupyter-widgets/base",
     "model_module_version": "1.2.0",
     "model_name": "LayoutModel",
     "state": {
      "_model_module": "@jupyter-widgets/base",
      "_model_module_version": "1.2.0",
      "_model_name": "LayoutModel",
      "_view_count": null,
      "_view_module": "@jupyter-widgets/base",
      "_view_module_version": "1.2.0",
      "_view_name": "LayoutView",
      "align_content": null,
      "align_items": null,
      "align_self": null,
      "border": null,
      "bottom": null,
      "display": null,
      "flex": null,
      "flex_flow": null,
      "grid_area": null,
      "grid_auto_columns": null,
      "grid_auto_flow": null,
      "grid_auto_rows": null,
      "grid_column": null,
      "grid_gap": null,
      "grid_row": null,
      "grid_template_areas": null,
      "grid_template_columns": null,
      "grid_template_rows": null,
      "height": null,
      "justify_content": null,
      "justify_items": null,
      "left": null,
      "margin": null,
      "max_height": null,
      "max_width": null,
      "min_height": null,
      "min_width": null,
      "object_fit": null,
      "object_position": null,
      "order": null,
      "overflow": null,
      "overflow_x": null,
      "overflow_y": null,
      "padding": null,
      "right": null,
      "top": null,
      "visibility": null,
      "width": null
     }
    },
    "e2702ae9d11b41a8bfae0cc75651f166": {
     "model_module": "@jupyter-widgets/controls",
     "model_module_version": "1.5.0",
     "model_name": "HTMLModel",
     "state": {
      "_dom_classes": [],
      "_model_module": "@jupyter-widgets/controls",
      "_model_module_version": "1.5.0",
      "_model_name": "HTMLModel",
      "_view_count": null,
      "_view_module": "@jupyter-widgets/controls",
      "_view_module_version": "1.5.0",
      "_view_name": "HTMLView",
      "description": "",
      "description_tooltip": null,
      "layout": "IPY_MODEL_d7cb699f87894e8585c36a2ec320f646",
      "placeholder": "​",
      "style": "IPY_MODEL_910821af6d264dc8b5df2dc07d1a8f46",
      "value": "100%"
     }
    },
    "e818c1488a514e849a7d8d5d65d59763": {
     "model_module": "@jupyter-widgets/controls",
     "model_module_version": "1.5.0",
     "model_name": "FloatProgressModel",
     "state": {
      "_dom_classes": [],
      "_model_module": "@jupyter-widgets/controls",
      "_model_module_version": "1.5.0",
      "_model_name": "FloatProgressModel",
      "_view_count": null,
      "_view_module": "@jupyter-widgets/controls",
      "_view_module_version": "1.5.0",
      "_view_name": "ProgressView",
      "bar_style": "success",
      "description": "",
      "description_tooltip": null,
      "layout": "IPY_MODEL_59cfc4b16ccc43a19319460c00ebafa9",
      "max": 20000,
      "min": 0,
      "orientation": "horizontal",
      "style": "IPY_MODEL_b929d52e13e54889838e5ba61995880a",
      "value": 20000
     }
    },
    "e91aa3d8804f49919526e64991e06332": {
     "model_module": "@jupyter-widgets/controls",
     "model_module_version": "1.5.0",
     "model_name": "HBoxModel",
     "state": {
      "_dom_classes": [],
      "_model_module": "@jupyter-widgets/controls",
      "_model_module_version": "1.5.0",
      "_model_name": "HBoxModel",
      "_view_count": null,
      "_view_module": "@jupyter-widgets/controls",
      "_view_module_version": "1.5.0",
      "_view_name": "HBoxView",
      "box_style": "",
      "children": [
       "IPY_MODEL_cb43113b30954feebf6055315162f70b",
       "IPY_MODEL_e818c1488a514e849a7d8d5d65d59763",
       "IPY_MODEL_b3970beb9fe540d3bbf52de0ad96f3f0"
      ],
      "layout": "IPY_MODEL_a2e013c75a1b4fdb842adb5140c0a74d"
     }
    },
    "f02b8f40c7554770ab6e41cabcd9e75e": {
     "model_module": "@jupyter-widgets/controls",
     "model_module_version": "1.5.0",
     "model_name": "DescriptionStyleModel",
     "state": {
      "_model_module": "@jupyter-widgets/controls",
      "_model_module_version": "1.5.0",
      "_model_name": "DescriptionStyleModel",
      "_view_count": null,
      "_view_module": "@jupyter-widgets/base",
      "_view_module_version": "1.2.0",
      "_view_name": "StyleView",
      "description_width": ""
     }
    },
    "f094051b43694a139efe99c976de6510": {
     "model_module": "@jupyter-widgets/base",
     "model_module_version": "1.2.0",
     "model_name": "LayoutModel",
     "state": {
      "_model_module": "@jupyter-widgets/base",
      "_model_module_version": "1.2.0",
      "_model_name": "LayoutModel",
      "_view_count": null,
      "_view_module": "@jupyter-widgets/base",
      "_view_module_version": "1.2.0",
      "_view_name": "LayoutView",
      "align_content": null,
      "align_items": null,
      "align_self": null,
      "border": null,
      "bottom": null,
      "display": null,
      "flex": null,
      "flex_flow": null,
      "grid_area": null,
      "grid_auto_columns": null,
      "grid_auto_flow": null,
      "grid_auto_rows": null,
      "grid_column": null,
      "grid_gap": null,
      "grid_row": null,
      "grid_template_areas": null,
      "grid_template_columns": null,
      "grid_template_rows": null,
      "height": null,
      "justify_content": null,
      "justify_items": null,
      "left": null,
      "margin": null,
      "max_height": null,
      "max_width": null,
      "min_height": null,
      "min_width": null,
      "object_fit": null,
      "object_position": null,
      "order": null,
      "overflow": null,
      "overflow_x": null,
      "overflow_y": null,
      "padding": null,
      "right": null,
      "top": null,
      "visibility": null,
      "width": null
     }
    },
    "f12a3f81e7164d0a94cd197c670648a2": {
     "model_module": "@jupyter-widgets/controls",
     "model_module_version": "1.5.0",
     "model_name": "HBoxModel",
     "state": {
      "_dom_classes": [],
      "_model_module": "@jupyter-widgets/controls",
      "_model_module_version": "1.5.0",
      "_model_name": "HBoxModel",
      "_view_count": null,
      "_view_module": "@jupyter-widgets/controls",
      "_view_module_version": "1.5.0",
      "_view_name": "HBoxView",
      "box_style": "",
      "children": [
       "IPY_MODEL_82ff48ded2e849c280642636a73a01b8",
       "IPY_MODEL_312522d77c624aafb929bbbb2c627535",
       "IPY_MODEL_2e02839b35114826a8d6bb71688ed303"
      ],
      "layout": "IPY_MODEL_28b6deb0b98a4c9a8179dcafadc0d458"
     }
    },
    "f96ba6ffef1541e1963807bf043c8898": {
     "model_module": "@jupyter-widgets/controls",
     "model_module_version": "1.5.0",
     "model_name": "ProgressStyleModel",
     "state": {
      "_model_module": "@jupyter-widgets/controls",
      "_model_module_version": "1.5.0",
      "_model_name": "ProgressStyleModel",
      "_view_count": null,
      "_view_module": "@jupyter-widgets/base",
      "_view_module_version": "1.2.0",
      "_view_name": "StyleView",
      "bar_color": null,
      "description_width": ""
     }
    },
    "fc9638b2d5744de3b15a1a46447bd32c": {
     "model_module": "@jupyter-widgets/controls",
     "model_module_version": "1.5.0",
     "model_name": "HBoxModel",
     "state": {
      "_dom_classes": [],
      "_model_module": "@jupyter-widgets/controls",
      "_model_module_version": "1.5.0",
      "_model_name": "HBoxModel",
      "_view_count": null,
      "_view_module": "@jupyter-widgets/controls",
      "_view_module_version": "1.5.0",
      "_view_name": "HBoxView",
      "box_style": "",
      "children": [
       "IPY_MODEL_cbc56f7d5504472a9c7c437265108369",
       "IPY_MODEL_3d54fee9d2ef4390b9f63af5b92b58eb",
       "IPY_MODEL_5e78f5479b4c4e64ad9e4613c5ab09ca"
      ],
      "layout": "IPY_MODEL_509361b7a4264048845345e674f24549"
     }
    }
   }
  }
 },
 "nbformat": 4,
 "nbformat_minor": 1
}
